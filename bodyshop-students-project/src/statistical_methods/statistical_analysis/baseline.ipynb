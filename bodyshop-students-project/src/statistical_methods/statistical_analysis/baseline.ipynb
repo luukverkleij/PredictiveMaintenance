{
 "cells": [
  {
   "cell_type": "code",
   "execution_count": 1,
   "id": "initial_id",
   "metadata": {
    "ExecuteTime": {
     "end_time": "2024-06-26T10:15:01.472314Z",
     "start_time": "2024-06-26T10:15:00.351289Z"
    }
   },
   "outputs": [],
   "source": [
    "import numpy as np \n",
    "import matplotlib.pyplot as plt \n",
    "import pandas as pd \n",
    "import src.data.utils as utils\n",
    "import os"
   ]
  },
  {
   "cell_type": "code",
   "execution_count": null,
   "id": "9e90f633cc844ea",
   "metadata": {},
   "outputs": [],
   "source": [
    "# !pip install outlier-utils"
   ]
  },
  {
   "cell_type": "markdown",
   "id": "16cbd8cacc2b1b21",
   "metadata": {},
   "source": [
    "## Load Data"
   ]
  },
  {
   "cell_type": "code",
   "execution_count": 2,
   "id": "460d9c6463aee186",
   "metadata": {
    "ExecuteTime": {
     "end_time": "2024-06-25T12:58:12.883099Z",
     "start_time": "2024-06-25T12:58:10.569179Z"
    }
   },
   "outputs": [
    {
     "name": "stdout",
     "output_type": "stream",
     "text": [
      "Loaded dataset: \\cleaned_data\\additional_data_cleaned.parquet\n"
     ]
    }
   ],
   "source": [
    "df = utils.load_dataset(0) # loading cleaned dataset"
   ]
  },
  {
   "cell_type": "code",
   "execution_count": 3,
   "id": "fb6b2825219ffada",
   "metadata": {
    "ExecuteTime": {
     "end_time": "2024-06-25T13:27:45.852078Z",
     "start_time": "2024-06-25T13:27:45.560846Z"
    }
   },
   "outputs": [
    {
     "data": {
      "text/html": [
       "<div>\n",
       "<style scoped>\n",
       "    .dataframe tbody tr th:only-of-type {\n",
       "        vertical-align: middle;\n",
       "    }\n",
       "\n",
       "    .dataframe tbody tr th {\n",
       "        vertical-align: top;\n",
       "    }\n",
       "\n",
       "    .dataframe thead th {\n",
       "        text-align: right;\n",
       "    }\n",
       "</style>\n",
       "<table border=\"1\" class=\"dataframe\">\n",
       "  <thead>\n",
       "    <tr style=\"text-align: right;\">\n",
       "      <th></th>\n",
       "      <th>id</th>\n",
       "      <th>timeindex</th>\n",
       "      <th>torqueactual</th>\n",
       "    </tr>\n",
       "  </thead>\n",
       "  <tbody>\n",
       "    <tr>\n",
       "      <th>0</th>\n",
       "      <td>6640-101753|2021-03-01_10:37:33</td>\n",
       "      <td>0.01</td>\n",
       "      <td>-0.015558</td>\n",
       "    </tr>\n",
       "    <tr>\n",
       "      <th>1</th>\n",
       "      <td>6640-101753|2021-03-01_10:37:33</td>\n",
       "      <td>0.02</td>\n",
       "      <td>0.079586</td>\n",
       "    </tr>\n",
       "    <tr>\n",
       "      <th>2</th>\n",
       "      <td>6640-101753|2021-03-01_10:37:33</td>\n",
       "      <td>0.03</td>\n",
       "      <td>0.035336</td>\n",
       "    </tr>\n",
       "    <tr>\n",
       "      <th>3</th>\n",
       "      <td>6640-101753|2021-03-01_10:37:33</td>\n",
       "      <td>0.04</td>\n",
       "      <td>0.125822</td>\n",
       "    </tr>\n",
       "    <tr>\n",
       "      <th>4</th>\n",
       "      <td>6640-101753|2021-03-01_10:37:33</td>\n",
       "      <td>0.05</td>\n",
       "      <td>-0.012471</td>\n",
       "    </tr>\n",
       "  </tbody>\n",
       "</table>\n",
       "</div>"
      ],
      "text/plain": [
       "                                id  timeindex  torqueactual\n",
       "0  6640-101753|2021-03-01_10:37:33       0.01     -0.015558\n",
       "1  6640-101753|2021-03-01_10:37:33       0.02      0.079586\n",
       "2  6640-101753|2021-03-01_10:37:33       0.03      0.035336\n",
       "3  6640-101753|2021-03-01_10:37:33       0.04      0.125822\n",
       "4  6640-101753|2021-03-01_10:37:33       0.05     -0.012471"
      ]
     },
     "execution_count": 3,
     "metadata": {},
     "output_type": "execute_result"
    }
   ],
   "source": [
    "#os.chdir(\"C:/Users/dnaen/PycharmProjects/anomaly_detection/\")\n",
    "data = pd.read_parquet(\"data/cleaned_data/interpolated_TL.parquet\")\n",
    "data.head()"
   ]
  },
  {
   "cell_type": "markdown",
   "id": "bdc2229cd21a5ef8",
   "metadata": {},
   "source": [
    "## Functions"
   ]
  },
  {
   "cell_type": "code",
   "execution_count": 2,
   "id": "f5147ea5a5a5255",
   "metadata": {
    "ExecuteTime": {
     "end_time": "2024-06-26T10:15:01.487637Z",
     "start_time": "2024-06-26T10:15:01.475772Z"
    }
   },
   "outputs": [],
   "source": [
    "def modify_df(given_df):\n",
    "    given_df['robot_type'] = given_df['id'].str[:4] # save only the robot id ABCD\n",
    "    given_df['robot'] = given_df['id'].str[:11]\n",
    "    return given_df\n",
    "\n",
    "def data_of_robot(given_df, given_robot_id, parameter_type, series_type):\n",
    "    # parameter_type: [\"motorposition\", \"speedsetpoint\", \"torqueactual\", \"torquefeedforward\"]\n",
    "    # series_type: [\"Ta\", \"Tl\"]\n",
    "    #  -> \"Ta\": corresponds to a predetermined sequence of movements lasting 3.48 seconds\n",
    "    #  -> \"Tl\": robot arm is moved describing the programmed set of moves.\n",
    "    \n",
    "    temp_df_subset = given_df[(given_df['robot'] == given_robot_id) & (given_df[\"type\"] == series_type)]\n",
    "    all_sessions = list(temp_df_subset[\"id\"].unique())\n",
    "    print(\"Number of sessions: \", len(all_sessions))\n",
    "    \n",
    "    for session in all_sessions:\n",
    "        current_df_subset = temp_df_subset[temp_df_subset[\"id\"] == session]\n",
    "        plt.plot(current_df_subset['timeindex'], current_df_subset[parameter_type], marker = 'o', markersize = 1)\n",
    "    \n",
    "    plt.xlabel('timeindex')\n",
    "    plt.ylabel(f'{given_robot_id}')\n",
    "    plt.show()\n",
    "    \n",
    "def get_all_robots_of_specific_id(given_df, given_robot_type):\n",
    "    # ex: given \"6640\" returns ['6640-102123', '6640-102138', ..., '6640-108019'\n",
    "    # possible ids: [6640, 6700, 7600]\n",
    "    given_df = given_df[given_df['robot_type'] == given_robot_type]\n",
    "    return list(given_df['robot'].unique())\n",
    "\n",
    "def get_all_robots_of_main_id(given_df):\n",
    "    return list(given_df['robot_type'].unique())\n",
    "\n",
    "def get_all_robots_of_specific_id_sessions(given_df, given_robot_id, given_series_type):\n",
    "    temp_df_subset = given_df[(given_df['robot'] == given_robot_id) & (given_df[\"type\"] == given_series_type)]\n",
    "    return list(temp_df_subset[\"id\"].unique())"
   ]
  },
  {
   "cell_type": "markdown",
   "id": "cddbf0b9b10cc34a",
   "metadata": {},
   "source": [
    "## Pre-processing"
   ]
  },
  {
   "cell_type": "code",
   "execution_count": 5,
   "id": "aed4a69559dda4e1",
   "metadata": {
    "ExecuteTime": {
     "end_time": "2024-06-25T12:58:18.112223Z",
     "start_time": "2024-06-25T12:58:13.897354Z"
    }
   },
   "outputs": [],
   "source": [
    "modified_df = modify_df(df)"
   ]
  },
  {
   "cell_type": "code",
   "execution_count": 6,
   "id": "4bb31898acd25f4c",
   "metadata": {
    "ExecuteTime": {
     "end_time": "2024-06-25T12:58:21.259242Z",
     "start_time": "2024-06-25T12:58:18.115222Z"
    }
   },
   "outputs": [
    {
     "name": "stdout",
     "output_type": "stream",
     "text": [
      "Current main id:  7600\n",
      "     Current specific id:  7600-100440\n",
      "     Current specific id:  7600-100498\n",
      "\n"
     ]
    }
   ],
   "source": [
    "for temp_id in get_all_robots_of_main_id(modified_df):\n",
    "    print(\"Current main id: \", temp_id)\n",
    "    \n",
    "    for temp_specific_id in get_all_robots_of_specific_id(modified_df, temp_id):\n",
    "        print(\"     Current specific id: \", temp_specific_id)\n",
    "        \n",
    "    print()"
   ]
  },
  {
   "cell_type": "code",
   "execution_count": 7,
   "id": "12a1871ea2ca6b0a",
   "metadata": {
    "ExecuteTime": {
     "end_time": "2024-06-25T12:58:24.203522Z",
     "start_time": "2024-06-25T12:58:24.174828Z"
    }
   },
   "outputs": [
    {
     "data": {
      "text/html": [
       "<div>\n",
       "<style scoped>\n",
       "    .dataframe tbody tr th:only-of-type {\n",
       "        vertical-align: middle;\n",
       "    }\n",
       "\n",
       "    .dataframe tbody tr th {\n",
       "        vertical-align: top;\n",
       "    }\n",
       "\n",
       "    .dataframe thead th {\n",
       "        text-align: right;\n",
       "    }\n",
       "</style>\n",
       "<table border=\"1\" class=\"dataframe\">\n",
       "  <thead>\n",
       "    <tr style=\"text-align: right;\">\n",
       "      <th></th>\n",
       "      <th>axisnumber</th>\n",
       "      <th>id</th>\n",
       "      <th>manipulator</th>\n",
       "      <th>motorposition</th>\n",
       "      <th>speedsetpoint</th>\n",
       "      <th>timeindex</th>\n",
       "      <th>torqueactual</th>\n",
       "      <th>torquefeedforward</th>\n",
       "      <th>type</th>\n",
       "      <th>date</th>\n",
       "      <th>robot_type</th>\n",
       "      <th>robot</th>\n",
       "    </tr>\n",
       "  </thead>\n",
       "  <tbody>\n",
       "    <tr>\n",
       "      <th>6912</th>\n",
       "      <td>1</td>\n",
       "      <td>7600-100440|2022-11-16_09:42:54</td>\n",
       "      <td>TRACK_1</td>\n",
       "      <td>0.00</td>\n",
       "      <td>-0.000000</td>\n",
       "      <td>0.009</td>\n",
       "      <td>0.053306</td>\n",
       "      <td>0.0</td>\n",
       "      <td>TL</td>\n",
       "      <td>2022-11-16</td>\n",
       "      <td>7600</td>\n",
       "      <td>7600-100440</td>\n",
       "    </tr>\n",
       "    <tr>\n",
       "      <th>6913</th>\n",
       "      <td>1</td>\n",
       "      <td>7600-100440|2022-11-16_09:42:54</td>\n",
       "      <td>TRACK_1</td>\n",
       "      <td>0.00</td>\n",
       "      <td>0.380452</td>\n",
       "      <td>0.023</td>\n",
       "      <td>-0.093410</td>\n",
       "      <td>0.0</td>\n",
       "      <td>TL</td>\n",
       "      <td>2022-11-16</td>\n",
       "      <td>7600</td>\n",
       "      <td>7600-100440</td>\n",
       "    </tr>\n",
       "    <tr>\n",
       "      <th>6914</th>\n",
       "      <td>1</td>\n",
       "      <td>7600-100440|2022-11-16_09:42:54</td>\n",
       "      <td>TRACK_1</td>\n",
       "      <td>0.00</td>\n",
       "      <td>0.380452</td>\n",
       "      <td>0.033</td>\n",
       "      <td>-0.087937</td>\n",
       "      <td>0.0</td>\n",
       "      <td>TL</td>\n",
       "      <td>2022-11-16</td>\n",
       "      <td>7600</td>\n",
       "      <td>7600-100440</td>\n",
       "    </tr>\n",
       "    <tr>\n",
       "      <th>6915</th>\n",
       "      <td>1</td>\n",
       "      <td>7600-100440|2022-11-16_09:42:54</td>\n",
       "      <td>TRACK_1</td>\n",
       "      <td>0.00</td>\n",
       "      <td>-0.380452</td>\n",
       "      <td>0.042</td>\n",
       "      <td>0.044531</td>\n",
       "      <td>0.0</td>\n",
       "      <td>TL</td>\n",
       "      <td>2022-11-16</td>\n",
       "      <td>7600</td>\n",
       "      <td>7600-100440</td>\n",
       "    </tr>\n",
       "    <tr>\n",
       "      <th>6916</th>\n",
       "      <td>1</td>\n",
       "      <td>7600-100440|2022-11-16_09:42:54</td>\n",
       "      <td>TRACK_1</td>\n",
       "      <td>0.00</td>\n",
       "      <td>-0.000000</td>\n",
       "      <td>0.051</td>\n",
       "      <td>-0.095396</td>\n",
       "      <td>0.0</td>\n",
       "      <td>TL</td>\n",
       "      <td>2022-11-16</td>\n",
       "      <td>7600</td>\n",
       "      <td>7600-100440</td>\n",
       "    </tr>\n",
       "    <tr>\n",
       "      <th>6917</th>\n",
       "      <td>1</td>\n",
       "      <td>7600-100440|2022-11-16_09:42:54</td>\n",
       "      <td>TRACK_1</td>\n",
       "      <td>0.00</td>\n",
       "      <td>-0.000000</td>\n",
       "      <td>0.060</td>\n",
       "      <td>0.217431</td>\n",
       "      <td>0.0</td>\n",
       "      <td>TL</td>\n",
       "      <td>2022-11-16</td>\n",
       "      <td>7600</td>\n",
       "      <td>7600-100440</td>\n",
       "    </tr>\n",
       "    <tr>\n",
       "      <th>6918</th>\n",
       "      <td>1</td>\n",
       "      <td>7600-100440|2022-11-16_09:42:54</td>\n",
       "      <td>TRACK_1</td>\n",
       "      <td>0.01</td>\n",
       "      <td>-0.000000</td>\n",
       "      <td>0.069</td>\n",
       "      <td>0.818732</td>\n",
       "      <td>0.0</td>\n",
       "      <td>TL</td>\n",
       "      <td>2022-11-16</td>\n",
       "      <td>7600</td>\n",
       "      <td>7600-100440</td>\n",
       "    </tr>\n",
       "    <tr>\n",
       "      <th>6919</th>\n",
       "      <td>1</td>\n",
       "      <td>7600-100440|2022-11-16_09:42:54</td>\n",
       "      <td>TRACK_1</td>\n",
       "      <td>0.03</td>\n",
       "      <td>0.760903</td>\n",
       "      <td>0.078</td>\n",
       "      <td>0.752879</td>\n",
       "      <td>0.0</td>\n",
       "      <td>TL</td>\n",
       "      <td>2022-11-16</td>\n",
       "      <td>7600</td>\n",
       "      <td>7600-100440</td>\n",
       "    </tr>\n",
       "    <tr>\n",
       "      <th>6920</th>\n",
       "      <td>1</td>\n",
       "      <td>7600-100440|2022-11-16_09:42:54</td>\n",
       "      <td>TRACK_1</td>\n",
       "      <td>0.05</td>\n",
       "      <td>0.380452</td>\n",
       "      <td>0.087</td>\n",
       "      <td>1.142800</td>\n",
       "      <td>0.0</td>\n",
       "      <td>TL</td>\n",
       "      <td>2022-11-16</td>\n",
       "      <td>7600</td>\n",
       "      <td>7600-100440</td>\n",
       "    </tr>\n",
       "    <tr>\n",
       "      <th>6921</th>\n",
       "      <td>1</td>\n",
       "      <td>7600-100440|2022-11-16_09:42:54</td>\n",
       "      <td>TRACK_1</td>\n",
       "      <td>0.09</td>\n",
       "      <td>1.141350</td>\n",
       "      <td>0.096</td>\n",
       "      <td>1.928110</td>\n",
       "      <td>0.0</td>\n",
       "      <td>TL</td>\n",
       "      <td>2022-11-16</td>\n",
       "      <td>7600</td>\n",
       "      <td>7600-100440</td>\n",
       "    </tr>\n",
       "  </tbody>\n",
       "</table>\n",
       "</div>"
      ],
      "text/plain": [
       "      axisnumber                               id manipulator  motorposition  \\\n",
       "6912           1  7600-100440|2022-11-16_09:42:54     TRACK_1           0.00   \n",
       "6913           1  7600-100440|2022-11-16_09:42:54     TRACK_1           0.00   \n",
       "6914           1  7600-100440|2022-11-16_09:42:54     TRACK_1           0.00   \n",
       "6915           1  7600-100440|2022-11-16_09:42:54     TRACK_1           0.00   \n",
       "6916           1  7600-100440|2022-11-16_09:42:54     TRACK_1           0.00   \n",
       "6917           1  7600-100440|2022-11-16_09:42:54     TRACK_1           0.00   \n",
       "6918           1  7600-100440|2022-11-16_09:42:54     TRACK_1           0.01   \n",
       "6919           1  7600-100440|2022-11-16_09:42:54     TRACK_1           0.03   \n",
       "6920           1  7600-100440|2022-11-16_09:42:54     TRACK_1           0.05   \n",
       "6921           1  7600-100440|2022-11-16_09:42:54     TRACK_1           0.09   \n",
       "\n",
       "      speedsetpoint  timeindex  torqueactual  torquefeedforward type  \\\n",
       "6912      -0.000000      0.009      0.053306                0.0   TL   \n",
       "6913       0.380452      0.023     -0.093410                0.0   TL   \n",
       "6914       0.380452      0.033     -0.087937                0.0   TL   \n",
       "6915      -0.380452      0.042      0.044531                0.0   TL   \n",
       "6916      -0.000000      0.051     -0.095396                0.0   TL   \n",
       "6917      -0.000000      0.060      0.217431                0.0   TL   \n",
       "6918      -0.000000      0.069      0.818732                0.0   TL   \n",
       "6919       0.760903      0.078      0.752879                0.0   TL   \n",
       "6920       0.380452      0.087      1.142800                0.0   TL   \n",
       "6921       1.141350      0.096      1.928110                0.0   TL   \n",
       "\n",
       "            date robot_type        robot  \n",
       "6912  2022-11-16       7600  7600-100440  \n",
       "6913  2022-11-16       7600  7600-100440  \n",
       "6914  2022-11-16       7600  7600-100440  \n",
       "6915  2022-11-16       7600  7600-100440  \n",
       "6916  2022-11-16       7600  7600-100440  \n",
       "6917  2022-11-16       7600  7600-100440  \n",
       "6918  2022-11-16       7600  7600-100440  \n",
       "6919  2022-11-16       7600  7600-100440  \n",
       "6920  2022-11-16       7600  7600-100440  \n",
       "6921  2022-11-16       7600  7600-100440  "
      ]
     },
     "execution_count": 7,
     "metadata": {},
     "output_type": "execute_result"
    }
   ],
   "source": [
    "modified_df.head(10)"
   ]
  },
  {
   "cell_type": "code",
   "execution_count": 8,
   "id": "8b3409ec1c9dff7d",
   "metadata": {
    "ExecuteTime": {
     "end_time": "2024-06-25T12:58:26.619757Z",
     "start_time": "2024-06-25T12:58:26.596589Z"
    }
   },
   "outputs": [],
   "source": [
    "# data_of_robot(modified_df, '7600-100440', 'motorposition', 'Ta')"
   ]
  },
  {
   "cell_type": "markdown",
   "id": "4b8f15ce4629d1f5",
   "metadata": {},
   "source": [
    "## Baseline Algo"
   ]
  },
  {
   "cell_type": "code",
   "execution_count": 3,
   "id": "1431100c4c8dd06",
   "metadata": {
    "ExecuteTime": {
     "end_time": "2024-06-26T10:15:04.699125Z",
     "start_time": "2024-06-26T10:15:02.834430Z"
    }
   },
   "outputs": [],
   "source": [
    "from tqdm import tqdm\n",
    "\n",
    "def add_mean_and_std_into_df(given_df):\n",
    "    \"\"\"\n",
    "    creating dict where -> dict[specific_robot_id][series_type][parameter_type] = [mean & standart_deviation]\n",
    "    \"\"\"\n",
    "    np.warnings.filterwarnings('ignore', category=np.VisibleDeprecationWarning) # to avoid warnings\n",
    "    new_df = given_df.copy(deep=True) # first deep cloning to avoid changes on the original df\n",
    "\n",
    "    # first getting all the parameter values\n",
    "    all_main_robot_ids = list(new_df['robot_type'].unique())\n",
    "    all_specific_robot_ids = []\n",
    "    all_series_type = list(new_df['type'].unique())\n",
    "    all_parameter_type = [\"motorposition\", \"speedsetpoint\", \"torqueactual\", \"torquefeedforward\"]\n",
    "    all_time_index_ids = []\n",
    "    \n",
    "    for robot_type in all_main_robot_ids:\n",
    "        all_specific_robot_ids = all_specific_robot_ids + get_all_robots_of_specific_id(new_df, robot_type)\n",
    "    \n",
    "    for specific_robot_id in all_specific_robot_ids:\n",
    "        temp_df_subset = new_df[(new_df['robot'] == specific_robot_id)]\n",
    "        all_time_index_ids = all_time_index_ids + list(temp_df_subset[\"id\"].unique())\n",
    "\n",
    "\n",
    "    # now it's time to calculate the mean and std of each specific robot id\n",
    "    saved_information = {}\n",
    "    \n",
    "    # go through each robot id\n",
    "    for specific_robot_id in all_specific_robot_ids:\n",
    "        print(\"Current robot id: \", specific_robot_id)\n",
    "\n",
    "        time_index_ids_of_specific_robot = [time_index for time_index in all_time_index_ids if specific_robot_id in time_index]\n",
    "        # temp_new_df_subset = new_df[(new_df['robot'] == specific_robot_id)]\n",
    "        # time_index_ids_of_specific_robot = list(temp_new_df_subset[\"timeindex\"])\n",
    "\n",
    "\n",
    "        df_of_robot = new_df[(new_df['robot'] == specific_robot_id)]\n",
    "        \n",
    "        for series_type in tqdm(all_series_type):\n",
    "            df_of_robot_series = df_of_robot[(df_of_robot['type'] == series_type)]\n",
    "\n",
    "            for param_type in all_parameter_type:\n",
    "                df_of_robot_series_param = pd.DataFrame()\n",
    "                df_of_robot_series_param[\"id\"] = df_of_robot_series[\"id\"]\n",
    "                df_of_robot_series_param[param_type] = df_of_robot_series[param_type]\n",
    "\n",
    "                saved_lists = []\n",
    "                \n",
    "                # the most time consuming part\n",
    "                size_of_each_time_series = []\n",
    "                for t_index in time_index_ids_of_specific_robot:\n",
    "                    saved_lists.append(list(df_of_robot_series_param[df_of_robot_series_param[\"id\"] == t_index][param_type]))\n",
    "                    size_of_each_time_series.append(len(df_of_robot_series_param[df_of_robot_series_param[\"id\"] == t_index][param_type]))\n",
    "                \n",
    "                # because we have time-indexes with different sizes, need to set all into equal size\n",
    "                max_length = max(len(arr) for arr in saved_lists)\n",
    "                padded_arrays = np.array([np.pad(arr, (0, max_length - len(arr)), constant_values=np.nan) for arr in saved_lists])\n",
    "\n",
    "                # save data\n",
    "                saved_information[specific_robot_id + \"_\" + series_type + \"_\" + param_type + \"_avg\" ] = np.average(padded_arrays, axis=0)\n",
    "                saved_information[specific_robot_id + \"_\" + series_type + \"_\" + param_type + \"_std\" ] = np.std(padded_arrays, axis=0)\n",
    "                    \n",
    "                print(\"On info: \", specific_robot_id + \"_\" + series_type + \"_\" + param_type + \"_avg\")\n",
    "                print(\"Actual size: \", np.average(size_of_each_time_series))\n",
    "                print(\"The size of the saved list: \", len(np.average(padded_arrays, axis=0)))\n",
    "                \n",
    "        print()\n",
    "                    \n",
    "    return saved_information \n",
    "\n",
    "def get_info_of_all_time_series_specific(given_df, given_robot_id, given_series_type, given_param):\n",
    "    np.warnings.filterwarnings('ignore', category=np.VisibleDeprecationWarning) # to avoid warnings\n",
    "    new_df = given_df.copy(deep=True) # first deep cloning to avoid changes on the original df\n",
    "\n",
    "    # getting all time-series of the robot id    \n",
    "    temp_df_subset = new_df[(new_df['robot'] == given_robot_id)]\n",
    "    all_time_index_ids = list(temp_df_subset[\"id\"].unique())\n",
    "\n",
    "    saved_information = {}\n",
    "    \n",
    "    print(\"Working on robot id: \", given_robot_id)\n",
    "    time_index_ids_of_specific_robot = [time_index for time_index in all_time_index_ids if given_robot_id in time_index]\n",
    "    df_of_robot_specific = new_df[(new_df['robot'] == given_robot_id) & (new_df[\"type\"] == given_series_type)]\n",
    "    \n",
    "    # to reduce the data it works on\n",
    "    df_of_robot_series_param = pd.DataFrame()\n",
    "    df_of_robot_series_param[\"id\"] = df_of_robot_specific[\"id\"]\n",
    "    df_of_robot_series_param[given_param] = df_of_robot_specific[given_param]\n",
    "\n",
    "    saved_lists = []\n",
    "    for t_index in time_index_ids_of_specific_robot:\n",
    "        saved_lists.append(list(df_of_robot_series_param[df_of_robot_series_param[\"id\"] == t_index][given_param]))\n",
    "                    \n",
    "    return saved_lists \n",
    "\n",
    "import scipy.stats as st\n",
    "def calculate_prob_list(given_robot_name, given_series_type, given_param, given_data, given_mean_and_std_info):\n",
    "    prob_list = []\n",
    "    saved_mean = given_mean_and_std_info.get(given_robot_name + \"_\" + given_series_type + \"_\" + given_param + \"_avg\")\n",
    "    saved_std = given_mean_and_std_info.get(given_robot_name + \"_\" + given_series_type + \"_\" + given_param + \"_std\")\n",
    "    \n",
    "    for i in range(len(given_data)):\n",
    "        z = (np.abs(given_data[i] - saved_mean[i])) / saved_std[i]\n",
    "        p_value = st.norm.sf(abs(z))*2 # 2-sided test\n",
    "        # p_value = st.norm.cdf(z) # gives the percentage\n",
    "        prob_list.append(p_value) # TODO: add additional check for 0 and so on?\n",
    "            \n",
    "    return prob_list\n",
    "        \n",
    "def detect_anomaly_via_z(given_robot_name, given_series_type, given_param, given_data, given_mean_and_std_info):\n",
    "    temp_z_list = []\n",
    "\n",
    "    saved_mean = given_mean_and_std_info.get(given_robot_name + \"_\" + given_series_type + \"_\" + given_param + \"_avg\")\n",
    "    saved_std = given_mean_and_std_info.get(given_robot_name + \"_\" + given_series_type + \"_\" + given_param + \"_std\")\n",
    "    \n",
    "    smaller_one = len(saved_mean)\n",
    "    if len(saved_mean) > len(given_data):\n",
    "        smaller_one = len(given_data)\n",
    "\n",
    "    for i in range(smaller_one):\n",
    "        temp_z_list.append((np.abs(given_data[i] - saved_mean[i])) / saved_std[i])\n",
    "            \n",
    "    max_z_value = max(temp_z_list)\n",
    "    \n",
    "    if len(saved_mean) != len(given_data):\n",
    "        print(\"ERROR: The size of the data is not equal to the saved mean/std data\")\n",
    "        print(\"The size of the data: \", len(given_data))\n",
    "        print(\"The size of the saved mean: \", len(saved_mean))\n",
    "\n",
    "    return [i/max_z_value for i in temp_z_list] # normalized z-values\n",
    "\n",
    "import itertools\n",
    "def detect_anomaly_via_z_MAD_specific(given_df, given_robot_id, given_series_type, given_param, given_data):\n",
    "    np.warnings.filterwarnings('ignore', category=np.VisibleDeprecationWarning) # to avoid warnings\n",
    "    new_df = given_df.copy(deep=True) # first deep cloning to avoid changes on the original df\n",
    "\n",
    "    # getting all time-series of the robot id    \n",
    "    temp_df_subset = new_df[(new_df['robot'] == given_robot_id)]\n",
    "    all_time_index_ids = list(temp_df_subset[\"id\"].unique())\n",
    "\n",
    "    saved_information = {}\n",
    "    \n",
    "    time_index_ids_of_specific_robot = [time_index for time_index in all_time_index_ids if given_robot_id in time_index]\n",
    "    df_of_robot_specific = new_df[(new_df['robot'] == given_robot_id) & (new_df[\"type\"] == given_series_type)]\n",
    "    \n",
    "    # to reduce the data it works on\n",
    "    df_of_robot_series_param = pd.DataFrame()\n",
    "    df_of_robot_series_param[\"id\"] = df_of_robot_specific[\"id\"]\n",
    "    df_of_robot_series_param[given_param] = df_of_robot_specific[given_param]\n",
    "\n",
    "    saved_lists = []\n",
    "    for t_index in time_index_ids_of_specific_robot:\n",
    "        saved_lists.append(list(df_of_robot_series_param[df_of_robot_series_param[\"id\"] == t_index][given_param]))\n",
    "                    \n",
    "\n",
    "    # Use itertools.zip_longest to transpose the list\n",
    "    saved_list_transposed = list(itertools.zip_longest(*saved_lists, fillvalue=None))\n",
    "    saved_list_transposed = [list(item) for item in saved_list_transposed]\n",
    "    saved_list_transposed = [list(filter(lambda x: x is not None, item)) for item in saved_list_transposed] # remove NaN\n",
    "    \n",
    "    \n",
    "    # the z_MAD formula\n",
    "    modified_z_value_list = []\n",
    "    for count, current_list in enumerate(saved_list_transposed):\n",
    "        \n",
    "        if len(given_data) > count:\n",
    "            median_val = np.median(current_list)\n",
    "            tempo = (np.abs(current_list - median_val))\n",
    "            tempo = [i for i in tempo if i != 0]\n",
    "            med_abs_dev = np.median(tempo)\n",
    "            \n",
    "            modified_z_value_list.append((0.6745 * (given_data[count] - median_val) / med_abs_dev))\n",
    "        else:\n",
    "            print(\"Size problem\")\n",
    "            break\n",
    "            \n",
    "    return modified_z_value_list\n",
    "\n",
    "from outliers import smirnov_grubbs as grubbs\n",
    "def baseline_model_outlier_detect_final(given_df, given_robot_id, given_series_type, given_param, given_data):\n",
    "    np.warnings.filterwarnings('ignore', category=np.VisibleDeprecationWarning) # to avoid warnings\n",
    "    new_df = given_df.copy(deep=True) # first deep cloning to avoid changes on the original df\n",
    "\n",
    "    # getting all time-series of the robot id    \n",
    "    temp_df_subset = new_df[(new_df['robot'] == given_robot_id)]\n",
    "    all_time_index_ids = list(temp_df_subset[\"id\"].unique())\n",
    "    \n",
    "    time_index_ids_of_specific_robot = [time_index for time_index in all_time_index_ids if given_robot_id in time_index]\n",
    "    df_of_robot_specific = new_df[(new_df['robot'] == given_robot_id) & (new_df[\"type\"] == given_series_type)]\n",
    "    \n",
    "    # to reduce the data it works on\n",
    "    df_of_robot_series_param = pd.DataFrame()\n",
    "    df_of_robot_series_param[\"id\"] = df_of_robot_specific[\"id\"]\n",
    "    df_of_robot_series_param[given_param] = df_of_robot_specific[given_param]\n",
    "\n",
    "    # collect all info\n",
    "    saved_lists = []\n",
    "    for t_index in time_index_ids_of_specific_robot:\n",
    "        saved_lists.append(list(df_of_robot_series_param[df_of_robot_series_param[\"id\"] == t_index][given_param]))\n",
    "                    \n",
    "    # Use itertools.zip_longest to transpose the list\n",
    "    saved_list_transposed = list(itertools.zip_longest(*saved_lists, fillvalue=None))\n",
    "    saved_list_transposed = [list(item) for item in saved_list_transposed]\n",
    "    saved_list_transposed = [list(filter(lambda x: x is not None, item)) for item in saved_list_transposed] # remove NaN\n",
    "\n",
    "    # going through each time-index data\n",
    "    outlier_boolean = []\n",
    "    for count, current_list in enumerate(saved_list_transposed):\n",
    "        \n",
    "        if len(given_data) > count:\n",
    "            save_temp_list = current_list.copy()\n",
    "            save_temp_list_appended = save_temp_list + [given_data[count]]\n",
    "            \n",
    "            grubbs_list = grubbs.test(save_temp_list, alpha=.05)\n",
    "            grubbs_list_appended = grubbs.test(save_temp_list_appended, alpha=.05)\n",
    "    \n",
    "            if (len(list(set(grubbs_list) - set(save_temp_list))) == 0) and (len(list(set(grubbs_list) - set(grubbs_list_appended))) > 0): # it means that only the last element added is an outlier\n",
    "                outlier_boolean.append(1)\n",
    "            else: # do modified z-value thershold\n",
    "                median_val = np.median(current_list)\n",
    "                tempo = (np.abs(current_list - median_val))\n",
    "                tempo = [i for i in tempo if i != 0]\n",
    "                med_abs_dev = np.median(tempo)\n",
    "                \n",
    "                modified_z_val = (0.6745 * (given_data[count] - median_val) / med_abs_dev)\n",
    "                if modified_z_val > 3.5:\n",
    "                    outlier_boolean.append(1)\n",
    "                else:\n",
    "                    outlier_boolean.append(0)\n",
    "        else:\n",
    "            print(\"Size problem\")\n",
    "            break\n",
    "            \n",
    "    return outlier_boolean\n",
    "\n",
    "\n",
    "def baseline_model_outlier_detect(given_robot_name, given_series_type, given_param, given_data, given_mean_and_std_info):\n",
    "    outlier_boolean = []\n",
    "\n",
    "    saved_mean = given_mean_and_std_info.get(given_robot_name + \"_\" + given_series_type + \"_\" + given_param + \"_avg\")\n",
    "    saved_std = given_mean_and_std_info.get(given_robot_name + \"_\" + given_series_type + \"_\" + given_param + \"_std\")\n",
    "    \n",
    "    smaller_one = 0\n",
    "    if len(saved_mean) > len(given_data):\n",
    "        smaller_one = len(given_data)\n",
    "    else:\n",
    "        smaller_one = len(saved_mean)\n",
    "        \n",
    "    for i in range(smaller_one):\n",
    "        current_z = (np.abs(given_data[i] - saved_mean[i])) / saved_std[i]\n",
    "        if current_z > 3.5:\n",
    "            outlier_boolean.append(1)\n",
    "        else:\n",
    "            outlier_boolean.append(0)\n",
    "            \n",
    "    return outlier_boolean\n",
    "\n",
    "import math\n",
    "def compress_a_list_of_integers(given_list, target_size):\n",
    "    size_of_range = int((len(given_list) / target_size)) # list_size / 2^n = target_size -> n = log(list_size / target_size) / log(2)\n",
    "    new_list = []\n",
    "    \n",
    "    for i in range(0, len(given_list) - size_of_range, size_of_range):\n",
    "        new_list.append(np.mean(given_list[i:i+size_of_range]))\n",
    "   \n",
    "    return new_list\n",
    "\n",
    "import pickle    \n",
    "def save_dict(given_dict, extra_info = \"\"):\n",
    "    with open(\"saved_dict_of_mean_and_std_\" + extra_info + \".pkl\", 'wb') as f:\n",
    "        pickle.dump(given_dict, f)\n",
    "\n",
    "def load_dict(given_info = \"\"):\n",
    "    given_dict_name = \"saved_dict_of_mean_and_std_\" + given_info + \".pkl\"\n",
    "    with open(given_dict_name, 'rb') as f:\n",
    "        return pickle.load(f)"
   ]
  },
  {
   "cell_type": "code",
   "execution_count": 53,
   "id": "2188d9ccd9e938db",
   "metadata": {
    "ExecuteTime": {
     "end_time": "2024-06-26T11:02:54.170874Z",
     "start_time": "2024-06-26T11:02:54.127488Z"
    }
   },
   "outputs": [],
   "source": [
    "class BaselineModel:\n",
    "    def __init__(self, pkl_file_name = \"of_7600_new\"):\n",
    "        self.file_name = pkl_file_name\n",
    "        self.dict_with_mean_and_std = self.load_dict(pkl_file_name)\n",
    "\n",
    "    def load_dict(self, pkl_file_name):\n",
    "        os.chdir(\"models/statistical_analysis/\")\n",
    "        given_dict_name = \"saved_dict_of_mean_and_std_\" + pkl_file_name + \".pkl\"\n",
    "        \n",
    "        with open(given_dict_name, 'rb') as f:\n",
    "            return pickle.load(f)\n",
    "        \n",
    "    def call_model(self, given_df, given_robot_id, given_series_type, given_param, given_data, given_model_name):\n",
    "        if given_model_name == \"z_score\":\n",
    "            return self.get_anomaly_boolean_list_z_score(given_robot_id, given_series_type, given_param, given_data)\n",
    "        elif given_model_name == \"modified_z_score\":\n",
    "            return self.get_anomaly_boolean_list_modified_z_score(given_df, given_robot_id, given_series_type, given_param, given_data)\n",
    "        elif given_model_name == \"grubbs_test\":\n",
    "            return self.get_anomaly_boolean_list_grubbs_test(given_df, given_robot_id, given_series_type, given_param, given_data)\n",
    "        return None\n",
    "        \n",
    "    def get_all_time_series_of_specific(self, given_df, given_robot_id, given_series_type, given_param):\n",
    "        np.warnings.filterwarnings('ignore', category=np.VisibleDeprecationWarning) # to avoid warnings\n",
    "        new_df = given_df.copy(deep=True) # first deep cloning to avoid changes on the original df\n",
    "    \n",
    "        # # getting all time-series of the robot id    \n",
    "        # temp_df_subset = new_df[(new_df['robot'] == given_robot_id)]\n",
    "        # all_time_index_ids = list(temp_df_subset[\"id\"].unique())\n",
    "        # \n",
    "        # time_index_ids_of_specific_robot = [time_index for time_index in all_time_index_ids if given_robot_id in time_index]\n",
    "        # df_of_robot_specific = new_df[(new_df['robot'] == given_robot_id)]\n",
    "        # \n",
    "        # \n",
    "        \n",
    "        all_time_index_ids = list(new_df[\"id\"].unique())\n",
    "\n",
    "        # # to reduce the data it works on\n",
    "        df_of_robot_series_param = pd.DataFrame()\n",
    "        df_of_robot_series_param[\"id\"] = new_df[\"id\"]\n",
    "        df_of_robot_series_param[given_param] = new_df[given_param]\n",
    "                \n",
    "        # collect all info\n",
    "        saved_lists = []\n",
    "        for t_index in all_time_index_ids:\n",
    "            saved_lists.append(list(df_of_robot_series_param[df_of_robot_series_param[\"id\"] == t_index][given_param]))\n",
    "            \n",
    "        return saved_lists\n",
    "    \n",
    "    def get_anomaly_boolean_list_z_score(self, given_robot_name, given_series_type, given_param, given_data):\n",
    "        outlier_boolean = []\n",
    "    \n",
    "        saved_mean = self.dict_with_mean_and_std.get(given_robot_name + \"_\" + given_series_type + \"_\" + given_param + \"_avg\")\n",
    "        saved_std = self.dict_with_mean_and_std.get(given_robot_name + \"_\" + given_series_type + \"_\" + given_param + \"_std\")\n",
    "        \n",
    "        smaller_one = len(saved_mean)\n",
    "        if len(saved_mean) > len(given_data):\n",
    "            smaller_one = len(given_data)\n",
    "            \n",
    "        for i in range(smaller_one):\n",
    "            current_z = (np.abs(given_data[i] - saved_mean[i])) / saved_std[i]\n",
    "            if np.abs(current_z) > 3.5:\n",
    "                outlier_boolean.append(1)\n",
    "            else:\n",
    "                outlier_boolean.append(0)\n",
    "                \n",
    "        return outlier_boolean\n",
    "            \n",
    "    def get_anomaly_boolean_list_modified_z_score(self, given_df, given_robot_id, given_series_type, given_param, given_data):\n",
    "        \n",
    "        saved_lists = self.get_all_time_series_of_specific(given_df, given_robot_id, given_series_type, given_param)\n",
    "        \n",
    "        # Use itertools.zip_longest to transpose the list\n",
    "        saved_list_transposed = list(itertools.zip_longest(*saved_lists, fillvalue=None))\n",
    "        saved_list_transposed = [list(item) for item in saved_list_transposed]\n",
    "        saved_list_transposed = [list(filter(lambda x: x is not None, item)) for item in saved_list_transposed] # remove NaN\n",
    "    \n",
    "        # going through each time-index data\n",
    "        outlier_boolean = []\n",
    "        for count, current_list in enumerate(saved_list_transposed):\n",
    "            \n",
    "            if len(given_data) > count:\n",
    "                # do modified z-value thershold\n",
    "                median_val = np.median(current_list)\n",
    "                tempo = (np.abs(current_list - median_val))\n",
    "                tempo = [i for i in tempo if i != 0] # many zero value occurs, remove them\n",
    "                med_abs_dev = np.median(tempo)\n",
    "                \n",
    "                modified_z_val = (0.6745 * (given_data[count] - median_val) / med_abs_dev)\n",
    "                \n",
    "                if np.abs(modified_z_val) > 3.5:\n",
    "                    outlier_boolean.append(1)\n",
    "                else:\n",
    "                    outlier_boolean.append(0)\n",
    "            else:\n",
    "                print(\"Size problem\")\n",
    "                break\n",
    "                \n",
    "        return outlier_boolean\n",
    "    \n",
    "    def get_anomaly_boolean_list_grubbs_test(self, given_df, given_robot_id, given_series_type, given_param, given_data):\n",
    "        \n",
    "        saved_lists = self.get_all_time_series_of_specific(given_df, given_robot_id, given_series_type, given_param)\n",
    "        \n",
    "        # Use itertools.zip_longest to transpose the list\n",
    "        saved_list_transposed = list(itertools.zip_longest(*saved_lists, fillvalue=None))\n",
    "        saved_list_transposed = [list(item) for item in saved_list_transposed]\n",
    "        saved_list_transposed = [list(filter(lambda x: x is not None, item)) for item in saved_list_transposed] # remove NaN\n",
    "    \n",
    "        # going through each time-index data\n",
    "        outlier_boolean = []\n",
    "        for count, current_list in enumerate(saved_list_transposed):\n",
    "            \n",
    "            if len(given_data) > count:\n",
    "                save_temp_list = current_list.copy()\n",
    "                save_temp_list_appended = save_temp_list + [given_data[count]]\n",
    "                \n",
    "                # grubbs_list = grubbs.test(save_temp_list, alpha=.05) # removes the elements that are outliers\n",
    "                grubbs_list_appended = grubbs.test(save_temp_list_appended, alpha=.05)\n",
    "        \n",
    "                if grubbs_list_appended.sort() == save_temp_list.sort(): # it means that only the last element added is an outlier (as it is removed in the \"grubbs_list_appended\" making it equal to the r original list)\n",
    "                    outlier_boolean.append(1)\n",
    "                else: \n",
    "                    outlier_boolean.append(0)\n",
    "            else:\n",
    "                print(\"Size problem\")\n",
    "                break\n",
    "                \n",
    "        return outlier_boolean\n",
    "    \n",
    "    def get_anomaly_list_modified_z_scores(self, given_df, given_robot_id, given_series_type, given_param, given_data):\n",
    "        \n",
    "        saved_lists = self.get_all_time_series_of_specific(given_df, given_robot_id, given_series_type, given_param)\n",
    "        \n",
    "        # Use itertools.zip_longest to transpose the list\n",
    "        saved_list_transposed = list(itertools.zip_longest(*saved_lists, fillvalue=None))\n",
    "        saved_list_transposed = [list(item) for item in saved_list_transposed]\n",
    "        saved_list_transposed = [list(filter(lambda x: x is not None, item)) for item in saved_list_transposed] # remove NaN\n",
    "    \n",
    "        # going through each time-index data\n",
    "        modified_z_scores = []\n",
    "        for count, current_list in enumerate(saved_list_transposed):\n",
    "            \n",
    "            if len(given_data) > count:\n",
    "                # do modified z-value thershold\n",
    "                median_val = np.median(current_list)\n",
    "                tempo = (np.abs(current_list - median_val))\n",
    "                tempo = [i for i in tempo if i != 0] # many zero value occurs, remove them\n",
    "                med_abs_dev = np.median(tempo)\n",
    "                \n",
    "                modified_z_scores.append(0.6745 * (given_data[count] - median_val) / med_abs_dev)\n",
    "            else:\n",
    "                print(\"Size problem\")\n",
    "                break\n",
    "                \n",
    "        return modified_z_scores"
   ]
  },
  {
   "cell_type": "code",
   "execution_count": 12,
   "id": "8a842b296fbe80fc",
   "metadata": {
    "ExecuteTime": {
     "end_time": "2024-06-24T22:20:11.421135Z",
     "start_time": "2024-06-24T22:20:09.827186Z"
    }
   },
   "outputs": [
    {
     "ename": "MemoryError",
     "evalue": "Unable to allocate 54.7 MiB for an array with shape (1, 7174028) and data type object",
     "output_type": "error",
     "traceback": [
      "\u001b[1;31m---------------------------------------------------------------------------\u001b[0m",
      "\u001b[1;31mMemoryError\u001b[0m                               Traceback (most recent call last)",
      "Cell \u001b[1;32mIn[12], line 8\u001b[0m\n\u001b[0;32m      5\u001b[0m series_name \u001b[38;5;241m=\u001b[39m \u001b[38;5;124m\"\u001b[39m\u001b[38;5;124mTL\u001b[39m\u001b[38;5;124m\"\u001b[39m\n\u001b[0;32m      6\u001b[0m param_name \u001b[38;5;241m=\u001b[39m \u001b[38;5;124m\"\u001b[39m\u001b[38;5;124mtorqueactual\u001b[39m\u001b[38;5;124m\"\u001b[39m\n\u001b[1;32m----> 8\u001b[0m a \u001b[38;5;241m=\u001b[39m \u001b[43mget_info_of_all_time_series_specific\u001b[49m\u001b[43m(\u001b[49m\u001b[43mmodified_df\u001b[49m\u001b[43m,\u001b[49m\u001b[43m \u001b[49m\u001b[43mrobot_name\u001b[49m\u001b[43m,\u001b[49m\u001b[43m \u001b[49m\u001b[43mseries_name\u001b[49m\u001b[43m,\u001b[49m\u001b[43m \u001b[49m\u001b[43mparam_name\u001b[49m\u001b[43m)\u001b[49m\n",
      "Cell \u001b[1;32mIn[9], line 94\u001b[0m, in \u001b[0;36mget_info_of_all_time_series_specific\u001b[1;34m(given_df, given_robot_id, given_series_type, given_param)\u001b[0m\n\u001b[0;32m     92\u001b[0m \u001b[38;5;28;01mdef\u001b[39;00m \u001b[38;5;21mget_info_of_all_time_series_specific\u001b[39m(given_df, given_robot_id, given_series_type, given_param):\n\u001b[0;32m     93\u001b[0m     np\u001b[38;5;241m.\u001b[39mwarnings\u001b[38;5;241m.\u001b[39mfilterwarnings(\u001b[38;5;124m'\u001b[39m\u001b[38;5;124mignore\u001b[39m\u001b[38;5;124m'\u001b[39m, category\u001b[38;5;241m=\u001b[39mnp\u001b[38;5;241m.\u001b[39mVisibleDeprecationWarning) \u001b[38;5;66;03m# to avoid warnings\u001b[39;00m\n\u001b[1;32m---> 94\u001b[0m     new_df \u001b[38;5;241m=\u001b[39m \u001b[43mgiven_df\u001b[49m\u001b[38;5;241;43m.\u001b[39;49m\u001b[43mcopy\u001b[49m\u001b[43m(\u001b[49m\u001b[43mdeep\u001b[49m\u001b[38;5;241;43m=\u001b[39;49m\u001b[38;5;28;43;01mTrue\u001b[39;49;00m\u001b[43m)\u001b[49m \u001b[38;5;66;03m# first deep cloning to avoid changes on the original df\u001b[39;00m\n\u001b[0;32m     96\u001b[0m     \u001b[38;5;66;03m# getting all time-series of the robot id    \u001b[39;00m\n\u001b[0;32m     97\u001b[0m     temp_df_subset \u001b[38;5;241m=\u001b[39m new_df[(new_df[\u001b[38;5;124m'\u001b[39m\u001b[38;5;124mrobot\u001b[39m\u001b[38;5;124m'\u001b[39m] \u001b[38;5;241m==\u001b[39m given_robot_id)]\n",
      "File \u001b[1;32m~\\anaconda3\\lib\\site-packages\\pandas\\core\\generic.py:6368\u001b[0m, in \u001b[0;36mNDFrame.copy\u001b[1;34m(self, deep)\u001b[0m\n\u001b[0;32m   6258\u001b[0m \u001b[38;5;129m@final\u001b[39m\n\u001b[0;32m   6259\u001b[0m \u001b[38;5;28;01mdef\u001b[39;00m \u001b[38;5;21mcopy\u001b[39m(\u001b[38;5;28mself\u001b[39m: NDFrameT, deep: bool_t \u001b[38;5;241m|\u001b[39m \u001b[38;5;28;01mNone\u001b[39;00m \u001b[38;5;241m=\u001b[39m \u001b[38;5;28;01mTrue\u001b[39;00m) \u001b[38;5;241m-\u001b[39m\u001b[38;5;241m>\u001b[39m NDFrameT:\n\u001b[0;32m   6260\u001b[0m     \u001b[38;5;124;03m\"\"\"\u001b[39;00m\n\u001b[0;32m   6261\u001b[0m \u001b[38;5;124;03m    Make a copy of this object's indices and data.\u001b[39;00m\n\u001b[0;32m   6262\u001b[0m \n\u001b[1;32m   (...)\u001b[0m\n\u001b[0;32m   6366\u001b[0m \u001b[38;5;124;03m    dtype: object\u001b[39;00m\n\u001b[0;32m   6367\u001b[0m \u001b[38;5;124;03m    \"\"\"\u001b[39;00m\n\u001b[1;32m-> 6368\u001b[0m     data \u001b[38;5;241m=\u001b[39m \u001b[38;5;28;43mself\u001b[39;49m\u001b[38;5;241;43m.\u001b[39;49m\u001b[43m_mgr\u001b[49m\u001b[38;5;241;43m.\u001b[39;49m\u001b[43mcopy\u001b[49m\u001b[43m(\u001b[49m\u001b[43mdeep\u001b[49m\u001b[38;5;241;43m=\u001b[39;49m\u001b[43mdeep\u001b[49m\u001b[43m)\u001b[49m\n\u001b[0;32m   6369\u001b[0m     \u001b[38;5;28mself\u001b[39m\u001b[38;5;241m.\u001b[39m_clear_item_cache()\n\u001b[0;32m   6370\u001b[0m     \u001b[38;5;28;01mreturn\u001b[39;00m \u001b[38;5;28mself\u001b[39m\u001b[38;5;241m.\u001b[39m_constructor(data)\u001b[38;5;241m.\u001b[39m__finalize__(\u001b[38;5;28mself\u001b[39m, method\u001b[38;5;241m=\u001b[39m\u001b[38;5;124m\"\u001b[39m\u001b[38;5;124mcopy\u001b[39m\u001b[38;5;124m\"\u001b[39m)\n",
      "File \u001b[1;32m~\\anaconda3\\lib\\site-packages\\pandas\\core\\internals\\managers.py:651\u001b[0m, in \u001b[0;36mBaseBlockManager.copy\u001b[1;34m(self, deep)\u001b[0m\n\u001b[0;32m    648\u001b[0m \u001b[38;5;28;01melse\u001b[39;00m:\n\u001b[0;32m    649\u001b[0m     new_axes \u001b[38;5;241m=\u001b[39m \u001b[38;5;28mlist\u001b[39m(\u001b[38;5;28mself\u001b[39m\u001b[38;5;241m.\u001b[39maxes)\n\u001b[1;32m--> 651\u001b[0m res \u001b[38;5;241m=\u001b[39m \u001b[38;5;28;43mself\u001b[39;49m\u001b[38;5;241;43m.\u001b[39;49m\u001b[43mapply\u001b[49m\u001b[43m(\u001b[49m\u001b[38;5;124;43m\"\u001b[39;49m\u001b[38;5;124;43mcopy\u001b[39;49m\u001b[38;5;124;43m\"\u001b[39;49m\u001b[43m,\u001b[49m\u001b[43m \u001b[49m\u001b[43mdeep\u001b[49m\u001b[38;5;241;43m=\u001b[39;49m\u001b[43mdeep\u001b[49m\u001b[43m)\u001b[49m\n\u001b[0;32m    652\u001b[0m new_refs: \u001b[38;5;28mlist\u001b[39m[weakref\u001b[38;5;241m.\u001b[39mref \u001b[38;5;241m|\u001b[39m \u001b[38;5;28;01mNone\u001b[39;00m] \u001b[38;5;241m|\u001b[39m \u001b[38;5;28;01mNone\u001b[39;00m\n\u001b[0;32m    653\u001b[0m \u001b[38;5;28;01mif\u001b[39;00m deep:\n",
      "File \u001b[1;32m~\\anaconda3\\lib\\site-packages\\pandas\\core\\internals\\managers.py:352\u001b[0m, in \u001b[0;36mBaseBlockManager.apply\u001b[1;34m(self, f, align_keys, ignore_failures, **kwargs)\u001b[0m\n\u001b[0;32m    350\u001b[0m         applied \u001b[38;5;241m=\u001b[39m b\u001b[38;5;241m.\u001b[39mapply(f, \u001b[38;5;241m*\u001b[39m\u001b[38;5;241m*\u001b[39mkwargs)\n\u001b[0;32m    351\u001b[0m     \u001b[38;5;28;01melse\u001b[39;00m:\n\u001b[1;32m--> 352\u001b[0m         applied \u001b[38;5;241m=\u001b[39m \u001b[38;5;28;43mgetattr\u001b[39;49m\u001b[43m(\u001b[49m\u001b[43mb\u001b[49m\u001b[43m,\u001b[49m\u001b[43m \u001b[49m\u001b[43mf\u001b[49m\u001b[43m)\u001b[49m\u001b[43m(\u001b[49m\u001b[38;5;241;43m*\u001b[39;49m\u001b[38;5;241;43m*\u001b[39;49m\u001b[43mkwargs\u001b[49m\u001b[43m)\u001b[49m\n\u001b[0;32m    353\u001b[0m \u001b[38;5;28;01mexcept\u001b[39;00m (\u001b[38;5;167;01mTypeError\u001b[39;00m, \u001b[38;5;167;01mNotImplementedError\u001b[39;00m):\n\u001b[0;32m    354\u001b[0m     \u001b[38;5;28;01mif\u001b[39;00m \u001b[38;5;129;01mnot\u001b[39;00m ignore_failures:\n",
      "File \u001b[1;32m~\\anaconda3\\lib\\site-packages\\pandas\\core\\internals\\blocks.py:549\u001b[0m, in \u001b[0;36mBlock.copy\u001b[1;34m(self, deep)\u001b[0m\n\u001b[0;32m    547\u001b[0m values \u001b[38;5;241m=\u001b[39m \u001b[38;5;28mself\u001b[39m\u001b[38;5;241m.\u001b[39mvalues\n\u001b[0;32m    548\u001b[0m \u001b[38;5;28;01mif\u001b[39;00m deep:\n\u001b[1;32m--> 549\u001b[0m     values \u001b[38;5;241m=\u001b[39m \u001b[43mvalues\u001b[49m\u001b[38;5;241;43m.\u001b[39;49m\u001b[43mcopy\u001b[49m\u001b[43m(\u001b[49m\u001b[43m)\u001b[49m\n\u001b[0;32m    550\u001b[0m \u001b[38;5;28;01mreturn\u001b[39;00m \u001b[38;5;28mtype\u001b[39m(\u001b[38;5;28mself\u001b[39m)(values, placement\u001b[38;5;241m=\u001b[39m\u001b[38;5;28mself\u001b[39m\u001b[38;5;241m.\u001b[39m_mgr_locs, ndim\u001b[38;5;241m=\u001b[39m\u001b[38;5;28mself\u001b[39m\u001b[38;5;241m.\u001b[39mndim)\n",
      "\u001b[1;31mMemoryError\u001b[0m: Unable to allocate 54.7 MiB for an array with shape (1, 7174028) and data type object"
     ]
    }
   ],
   "source": [
    "# To show that the data follows a normal dist.\n",
    "\n",
    "# Testing\n",
    "robot_name = \"7600-100440\"\n",
    "series_name = \"TL\"\n",
    "param_name = \"torqueactual\"\n",
    "\n",
    "a = get_info_of_all_time_series_specific(modified_df, robot_name, series_name, param_name)"
   ]
  },
  {
   "cell_type": "code",
   "execution_count": null,
   "id": "569ad0fb51e2b188",
   "metadata": {},
   "outputs": [],
   "source": [
    "# transpose nested list (such that we look into the normal dist. of each time point\n",
    "nested_list = a\n",
    "transposed_list = []\n",
    "\n",
    "for i in range(100):\n",
    "    temp_info_of_index = []\n",
    "    \n",
    "    for temp_list in nested_list:\n",
    "        temp_info_of_index.append(temp_list[i])\n",
    "        \n",
    "    transposed_list.append(temp_info_of_index)"
   ]
  },
  {
   "cell_type": "code",
   "execution_count": null,
   "id": "2b062c72b004d962",
   "metadata": {},
   "outputs": [],
   "source": [
    "import statistics \n",
    "import matplotlib.pyplot as plt\n",
    "import numpy as np\n",
    "import scipy.stats as stats\n",
    "\n",
    "for tns_list in transposed_list[5:15]:\n",
    "    norm = [float(i)/sum(tns_list) for i in tns_list]\n",
    "    norm.sort()\n",
    "    x_axis = norm\n",
    "      \n",
    "    # Calculating mean and standard deviation \n",
    "    mean = statistics.mean(x_axis) \n",
    "    sd = statistics.stdev(x_axis) \n",
    "    \n",
    "    plt.plot(x_axis, stats.norm.pdf(x_axis, mean, sd))\n",
    "    \n",
    "plt.xlabel('Standard Deviation from the Mean')\n",
    "plt.ylabel(\"Probability Density\")\n",
    "plt.title(\"The distribution of each time index from point 5 to 15.\")\n",
    "plt.show()"
   ]
  },
  {
   "cell_type": "code",
   "execution_count": null,
   "id": "6d1b74359f6399dd",
   "metadata": {},
   "outputs": [],
   "source": [
    "import matplotlib.pyplot as plt\n",
    "\n",
    "nested = transposed_list\n",
    "fully_nested = [list(zip(*[(ix+1,y) for ix,y in enumerate(x)])) for x in nested]\n",
    "names = ['sublist%d'%(i+1) for i in range(len(fully_nested))]\n",
    "\n",
    "for l in fully_nested:\n",
    "    plt.plot(*l)\n",
    "    \n",
    "plt.xlabel(\"Indices\")\n",
    "plt.xlabel(\"Values\")\n",
    "plt.show()"
   ]
  },
  {
   "cell_type": "code",
   "execution_count": null,
   "id": "6d1384b9d76e6d83",
   "metadata": {},
   "outputs": [],
   "source": [
    "# this cell is only needed to run if a new file is needed (takes long time)\n",
    "\n",
    "# dict_with_mean_and_std = add_mean_and_std_into_df(modified_df)\n",
    "# \n",
    "# os.chdir(\"C:/Users/dnaen/PycharmProjects/anomaly_detection/models/statistical_analysis/\")\n",
    "# save_dict(dict_with_mean_and_std, \"of_7600_new\")\n",
    "# os.chdir(\"C:/Users/dnaen/PycharmProjects/anomaly_detection/src/statistical_methods/\")"
   ]
  },
  {
   "cell_type": "code",
   "execution_count": 24,
   "id": "1c1baa0a5bb15c13",
   "metadata": {
    "ExecuteTime": {
     "end_time": "2024-06-24T20:36:12.648428Z",
     "start_time": "2024-06-24T20:36:12.627027Z"
    }
   },
   "outputs": [
    {
     "data": {
      "text/plain": [
       "'C:\\\\Users\\\\dnaen\\\\PycharmProjects\\\\anomaly_detection\\\\src\\\\statistical_methods'"
      ]
     },
     "execution_count": 24,
     "metadata": {},
     "output_type": "execute_result"
    }
   ],
   "source": [
    "os.getcwd()"
   ]
  },
  {
   "cell_type": "code",
   "execution_count": 11,
   "id": "b53181f974a7bd19",
   "metadata": {
    "ExecuteTime": {
     "end_time": "2024-06-25T12:59:14.172462Z",
     "start_time": "2024-06-25T12:59:14.141981Z"
    }
   },
   "outputs": [],
   "source": [
    "\"\"\"\n",
    "un-comment this to skip \"add_mean_and_std_into_df\" function\n",
    "\"\"\" \n",
    "os.chdir(\"C:/Users/dnaen/PycharmProjects/anomaly_detection/models/statistical_analysis/\")\n",
    "\n",
    "# os.chdir(\"anomaly_detection/models/statistical_analysis/\")\n",
    "dict_with_mean_and_std = load_dict(\"of_7600_new\")\n",
    "# os.chdir(\"anomaly_detection/src/statistical_methods/\")"
   ]
  },
  {
   "cell_type": "markdown",
   "id": "653672739ca2a3e5",
   "metadata": {},
   "source": [
    "# Anomalies"
   ]
  },
  {
   "cell_type": "markdown",
   "id": "45eeac38a324fde3",
   "metadata": {},
   "source": [
    "- Point Anomalies\n",
    "- Gaussian Noise Anomalies\n",
    "- Shift Anomaly\n",
    "- Trend Anomaly\n",
    "- Sinusoidal Anomaly"
   ]
  },
  {
   "cell_type": "markdown",
   "id": "f869f39b5053a377",
   "metadata": {},
   "source": [
    "On:\n",
    "- robot_name = \"7600-100498\" / \"7600-100440\"\n",
    "- series_name = \"Ta\" / \"TL\"\n",
    "- param_name = \"torqueactual\""
   ]
  },
  {
   "cell_type": "markdown",
   "id": "499b5a4e4fc4716c",
   "metadata": {},
   "source": [
    "### COMPARE TO HMM"
   ]
  },
  {
   "cell_type": "code",
   "execution_count": 68,
   "id": "3b23483a2f06c9d7",
   "metadata": {
    "ExecuteTime": {
     "end_time": "2024-06-26T13:45:35.585250Z",
     "start_time": "2024-06-26T13:45:35.574509Z"
    }
   },
   "outputs": [
    {
     "data": {
      "text/plain": [
       "'C:\\\\Users\\\\dnaen\\\\PycharmProjects\\\\anomaly_detection'"
      ]
     },
     "execution_count": 68,
     "metadata": {},
     "output_type": "execute_result"
    }
   ],
   "source": [
    "os.chdir(\"C:/Users/dnaen/PycharmProjects/anomaly_detection/\")\n",
    "os.getcwd()"
   ]
  },
  {
   "cell_type": "code",
   "execution_count": 21,
   "id": "f697ab47df5a3ba5",
   "metadata": {
    "ExecuteTime": {
     "end_time": "2024-06-26T10:21:04.551410Z",
     "start_time": "2024-06-26T10:20:55.826703Z"
    }
   },
   "outputs": [
    {
     "data": {
      "text/html": [
       "<div>\n",
       "<style scoped>\n",
       "    .dataframe tbody tr th:only-of-type {\n",
       "        vertical-align: middle;\n",
       "    }\n",
       "\n",
       "    .dataframe tbody tr th {\n",
       "        vertical-align: top;\n",
       "    }\n",
       "\n",
       "    .dataframe thead th {\n",
       "        text-align: right;\n",
       "    }\n",
       "</style>\n",
       "<table border=\"1\" class=\"dataframe\">\n",
       "  <thead>\n",
       "    <tr style=\"text-align: right;\">\n",
       "      <th></th>\n",
       "      <th>axisnumber</th>\n",
       "      <th>id</th>\n",
       "      <th>manipulator</th>\n",
       "      <th>motorposition</th>\n",
       "      <th>speedsetpoint</th>\n",
       "      <th>timeindex</th>\n",
       "      <th>torqueactual</th>\n",
       "      <th>torquefeedforward</th>\n",
       "      <th>type</th>\n",
       "      <th>date</th>\n",
       "      <th>robot_type</th>\n",
       "      <th>robot</th>\n",
       "    </tr>\n",
       "  </thead>\n",
       "  <tbody>\n",
       "    <tr>\n",
       "      <th>6912</th>\n",
       "      <td>1</td>\n",
       "      <td>7600-100440|2022-11-16_09:42:54</td>\n",
       "      <td>TRACK_1</td>\n",
       "      <td>0.0</td>\n",
       "      <td>-0.000000</td>\n",
       "      <td>0.009</td>\n",
       "      <td>0.053306</td>\n",
       "      <td>0.0</td>\n",
       "      <td>100440</td>\n",
       "      <td>2022-11-16</td>\n",
       "      <td>7600</td>\n",
       "      <td>7600-100440</td>\n",
       "    </tr>\n",
       "    <tr>\n",
       "      <th>6913</th>\n",
       "      <td>1</td>\n",
       "      <td>7600-100440|2022-11-16_09:42:54</td>\n",
       "      <td>TRACK_1</td>\n",
       "      <td>0.0</td>\n",
       "      <td>0.380452</td>\n",
       "      <td>0.023</td>\n",
       "      <td>-0.093410</td>\n",
       "      <td>0.0</td>\n",
       "      <td>100440</td>\n",
       "      <td>2022-11-16</td>\n",
       "      <td>7600</td>\n",
       "      <td>7600-100440</td>\n",
       "    </tr>\n",
       "  </tbody>\n",
       "</table>\n",
       "</div>"
      ],
      "text/plain": [
       "      axisnumber                               id manipulator  motorposition  \\\n",
       "6912           1  7600-100440|2022-11-16_09:42:54     TRACK_1            0.0   \n",
       "6913           1  7600-100440|2022-11-16_09:42:54     TRACK_1            0.0   \n",
       "\n",
       "      speedsetpoint  timeindex  torqueactual  torquefeedforward    type  \\\n",
       "6912      -0.000000      0.009      0.053306                0.0  100440   \n",
       "6913       0.380452      0.023     -0.093410                0.0  100440   \n",
       "\n",
       "            date robot_type        robot  \n",
       "6912  2022-11-16       7600  7600-100440  \n",
       "6913  2022-11-16       7600  7600-100440  "
      ]
     },
     "execution_count": 21,
     "metadata": {},
     "output_type": "execute_result"
    }
   ],
   "source": [
    "from src.data.utils import add_type_column\n",
    "from src.data.anomalies import NoiseFactory\n",
    "from sklearn.metrics import f1_score\n",
    "from sklearn.metrics import accuracy_score\n",
    "from sklearn.metrics import precision_score\n",
    "from sklearn.metrics import recall_score\n",
    "import json\n",
    "\n",
    "tl = pd.read_parquet(\"data/cleaned_data/TL_type_additional_data_cleaned.parquet\")\n",
    "tl = add_type_column(tl)\n",
    "tl.head()"
   ]
  },
  {
   "cell_type": "markdown",
   "id": "a0c3a0f11b77e21",
   "metadata": {},
   "source": [
    "#### Robot 498"
   ]
  },
  {
   "cell_type": "code",
   "execution_count": 22,
   "id": "f4571de1bca58d7",
   "metadata": {
    "ExecuteTime": {
     "end_time": "2024-06-26T10:21:04.566533Z",
     "start_time": "2024-06-26T10:21:04.554274Z"
    }
   },
   "outputs": [
    {
     "data": {
      "text/plain": [
       "'C:\\\\Users\\\\dnaen\\\\PycharmProjects\\\\anomaly_detection'"
      ]
     },
     "execution_count": 22,
     "metadata": {},
     "output_type": "execute_result"
    }
   ],
   "source": [
    "os.getcwd()"
   ]
  },
  {
   "cell_type": "code",
   "execution_count": 69,
   "id": "18671a7dbebc6818",
   "metadata": {
    "ExecuteTime": {
     "end_time": "2024-06-26T13:45:40.465138Z",
     "start_time": "2024-06-26T13:45:39.127105Z"
    }
   },
   "outputs": [],
   "source": [
    "# Data\n",
    "tl_498 = tl[tl[\"type\"] == \"100498\"]\n",
    "\n",
    "# Noise Factory\n",
    "noise = NoiseFactory(tl_498, num_sequences=1)\n",
    "\n",
    "# Testing\n",
    "robot_name = \"7600-100498\"\n",
    "series_name = \"TL\"\n",
    "param_name = \"torqueactual\"\n",
    "\n",
    "model_ref = BaselineModel()\n",
    "values = []"
   ]
  },
  {
   "cell_type": "code",
   "execution_count": 36,
   "id": "bbd311b9937fb44f",
   "metadata": {
    "ExecuteTime": {
     "end_time": "2024-06-26T10:40:21.851139Z",
     "start_time": "2024-06-26T10:40:21.823724Z"
    }
   },
   "outputs": [
    {
     "data": {
      "text/html": [
       "<div>\n",
       "<style scoped>\n",
       "    .dataframe tbody tr th:only-of-type {\n",
       "        vertical-align: middle;\n",
       "    }\n",
       "\n",
       "    .dataframe tbody tr th {\n",
       "        vertical-align: top;\n",
       "    }\n",
       "\n",
       "    .dataframe thead th {\n",
       "        text-align: right;\n",
       "    }\n",
       "</style>\n",
       "<table border=\"1\" class=\"dataframe\">\n",
       "  <thead>\n",
       "    <tr style=\"text-align: right;\">\n",
       "      <th></th>\n",
       "      <th>axisnumber</th>\n",
       "      <th>id</th>\n",
       "      <th>manipulator</th>\n",
       "      <th>motorposition</th>\n",
       "      <th>speedsetpoint</th>\n",
       "      <th>timeindex</th>\n",
       "      <th>torqueactual</th>\n",
       "      <th>torquefeedforward</th>\n",
       "      <th>type</th>\n",
       "      <th>date</th>\n",
       "      <th>robot_type</th>\n",
       "      <th>robot</th>\n",
       "    </tr>\n",
       "  </thead>\n",
       "  <tbody>\n",
       "    <tr>\n",
       "      <th>16784</th>\n",
       "      <td>1</td>\n",
       "      <td>7600-100498|2022-11-16_09:49:53</td>\n",
       "      <td>TRACK_1</td>\n",
       "      <td>0.000</td>\n",
       "      <td>0.380452</td>\n",
       "      <td>0.009</td>\n",
       "      <td>-0.045901</td>\n",
       "      <td>0.0</td>\n",
       "      <td>100498</td>\n",
       "      <td>2022-11-16</td>\n",
       "      <td>7600</td>\n",
       "      <td>7600-100498</td>\n",
       "    </tr>\n",
       "    <tr>\n",
       "      <th>16785</th>\n",
       "      <td>1</td>\n",
       "      <td>7600-100498|2022-11-16_09:49:53</td>\n",
       "      <td>TRACK_1</td>\n",
       "      <td>0.000</td>\n",
       "      <td>-0.380452</td>\n",
       "      <td>0.018</td>\n",
       "      <td>0.039418</td>\n",
       "      <td>0.0</td>\n",
       "      <td>100498</td>\n",
       "      <td>2022-11-16</td>\n",
       "      <td>7600</td>\n",
       "      <td>7600-100498</td>\n",
       "    </tr>\n",
       "    <tr>\n",
       "      <th>16786</th>\n",
       "      <td>1</td>\n",
       "      <td>7600-100498|2022-11-16_09:49:53</td>\n",
       "      <td>TRACK_1</td>\n",
       "      <td>0.000</td>\n",
       "      <td>-0.380452</td>\n",
       "      <td>0.027</td>\n",
       "      <td>-0.026011</td>\n",
       "      <td>0.0</td>\n",
       "      <td>100498</td>\n",
       "      <td>2022-11-16</td>\n",
       "      <td>7600</td>\n",
       "      <td>7600-100498</td>\n",
       "    </tr>\n",
       "    <tr>\n",
       "      <th>16787</th>\n",
       "      <td>1</td>\n",
       "      <td>7600-100498|2022-11-16_09:49:53</td>\n",
       "      <td>TRACK_1</td>\n",
       "      <td>0.001</td>\n",
       "      <td>-0.190226</td>\n",
       "      <td>0.036</td>\n",
       "      <td>-0.175250</td>\n",
       "      <td>0.0</td>\n",
       "      <td>100498</td>\n",
       "      <td>2022-11-16</td>\n",
       "      <td>7600</td>\n",
       "      <td>7600-100498</td>\n",
       "    </tr>\n",
       "    <tr>\n",
       "      <th>16788</th>\n",
       "      <td>1</td>\n",
       "      <td>7600-100498|2022-11-16_09:49:53</td>\n",
       "      <td>TRACK_1</td>\n",
       "      <td>0.001</td>\n",
       "      <td>0.570677</td>\n",
       "      <td>0.049</td>\n",
       "      <td>0.025751</td>\n",
       "      <td>0.0</td>\n",
       "      <td>100498</td>\n",
       "      <td>2022-11-16</td>\n",
       "      <td>7600</td>\n",
       "      <td>7600-100498</td>\n",
       "    </tr>\n",
       "  </tbody>\n",
       "</table>\n",
       "</div>"
      ],
      "text/plain": [
       "       axisnumber                               id manipulator  motorposition  \\\n",
       "16784           1  7600-100498|2022-11-16_09:49:53     TRACK_1          0.000   \n",
       "16785           1  7600-100498|2022-11-16_09:49:53     TRACK_1          0.000   \n",
       "16786           1  7600-100498|2022-11-16_09:49:53     TRACK_1          0.000   \n",
       "16787           1  7600-100498|2022-11-16_09:49:53     TRACK_1          0.001   \n",
       "16788           1  7600-100498|2022-11-16_09:49:53     TRACK_1          0.001   \n",
       "\n",
       "       speedsetpoint  timeindex  torqueactual  torquefeedforward    type  \\\n",
       "16784       0.380452      0.009     -0.045901                0.0  100498   \n",
       "16785      -0.380452      0.018      0.039418                0.0  100498   \n",
       "16786      -0.380452      0.027     -0.026011                0.0  100498   \n",
       "16787      -0.190226      0.036     -0.175250                0.0  100498   \n",
       "16788       0.570677      0.049      0.025751                0.0  100498   \n",
       "\n",
       "             date robot_type        robot  \n",
       "16784  2022-11-16       7600  7600-100498  \n",
       "16785  2022-11-16       7600  7600-100498  \n",
       "16786  2022-11-16       7600  7600-100498  \n",
       "16787  2022-11-16       7600  7600-100498  \n",
       "16788  2022-11-16       7600  7600-100498  "
      ]
     },
     "execution_count": 36,
     "metadata": {},
     "output_type": "execute_result"
    }
   ],
   "source": [
    "tl_498.head()"
   ]
  },
  {
   "cell_type": "code",
   "execution_count": 81,
   "id": "7aea462a3f019860",
   "metadata": {
    "ExecuteTime": {
     "end_time": "2024-06-26T18:45:00.895909Z",
     "start_time": "2024-06-26T18:45:00.878581Z"
    }
   },
   "outputs": [],
   "source": [
    "def save_results(results, extra_info = \"\"):\n",
    "    results_df = pd.DataFrame(\n",
    "        results,\n",
    "        columns=[\n",
    "            \"model_name\",\n",
    "            \"id\",\n",
    "            \"anomaly_type\",\n",
    "            \"Parameters\",\n",
    "            \"Evaluations\",\n",
    "        ],\n",
    "    )\n",
    "\n",
    "    results_df.to_csv(\"models/statistical_analysis/results/\" + extra_info + \"_metrics.csv\", index=False)\n",
    "    return results_df"
   ]
  },
  {
   "cell_type": "code",
   "execution_count": 54,
   "id": "98e04b906d164a23",
   "metadata": {},
   "outputs": [],
   "source": [
    "# os.chdir(\"C:/Users/dnaen/PycharmProjects/anomaly_detection/\")\n",
    "# model_ref = BaselineModel()"
   ]
  },
  {
   "cell_type": "code",
   "execution_count": 70,
   "id": "dfcf41e76cc73767",
   "metadata": {
    "ExecuteTime": {
     "end_time": "2024-06-26T14:29:49.227330Z",
     "start_time": "2024-06-26T13:45:42.912156Z"
    }
   },
   "outputs": [
    {
     "name": "stdout",
     "output_type": "stream",
     "text": [
      "Now doing model z_score\n",
      "\n",
      "Now doing model modified_z_score\n",
      "Size problem\n",
      "Size problem\n",
      "Size problem\n",
      "Size problem\n",
      "Size problem\n",
      "Size problem\n",
      "Size problem\n",
      "Size problem\n",
      "Size problem\n",
      "Size problem\n",
      "Size problem\n",
      "Size problem\n",
      "Size problem\n",
      "Size problem\n",
      "Size problem\n",
      "Size problem\n",
      "Size problem\n",
      "Size problem\n",
      "Size problem\n",
      "Size problem\n",
      "Size problem\n",
      "Size problem\n",
      "Size problem\n",
      "Size problem\n",
      "Size problem\n",
      "\n",
      "Now doing model grubbs_test\n",
      "Size problem\n",
      "Size problem\n",
      "Size problem\n",
      "Size problem\n",
      "Size problem\n",
      "Size problem\n",
      "Size problem\n",
      "Size problem\n",
      "Size problem\n",
      "Size problem\n",
      "Size problem\n",
      "Size problem\n",
      "Size problem\n",
      "Size problem\n",
      "Size problem\n",
      "Size problem\n",
      "Size problem\n",
      "Size problem\n",
      "Size problem\n",
      "Size problem\n",
      "Size problem\n",
      "Size problem\n",
      "Size problem\n",
      "Size problem\n",
      "Size problem\n",
      "\n"
     ]
    }
   ],
   "source": [
    "import warnings\n",
    "warnings.filterwarnings('ignore')\n",
    "\n",
    "# Point anomaly\n",
    "model_names = [\"z_score\", \"modified_z_score\", \"grubbs_test\"]\n",
    "for model_name in model_names:\n",
    "    print(\"Now doing model\", model_name)\n",
    "    for _id, std, num, the_noise_sample, true_boolean in noise.gen_point_anomalies():\n",
    "        model_boolean_answer = model_ref.call_model(tl_498, robot_name, series_name, param_name, the_noise_sample, model_name)\n",
    "        \n",
    "        values.append(\n",
    "            [\n",
    "                model_name,\n",
    "                _id,\n",
    "                \"point_anomaly\",\n",
    "                json.dumps({\"std\": std, \"num\": num}),\n",
    "                json.dumps({\"Accuracy\": accuracy_score(true_boolean, model_boolean_answer), \"Precision\": precision_score(true_boolean, model_boolean_answer), \"Recall\": recall_score(true_boolean, model_boolean_answer)}),\n",
    "            ]\n",
    "        )\n",
    "    print()"
   ]
  },
  {
   "cell_type": "code",
   "execution_count": 71,
   "id": "36d18b4311a8c657",
   "metadata": {
    "ExecuteTime": {
     "end_time": "2024-06-26T14:30:21.767647Z",
     "start_time": "2024-06-26T14:30:21.753626Z"
    }
   },
   "outputs": [],
   "source": [
    "point_anomaly_498_values = values"
   ]
  },
  {
   "cell_type": "code",
   "execution_count": 74,
   "id": "99bae827d0ad5ec3",
   "metadata": {
    "ExecuteTime": {
     "end_time": "2024-06-26T14:33:21.640160Z",
     "start_time": "2024-06-26T14:32:48.747831Z"
    }
   },
   "outputs": [
    {
     "name": "stdout",
     "output_type": "stream",
     "text": [
      "Now doing model z_score\n",
      "\n",
      "Now doing model modified_z_score\n"
     ]
    },
    {
     "ename": "KeyboardInterrupt",
     "evalue": "",
     "output_type": "error",
     "traceback": [
      "\u001b[1;31m---------------------------------------------------------------------------\u001b[0m",
      "\u001b[1;31mKeyboardInterrupt\u001b[0m                         Traceback (most recent call last)",
      "Cell \u001b[1;32mIn[74], line 5\u001b[0m\n\u001b[0;32m      3\u001b[0m \u001b[38;5;28mprint\u001b[39m(\u001b[38;5;124m\"\u001b[39m\u001b[38;5;124mNow doing model\u001b[39m\u001b[38;5;124m\"\u001b[39m, model_name)\n\u001b[0;32m      4\u001b[0m \u001b[38;5;28;01mfor\u001b[39;00m _id, std, the_noise_sample, true_boolean \u001b[38;5;129;01min\u001b[39;00m noise\u001b[38;5;241m.\u001b[39mgen_gaussian_anomalies():\n\u001b[1;32m----> 5\u001b[0m     model_boolean_answer \u001b[38;5;241m=\u001b[39m \u001b[43mmodel_ref\u001b[49m\u001b[38;5;241;43m.\u001b[39;49m\u001b[43mcall_model\u001b[49m\u001b[43m(\u001b[49m\u001b[43mtl_498\u001b[49m\u001b[43m,\u001b[49m\u001b[43m \u001b[49m\u001b[43mrobot_name\u001b[49m\u001b[43m,\u001b[49m\u001b[43m \u001b[49m\u001b[43mseries_name\u001b[49m\u001b[43m,\u001b[49m\u001b[43m \u001b[49m\u001b[43mparam_name\u001b[49m\u001b[43m,\u001b[49m\u001b[43m \u001b[49m\u001b[43mthe_noise_sample\u001b[49m\u001b[43m,\u001b[49m\u001b[43m \u001b[49m\u001b[43mmodel_name\u001b[49m\u001b[43m)\u001b[49m\n\u001b[0;32m      7\u001b[0m     values\u001b[38;5;241m.\u001b[39mappend(\n\u001b[0;32m      8\u001b[0m         [\n\u001b[0;32m      9\u001b[0m             model_name,\n\u001b[1;32m   (...)\u001b[0m\n\u001b[0;32m     14\u001b[0m         ]\n\u001b[0;32m     15\u001b[0m     )\n\u001b[0;32m     16\u001b[0m \u001b[38;5;28mprint\u001b[39m()\n",
      "Cell \u001b[1;32mIn[53], line 17\u001b[0m, in \u001b[0;36mBaselineModel.call_model\u001b[1;34m(self, given_df, given_robot_id, given_series_type, given_param, given_data, given_model_name)\u001b[0m\n\u001b[0;32m     15\u001b[0m     \u001b[38;5;28;01mreturn\u001b[39;00m \u001b[38;5;28mself\u001b[39m\u001b[38;5;241m.\u001b[39mget_anomaly_boolean_list_z_score(given_robot_id, given_series_type, given_param, given_data)\n\u001b[0;32m     16\u001b[0m \u001b[38;5;28;01melif\u001b[39;00m given_model_name \u001b[38;5;241m==\u001b[39m \u001b[38;5;124m\"\u001b[39m\u001b[38;5;124mmodified_z_score\u001b[39m\u001b[38;5;124m\"\u001b[39m:\n\u001b[1;32m---> 17\u001b[0m     \u001b[38;5;28;01mreturn\u001b[39;00m \u001b[38;5;28;43mself\u001b[39;49m\u001b[38;5;241;43m.\u001b[39;49m\u001b[43mget_anomaly_boolean_list_modified_z_score\u001b[49m\u001b[43m(\u001b[49m\u001b[43mgiven_df\u001b[49m\u001b[43m,\u001b[49m\u001b[43m \u001b[49m\u001b[43mgiven_robot_id\u001b[49m\u001b[43m,\u001b[49m\u001b[43m \u001b[49m\u001b[43mgiven_series_type\u001b[49m\u001b[43m,\u001b[49m\u001b[43m \u001b[49m\u001b[43mgiven_param\u001b[49m\u001b[43m,\u001b[49m\u001b[43m \u001b[49m\u001b[43mgiven_data\u001b[49m\u001b[43m)\u001b[49m\n\u001b[0;32m     18\u001b[0m \u001b[38;5;28;01melif\u001b[39;00m given_model_name \u001b[38;5;241m==\u001b[39m \u001b[38;5;124m\"\u001b[39m\u001b[38;5;124mgrubbs_test\u001b[39m\u001b[38;5;124m\"\u001b[39m:\n\u001b[0;32m     19\u001b[0m     \u001b[38;5;28;01mreturn\u001b[39;00m \u001b[38;5;28mself\u001b[39m\u001b[38;5;241m.\u001b[39mget_anomaly_boolean_list_grubbs_test(given_df, given_robot_id, given_series_type, given_param, given_data)\n",
      "Cell \u001b[1;32mIn[53], line 70\u001b[0m, in \u001b[0;36mBaselineModel.get_anomaly_boolean_list_modified_z_score\u001b[1;34m(self, given_df, given_robot_id, given_series_type, given_param, given_data)\u001b[0m\n\u001b[0;32m     68\u001b[0m \u001b[38;5;28;01mdef\u001b[39;00m \u001b[38;5;21mget_anomaly_boolean_list_modified_z_score\u001b[39m(\u001b[38;5;28mself\u001b[39m, given_df, given_robot_id, given_series_type, given_param, given_data):\n\u001b[1;32m---> 70\u001b[0m     saved_lists \u001b[38;5;241m=\u001b[39m \u001b[38;5;28;43mself\u001b[39;49m\u001b[38;5;241;43m.\u001b[39;49m\u001b[43mget_all_time_series_of_specific\u001b[49m\u001b[43m(\u001b[49m\u001b[43mgiven_df\u001b[49m\u001b[43m,\u001b[49m\u001b[43m \u001b[49m\u001b[43mgiven_robot_id\u001b[49m\u001b[43m,\u001b[49m\u001b[43m \u001b[49m\u001b[43mgiven_series_type\u001b[49m\u001b[43m,\u001b[49m\u001b[43m \u001b[49m\u001b[43mgiven_param\u001b[49m\u001b[43m)\u001b[49m\n\u001b[0;32m     72\u001b[0m     \u001b[38;5;66;03m# Use itertools.zip_longest to transpose the list\u001b[39;00m\n\u001b[0;32m     73\u001b[0m     saved_list_transposed \u001b[38;5;241m=\u001b[39m \u001b[38;5;28mlist\u001b[39m(itertools\u001b[38;5;241m.\u001b[39mzip_longest(\u001b[38;5;241m*\u001b[39msaved_lists, fillvalue\u001b[38;5;241m=\u001b[39m\u001b[38;5;28;01mNone\u001b[39;00m))\n",
      "Cell \u001b[1;32mIn[53], line 45\u001b[0m, in \u001b[0;36mBaselineModel.get_all_time_series_of_specific\u001b[1;34m(self, given_df, given_robot_id, given_series_type, given_param)\u001b[0m\n\u001b[0;32m     43\u001b[0m saved_lists \u001b[38;5;241m=\u001b[39m []\n\u001b[0;32m     44\u001b[0m \u001b[38;5;28;01mfor\u001b[39;00m t_index \u001b[38;5;129;01min\u001b[39;00m all_time_index_ids:\n\u001b[1;32m---> 45\u001b[0m     saved_lists\u001b[38;5;241m.\u001b[39mappend(\u001b[38;5;28mlist\u001b[39m(df_of_robot_series_param[\u001b[43mdf_of_robot_series_param\u001b[49m\u001b[43m[\u001b[49m\u001b[38;5;124;43m\"\u001b[39;49m\u001b[38;5;124;43mid\u001b[39;49m\u001b[38;5;124;43m\"\u001b[39;49m\u001b[43m]\u001b[49m\u001b[43m \u001b[49m\u001b[38;5;241;43m==\u001b[39;49m\u001b[43m \u001b[49m\u001b[43mt_index\u001b[49m][given_param]))\n\u001b[0;32m     47\u001b[0m \u001b[38;5;28;01mreturn\u001b[39;00m saved_lists\n",
      "File \u001b[1;32m~\\anaconda3\\lib\\site-packages\\pandas\\core\\ops\\common.py:72\u001b[0m, in \u001b[0;36m_unpack_zerodim_and_defer.<locals>.new_method\u001b[1;34m(self, other)\u001b[0m\n\u001b[0;32m     68\u001b[0m             \u001b[38;5;28;01mreturn\u001b[39;00m \u001b[38;5;28mNotImplemented\u001b[39m\n\u001b[0;32m     70\u001b[0m other \u001b[38;5;241m=\u001b[39m item_from_zerodim(other)\n\u001b[1;32m---> 72\u001b[0m \u001b[38;5;28;01mreturn\u001b[39;00m \u001b[43mmethod\u001b[49m\u001b[43m(\u001b[49m\u001b[38;5;28;43mself\u001b[39;49m\u001b[43m,\u001b[49m\u001b[43m \u001b[49m\u001b[43mother\u001b[49m\u001b[43m)\u001b[49m\n",
      "File \u001b[1;32m~\\anaconda3\\lib\\site-packages\\pandas\\core\\arraylike.py:42\u001b[0m, in \u001b[0;36mOpsMixin.__eq__\u001b[1;34m(self, other)\u001b[0m\n\u001b[0;32m     40\u001b[0m \u001b[38;5;129m@unpack_zerodim_and_defer\u001b[39m(\u001b[38;5;124m\"\u001b[39m\u001b[38;5;124m__eq__\u001b[39m\u001b[38;5;124m\"\u001b[39m)\n\u001b[0;32m     41\u001b[0m \u001b[38;5;28;01mdef\u001b[39;00m \u001b[38;5;21m__eq__\u001b[39m(\u001b[38;5;28mself\u001b[39m, other):\n\u001b[1;32m---> 42\u001b[0m     \u001b[38;5;28;01mreturn\u001b[39;00m \u001b[38;5;28;43mself\u001b[39;49m\u001b[38;5;241;43m.\u001b[39;49m\u001b[43m_cmp_method\u001b[49m\u001b[43m(\u001b[49m\u001b[43mother\u001b[49m\u001b[43m,\u001b[49m\u001b[43m \u001b[49m\u001b[43moperator\u001b[49m\u001b[38;5;241;43m.\u001b[39;49m\u001b[43meq\u001b[49m\u001b[43m)\u001b[49m\n",
      "File \u001b[1;32m~\\anaconda3\\lib\\site-packages\\pandas\\core\\series.py:6243\u001b[0m, in \u001b[0;36mSeries._cmp_method\u001b[1;34m(self, other, op)\u001b[0m\n\u001b[0;32m   6240\u001b[0m rvalues \u001b[38;5;241m=\u001b[39m extract_array(other, extract_numpy\u001b[38;5;241m=\u001b[39m\u001b[38;5;28;01mTrue\u001b[39;00m, extract_range\u001b[38;5;241m=\u001b[39m\u001b[38;5;28;01mTrue\u001b[39;00m)\n\u001b[0;32m   6242\u001b[0m \u001b[38;5;28;01mwith\u001b[39;00m np\u001b[38;5;241m.\u001b[39merrstate(\u001b[38;5;28mall\u001b[39m\u001b[38;5;241m=\u001b[39m\u001b[38;5;124m\"\u001b[39m\u001b[38;5;124mignore\u001b[39m\u001b[38;5;124m\"\u001b[39m):\n\u001b[1;32m-> 6243\u001b[0m     res_values \u001b[38;5;241m=\u001b[39m \u001b[43mops\u001b[49m\u001b[38;5;241;43m.\u001b[39;49m\u001b[43mcomparison_op\u001b[49m\u001b[43m(\u001b[49m\u001b[43mlvalues\u001b[49m\u001b[43m,\u001b[49m\u001b[43m \u001b[49m\u001b[43mrvalues\u001b[49m\u001b[43m,\u001b[49m\u001b[43m \u001b[49m\u001b[43mop\u001b[49m\u001b[43m)\u001b[49m\n\u001b[0;32m   6245\u001b[0m \u001b[38;5;28;01mreturn\u001b[39;00m \u001b[38;5;28mself\u001b[39m\u001b[38;5;241m.\u001b[39m_construct_result(res_values, name\u001b[38;5;241m=\u001b[39mres_name)\n",
      "File \u001b[1;32m~\\anaconda3\\lib\\site-packages\\pandas\\core\\ops\\array_ops.py:287\u001b[0m, in \u001b[0;36mcomparison_op\u001b[1;34m(left, right, op)\u001b[0m\n\u001b[0;32m    284\u001b[0m     \u001b[38;5;28;01mreturn\u001b[39;00m invalid_comparison(lvalues, rvalues, op)\n\u001b[0;32m    286\u001b[0m \u001b[38;5;28;01melif\u001b[39;00m is_object_dtype(lvalues\u001b[38;5;241m.\u001b[39mdtype) \u001b[38;5;129;01mor\u001b[39;00m \u001b[38;5;28misinstance\u001b[39m(rvalues, \u001b[38;5;28mstr\u001b[39m):\n\u001b[1;32m--> 287\u001b[0m     res_values \u001b[38;5;241m=\u001b[39m \u001b[43mcomp_method_OBJECT_ARRAY\u001b[49m\u001b[43m(\u001b[49m\u001b[43mop\u001b[49m\u001b[43m,\u001b[49m\u001b[43m \u001b[49m\u001b[43mlvalues\u001b[49m\u001b[43m,\u001b[49m\u001b[43m \u001b[49m\u001b[43mrvalues\u001b[49m\u001b[43m)\u001b[49m\n\u001b[0;32m    289\u001b[0m \u001b[38;5;28;01melse\u001b[39;00m:\n\u001b[0;32m    290\u001b[0m     res_values \u001b[38;5;241m=\u001b[39m _na_arithmetic_op(lvalues, rvalues, op, is_cmp\u001b[38;5;241m=\u001b[39m\u001b[38;5;28;01mTrue\u001b[39;00m)\n",
      "File \u001b[1;32m~\\anaconda3\\lib\\site-packages\\pandas\\core\\ops\\array_ops.py:76\u001b[0m, in \u001b[0;36mcomp_method_OBJECT_ARRAY\u001b[1;34m(op, x, y)\u001b[0m\n\u001b[0;32m     74\u001b[0m \u001b[38;5;28;01melse\u001b[39;00m:\n\u001b[0;32m     75\u001b[0m     result \u001b[38;5;241m=\u001b[39m libops\u001b[38;5;241m.\u001b[39mscalar_compare(x\u001b[38;5;241m.\u001b[39mravel(), y, op)\n\u001b[1;32m---> 76\u001b[0m \u001b[38;5;28;01mreturn\u001b[39;00m \u001b[43mresult\u001b[49m\u001b[38;5;241;43m.\u001b[39;49m\u001b[43mreshape\u001b[49m(x\u001b[38;5;241m.\u001b[39mshape)\n",
      "\u001b[1;31mKeyboardInterrupt\u001b[0m: "
     ]
    }
   ],
   "source": [
    "# Gauss anomaly\n",
    "for model_name in model_names:\n",
    "    print(\"Now doing model\", model_name)\n",
    "    for _id, std, the_noise_sample, true_boolean in noise.gen_gaussian_anomalies():\n",
    "        model_boolean_answer = model_ref.call_model(tl_498, robot_name, series_name, param_name, the_noise_sample, model_name)\n",
    "        \n",
    "        values.append(\n",
    "            [\n",
    "                model_name,\n",
    "                _id,\n",
    "                \"gaussian_anomaly\",\n",
    "                json.dumps({\"std\": std}),\n",
    "                json.dumps({\"Accuracy\": accuracy_score(true_boolean, model_boolean_answer), \"Precision\": precision_score(true_boolean, model_boolean_answer), \"Recall\": recall_score(true_boolean, model_boolean_answer)}),\n",
    "            ]\n",
    "        )\n",
    "    print()"
   ]
  },
  {
   "cell_type": "code",
   "execution_count": null,
   "id": "bfcd39e3e8e89c99",
   "metadata": {},
   "outputs": [],
   "source": [
    "gauss_anomaly_498_values = values"
   ]
  },
  {
   "cell_type": "code",
   "execution_count": 75,
   "id": "eca3f5388fdec9ce",
   "metadata": {
    "ExecuteTime": {
     "end_time": "2024-06-26T17:58:57.263928Z",
     "start_time": "2024-06-26T14:33:25.524331Z"
    }
   },
   "outputs": [
    {
     "name": "stdout",
     "output_type": "stream",
     "text": [
      "Now doing model z_score\n",
      "\n",
      "Now doing model modified_z_score\n",
      "Size problem\n",
      "Size problem\n",
      "Size problem\n",
      "Size problem\n",
      "Size problem\n",
      "Size problem\n",
      "Size problem\n",
      "Size problem\n",
      "Size problem\n",
      "Size problem\n",
      "Size problem\n",
      "Size problem\n",
      "Size problem\n",
      "Size problem\n",
      "Size problem\n",
      "Size problem\n",
      "Size problem\n",
      "Size problem\n",
      "Size problem\n",
      "Size problem\n",
      "Size problem\n",
      "Size problem\n",
      "Size problem\n",
      "Size problem\n",
      "Size problem\n",
      "Size problem\n",
      "Size problem\n",
      "Size problem\n",
      "Size problem\n",
      "Size problem\n",
      "Size problem\n",
      "Size problem\n",
      "Size problem\n",
      "Size problem\n",
      "Size problem\n",
      "Size problem\n",
      "Size problem\n",
      "Size problem\n",
      "Size problem\n",
      "Size problem\n",
      "Size problem\n",
      "Size problem\n",
      "Size problem\n",
      "Size problem\n",
      "Size problem\n",
      "Size problem\n",
      "Size problem\n",
      "Size problem\n",
      "Size problem\n",
      "Size problem\n",
      "Size problem\n",
      "Size problem\n",
      "Size problem\n",
      "Size problem\n",
      "Size problem\n",
      "Size problem\n",
      "Size problem\n",
      "Size problem\n",
      "Size problem\n",
      "Size problem\n",
      "Size problem\n",
      "Size problem\n",
      "Size problem\n",
      "Size problem\n",
      "Size problem\n",
      "Size problem\n",
      "Size problem\n",
      "Size problem\n",
      "Size problem\n",
      "Size problem\n",
      "Size problem\n",
      "Size problem\n",
      "Size problem\n",
      "Size problem\n",
      "Size problem\n",
      "Size problem\n",
      "Size problem\n",
      "Size problem\n",
      "Size problem\n",
      "Size problem\n",
      "Size problem\n",
      "Size problem\n",
      "Size problem\n",
      "Size problem\n",
      "Size problem\n",
      "Size problem\n",
      "Size problem\n",
      "Size problem\n",
      "Size problem\n",
      "Size problem\n",
      "Size problem\n",
      "Size problem\n",
      "Size problem\n",
      "Size problem\n",
      "Size problem\n",
      "Size problem\n",
      "Size problem\n",
      "Size problem\n",
      "Size problem\n",
      "Size problem\n",
      "Size problem\n",
      "Size problem\n",
      "Size problem\n",
      "Size problem\n",
      "Size problem\n",
      "Size problem\n",
      "Size problem\n",
      "Size problem\n",
      "Size problem\n",
      "Size problem\n",
      "Size problem\n",
      "Size problem\n",
      "Size problem\n",
      "Size problem\n",
      "Size problem\n",
      "Size problem\n",
      "Size problem\n",
      "Size problem\n",
      "Size problem\n",
      "Size problem\n",
      "Size problem\n",
      "Size problem\n",
      "Size problem\n",
      "Size problem\n",
      "Size problem\n",
      "\n",
      "Now doing model grubbs_test\n",
      "Size problem\n",
      "Size problem\n",
      "Size problem\n",
      "Size problem\n",
      "Size problem\n",
      "Size problem\n",
      "Size problem\n",
      "Size problem\n",
      "Size problem\n",
      "Size problem\n",
      "Size problem\n",
      "Size problem\n",
      "Size problem\n",
      "Size problem\n",
      "Size problem\n",
      "Size problem\n",
      "Size problem\n",
      "Size problem\n",
      "Size problem\n",
      "Size problem\n",
      "Size problem\n",
      "Size problem\n",
      "Size problem\n",
      "Size problem\n",
      "Size problem\n",
      "Size problem\n",
      "Size problem\n",
      "Size problem\n",
      "Size problem\n",
      "Size problem\n",
      "Size problem\n",
      "Size problem\n",
      "Size problem\n",
      "Size problem\n",
      "Size problem\n",
      "Size problem\n",
      "Size problem\n",
      "Size problem\n",
      "Size problem\n",
      "Size problem\n",
      "Size problem\n",
      "Size problem\n",
      "Size problem\n",
      "Size problem\n",
      "Size problem\n",
      "Size problem\n",
      "Size problem\n",
      "Size problem\n",
      "Size problem\n",
      "Size problem\n",
      "Size problem\n",
      "Size problem\n",
      "Size problem\n",
      "Size problem\n",
      "Size problem\n",
      "Size problem\n",
      "Size problem\n",
      "Size problem\n",
      "Size problem\n",
      "Size problem\n",
      "Size problem\n",
      "Size problem\n",
      "Size problem\n",
      "Size problem\n",
      "Size problem\n",
      "Size problem\n",
      "Size problem\n",
      "Size problem\n",
      "Size problem\n",
      "Size problem\n",
      "Size problem\n",
      "Size problem\n",
      "Size problem\n",
      "Size problem\n",
      "Size problem\n",
      "Size problem\n",
      "Size problem\n",
      "Size problem\n",
      "Size problem\n",
      "Size problem\n",
      "Size problem\n",
      "Size problem\n",
      "Size problem\n",
      "Size problem\n",
      "Size problem\n",
      "Size problem\n",
      "Size problem\n",
      "Size problem\n",
      "Size problem\n",
      "Size problem\n",
      "Size problem\n",
      "Size problem\n",
      "Size problem\n",
      "Size problem\n",
      "Size problem\n",
      "Size problem\n",
      "Size problem\n",
      "Size problem\n",
      "Size problem\n",
      "Size problem\n",
      "Size problem\n",
      "Size problem\n",
      "Size problem\n",
      "Size problem\n",
      "Size problem\n",
      "Size problem\n",
      "Size problem\n",
      "Size problem\n",
      "Size problem\n",
      "Size problem\n",
      "Size problem\n",
      "Size problem\n",
      "Size problem\n",
      "Size problem\n",
      "Size problem\n",
      "Size problem\n",
      "Size problem\n",
      "Size problem\n",
      "Size problem\n",
      "Size problem\n",
      "Size problem\n",
      "Size problem\n",
      "Size problem\n",
      "Size problem\n",
      "Size problem\n",
      "\n"
     ]
    }
   ],
   "source": [
    "# Shift  anomaly\n",
    "for model_name in model_names:\n",
    "    print(\"Now doing model\", model_name)\n",
    "    for _id, start, length, strength, the_noise_sample, true_boolean in noise.gen_shift_anomaly():\n",
    "        model_boolean_answer = model_ref.call_model(tl_498, robot_name, series_name, param_name, the_noise_sample, model_name)\n",
    "        \n",
    "        values.append(\n",
    "            [\n",
    "                model_name,\n",
    "                _id,\n",
    "                \"shift_anomaly\",\n",
    "                json.dumps({\"starts\": start, \"length\": length, \"strength\": strength}),\n",
    "                json.dumps({\"Accuracy\": accuracy_score(true_boolean, model_boolean_answer), \"Precision\": precision_score(true_boolean, model_boolean_answer), \"Recall\": recall_score(true_boolean, model_boolean_answer)}),\n",
    "            ]\n",
    "        )\n",
    "    print()"
   ]
  },
  {
   "cell_type": "code",
   "execution_count": 76,
   "id": "5d0c7dee2c358810",
   "metadata": {
    "ExecuteTime": {
     "end_time": "2024-06-26T17:58:57.279866Z",
     "start_time": "2024-06-26T17:58:57.270453Z"
    }
   },
   "outputs": [],
   "source": [
    "shift_anomaly_498_values = values"
   ]
  },
  {
   "cell_type": "code",
   "execution_count": 77,
   "id": "2039f4b5ad10c659",
   "metadata": {
    "ExecuteTime": {
     "end_time": "2024-06-26T18:42:08.009848Z",
     "start_time": "2024-06-26T17:58:57.283818Z"
    }
   },
   "outputs": [
    {
     "name": "stdout",
     "output_type": "stream",
     "text": [
      "Now doing model z_score\n",
      "\n",
      "Now doing model modified_z_score\n",
      "Size problem\n",
      "Size problem\n",
      "Size problem\n",
      "Size problem\n",
      "Size problem\n",
      "Size problem\n",
      "Size problem\n",
      "Size problem\n",
      "Size problem\n",
      "Size problem\n",
      "Size problem\n",
      "Size problem\n",
      "Size problem\n",
      "Size problem\n",
      "Size problem\n",
      "Size problem\n",
      "Size problem\n",
      "Size problem\n",
      "Size problem\n",
      "Size problem\n",
      "Size problem\n",
      "Size problem\n",
      "Size problem\n",
      "Size problem\n",
      "Size problem\n",
      "\n",
      "Now doing model grubbs_test\n",
      "Size problem\n",
      "Size problem\n",
      "Size problem\n",
      "Size problem\n",
      "Size problem\n",
      "Size problem\n",
      "Size problem\n",
      "Size problem\n",
      "Size problem\n",
      "Size problem\n",
      "Size problem\n",
      "Size problem\n",
      "Size problem\n",
      "Size problem\n",
      "Size problem\n",
      "Size problem\n",
      "Size problem\n",
      "Size problem\n",
      "Size problem\n",
      "Size problem\n",
      "Size problem\n",
      "Size problem\n",
      "Size problem\n",
      "Size problem\n",
      "Size problem\n",
      "\n"
     ]
    }
   ],
   "source": [
    "# sinusoidal  anomaly\n",
    "for model_name in model_names:\n",
    "    print(\"Now doing model\", model_name)\n",
    "    for _id, length, amplitude, the_noise_sample, true_boolean in noise.gen_sinusoidal_anomaly():\n",
    "        model_boolean_answer = model_ref.call_model(tl_498, robot_name, series_name, param_name, the_noise_sample, model_name)\n",
    "        \n",
    "        values.append(\n",
    "            [\n",
    "                model_name,\n",
    "                _id,\n",
    "                \"sinusoidal_anomaly\",\n",
    "                json.dumps({\"length\": length, \"amplitude\": amplitude}),\n",
    "                json.dumps({\"Accuracy\": accuracy_score(true_boolean, model_boolean_answer), \"Precision\": precision_score(true_boolean, model_boolean_answer), \"Recall\": recall_score(true_boolean, model_boolean_answer)}),\n",
    "            ]\n",
    "        )\n",
    "    print()"
   ]
  },
  {
   "cell_type": "code",
   "execution_count": 78,
   "id": "a6957de37b94157a",
   "metadata": {
    "ExecuteTime": {
     "end_time": "2024-06-26T18:42:08.025110Z",
     "start_time": "2024-06-26T18:42:08.014114Z"
    }
   },
   "outputs": [],
   "source": [
    "sinusoidal_anomaly_498_values = values"
   ]
  },
  {
   "cell_type": "code",
   "execution_count": 82,
   "id": "d422fbe86748fcd6",
   "metadata": {
    "ExecuteTime": {
     "end_time": "2024-06-26T18:45:13.618054Z",
     "start_time": "2024-06-26T18:45:13.589019Z"
    }
   },
   "outputs": [
    {
     "data": {
      "text/html": [
       "<div>\n",
       "<style scoped>\n",
       "    .dataframe tbody tr th:only-of-type {\n",
       "        vertical-align: middle;\n",
       "    }\n",
       "\n",
       "    .dataframe tbody tr th {\n",
       "        vertical-align: top;\n",
       "    }\n",
       "\n",
       "    .dataframe thead th {\n",
       "        text-align: right;\n",
       "    }\n",
       "</style>\n",
       "<table border=\"1\" class=\"dataframe\">\n",
       "  <thead>\n",
       "    <tr style=\"text-align: right;\">\n",
       "      <th></th>\n",
       "      <th>model_name</th>\n",
       "      <th>id</th>\n",
       "      <th>anomaly_type</th>\n",
       "      <th>Parameters</th>\n",
       "      <th>Evaluations</th>\n",
       "    </tr>\n",
       "  </thead>\n",
       "  <tbody>\n",
       "    <tr>\n",
       "      <th>0</th>\n",
       "      <td>z_score</td>\n",
       "      <td>7600-100498|2022-02-07_05:00:10</td>\n",
       "      <td>point_anomaly</td>\n",
       "      <td>{\"std\": 0.1, \"num\": 5}</td>\n",
       "      <td>{\"Accuracy\": 0.9830617220582574, \"Precision\": ...</td>\n",
       "    </tr>\n",
       "    <tr>\n",
       "      <th>1</th>\n",
       "      <td>z_score</td>\n",
       "      <td>7600-100498|2022-02-07_05:00:10</td>\n",
       "      <td>point_anomaly</td>\n",
       "      <td>{\"std\": 0.1, \"num\": 6}</td>\n",
       "      <td>{\"Accuracy\": 0.9830617220582574, \"Precision\": ...</td>\n",
       "    </tr>\n",
       "    <tr>\n",
       "      <th>2</th>\n",
       "      <td>z_score</td>\n",
       "      <td>7600-100498|2022-02-07_05:00:10</td>\n",
       "      <td>point_anomaly</td>\n",
       "      <td>{\"std\": 0.1, \"num\": 7}</td>\n",
       "      <td>{\"Accuracy\": 0.9828050814833825, \"Precision\": ...</td>\n",
       "    </tr>\n",
       "    <tr>\n",
       "      <th>3</th>\n",
       "      <td>z_score</td>\n",
       "      <td>7600-100498|2022-02-07_05:00:10</td>\n",
       "      <td>point_anomaly</td>\n",
       "      <td>{\"std\": 0.1, \"num\": 8}</td>\n",
       "      <td>{\"Accuracy\": 0.982676761195945, \"Precision\": 0...</td>\n",
       "    </tr>\n",
       "    <tr>\n",
       "      <th>4</th>\n",
       "      <td>z_score</td>\n",
       "      <td>7600-100498|2022-02-07_05:00:10</td>\n",
       "      <td>point_anomaly</td>\n",
       "      <td>{\"std\": 0.1, \"num\": 9}</td>\n",
       "      <td>{\"Accuracy\": 0.9828050814833825, \"Precision\": ...</td>\n",
       "    </tr>\n",
       "  </tbody>\n",
       "</table>\n",
       "</div>"
      ],
      "text/plain": [
       "  model_name                               id   anomaly_type  \\\n",
       "0    z_score  7600-100498|2022-02-07_05:00:10  point_anomaly   \n",
       "1    z_score  7600-100498|2022-02-07_05:00:10  point_anomaly   \n",
       "2    z_score  7600-100498|2022-02-07_05:00:10  point_anomaly   \n",
       "3    z_score  7600-100498|2022-02-07_05:00:10  point_anomaly   \n",
       "4    z_score  7600-100498|2022-02-07_05:00:10  point_anomaly   \n",
       "\n",
       "               Parameters                                        Evaluations  \n",
       "0  {\"std\": 0.1, \"num\": 5}  {\"Accuracy\": 0.9830617220582574, \"Precision\": ...  \n",
       "1  {\"std\": 0.1, \"num\": 6}  {\"Accuracy\": 0.9830617220582574, \"Precision\": ...  \n",
       "2  {\"std\": 0.1, \"num\": 7}  {\"Accuracy\": 0.9828050814833825, \"Precision\": ...  \n",
       "3  {\"std\": 0.1, \"num\": 8}  {\"Accuracy\": 0.982676761195945, \"Precision\": 0...  \n",
       "4  {\"std\": 0.1, \"num\": 9}  {\"Accuracy\": 0.9828050814833825, \"Precision\": ...  "
      ]
     },
     "execution_count": 82,
     "metadata": {},
     "output_type": "execute_result"
    }
   ],
   "source": [
    "os.chdir(\"C:/Users/dnaen/PycharmProjects/anomaly_detection/\")\n",
    "new_results = save_results(values, \"498\")\n",
    "new_results.head()"
   ]
  },
  {
   "cell_type": "code",
   "execution_count": null,
   "id": "cf64bf1e7cafa54e",
   "metadata": {},
   "outputs": [],
   "source": []
  },
  {
   "cell_type": "code",
   "execution_count": 83,
   "id": "917f29cc97d7f9cc",
   "metadata": {
    "ExecuteTime": {
     "end_time": "2024-06-26T18:46:09.634471Z",
     "start_time": "2024-06-26T18:46:09.592556Z"
    }
   },
   "outputs": [
    {
     "name": "stdout",
     "output_type": "stream",
     "text": [
      "         model_name        anomaly_type  Accuracy  Precision    Recall\n",
      "0       grubbs_test       point_anomaly  0.000898   0.000898  1.000000\n",
      "1       grubbs_test       shift_anomaly  0.074739   0.074739  1.000000\n",
      "2       grubbs_test  sinusoidal_anomaly  0.206544   0.206544  1.000000\n",
      "3  modified_z_score       point_anomaly  0.903750   0.001502  0.158063\n",
      "4  modified_z_score       shift_anomaly  0.843063   0.113779  0.154641\n",
      "5  modified_z_score  sinusoidal_anomaly  0.787681   0.399440  0.332964\n",
      "6           z_score    gaussian_anomaly  0.017503   1.000000  0.017503\n",
      "7           z_score       point_anomaly  0.983010   0.010769  0.205651\n",
      "8           z_score       shift_anomaly  0.909305   0.181345  0.069136\n",
      "9           z_score  sinusoidal_anomaly  0.887987   0.775078  0.521065\n"
     ]
    }
   ],
   "source": [
    "# Create DataFrame\n",
    "df = pd.DataFrame(new_results)\n",
    "\n",
    "# Convert the 'Evaluations' column from JSON string to dictionary\n",
    "df['Evaluations'] = df['Evaluations'].apply(json.loads)\n",
    "\n",
    "# Create a new DataFrame to store the expanded evaluation metrics\n",
    "eval_df = pd.json_normalize(df['Evaluations'])\n",
    "\n",
    "# Combine the expanded evaluation metrics with the original DataFrame\n",
    "df = df.drop(columns=['Evaluations']).join(eval_df)\n",
    "\n",
    "# Group by 'model_name' and 'anomaly_type' and calculate the mean of 'Accuracy', 'Precision', and 'Recall'\n",
    "result = df.groupby(['model_name', 'anomaly_type'])[['Accuracy', 'Precision', 'Recall']].mean().reset_index()\n",
    "\n",
    "# Display the result\n",
    "print(result)"
   ]
  },
  {
   "cell_type": "code",
   "execution_count": null,
   "id": "9ca965cbfbc01fa",
   "metadata": {},
   "outputs": [],
   "source": []
  },
  {
   "cell_type": "markdown",
   "id": "ddd62a0831876e10",
   "metadata": {},
   "source": [
    "#### Robot 440"
   ]
  },
  {
   "cell_type": "code",
   "execution_count": null,
   "id": "b880484a443ef7ee",
   "metadata": {},
   "outputs": [],
   "source": [
    "# Data\n",
    "tl_440 = tl[tl[\"type\"] == \"100440\"]\n",
    "\n",
    "# Noise Factory\n",
    "noise = NoiseFactory(tl_440, num_sequences=1)\n",
    "\n",
    "# Testing\n",
    "robot_name = \"7600-100440\"\n",
    "series_name = \"TL\"\n",
    "param_name = \"torqueactual\"\n",
    "\n",
    "model_ref = BaselineModel()"
   ]
  },
  {
   "cell_type": "code",
   "execution_count": null,
   "id": "fa1f57ad6a4ba635",
   "metadata": {},
   "outputs": [],
   "source": []
  },
  {
   "cell_type": "code",
   "execution_count": null,
   "id": "24f316ffff666e9a",
   "metadata": {},
   "outputs": [],
   "source": []
  },
  {
   "cell_type": "code",
   "execution_count": null,
   "id": "5a9b320663b2e32c",
   "metadata": {},
   "outputs": [],
   "source": []
  },
  {
   "cell_type": "code",
   "execution_count": null,
   "id": "b16d23fe2beb05d5",
   "metadata": {},
   "outputs": [],
   "source": []
  },
  {
   "cell_type": "code",
   "execution_count": null,
   "id": "eb4ed2b8692f08fa",
   "metadata": {},
   "outputs": [],
   "source": []
  },
  {
   "cell_type": "code",
   "execution_count": null,
   "id": "953324b5d034cbf2",
   "metadata": {},
   "outputs": [],
   "source": [
    "os.chdir(\"C:/Users/dnaen/PycharmProjects/anomaly_detection/\")\n",
    "point_498_values = values\n",
    "new_results = save_results(values)\n",
    "new_results.head()"
   ]
  },
  {
   "cell_type": "markdown",
   "id": "6bcbbe8470677da4",
   "metadata": {},
   "source": [
    "### Bonus"
   ]
  },
  {
   "cell_type": "code",
   "execution_count": 14,
   "id": "3800501e1113860f",
   "metadata": {
    "ExecuteTime": {
     "end_time": "2024-06-25T13:07:15.797483Z",
     "start_time": "2024-06-25T13:07:15.784202Z"
    }
   },
   "outputs": [],
   "source": [
    "from src.data.anomalies import NoiseMachine"
   ]
  },
  {
   "cell_type": "code",
   "execution_count": 15,
   "id": "56940d2a921bb504",
   "metadata": {
    "ExecuteTime": {
     "end_time": "2024-06-25T13:07:18.802802Z",
     "start_time": "2024-06-25T13:07:18.797949Z"
    }
   },
   "outputs": [],
   "source": [
    "# Testing\n",
    "robot_name = \"7600-100440\"\n",
    "series_name = \"TL\"\n",
    "param_name = \"torqueactual\""
   ]
  },
  {
   "cell_type": "code",
   "execution_count": 16,
   "id": "5c206392d12ab3fc",
   "metadata": {
    "ExecuteTime": {
     "end_time": "2024-06-25T13:07:21.308583Z",
     "start_time": "2024-06-25T13:07:19.618867Z"
    }
   },
   "outputs": [],
   "source": [
    "# original data\n",
    "copy_modified_df = modified_df.copy(deep=True)\n",
    "\n",
    "# choosing a time-series\n",
    "sub_modified_df = utils.get_time_series(copy_modified_df, 0)\n",
    "\n",
    "# choosing the sub-data to use by using the given params\n",
    "experiment_data = sub_modified_df[(sub_modified_df[\"robot\"] == robot_name) & (sub_modified_df[\"type\"] == series_name)]\n",
    "experiment_data_list = experiment_data[param_name].tolist()"
   ]
  },
  {
   "cell_type": "code",
   "execution_count": 17,
   "id": "3893fc0720edb748",
   "metadata": {
    "ExecuteTime": {
     "end_time": "2024-06-25T13:07:21.401426Z",
     "start_time": "2024-06-25T13:07:21.390484Z"
    }
   },
   "outputs": [],
   "source": [
    "# def get_rand_sequence(data):\n",
    "#     rand_id = data[\"id\"].sample(1).values[0]\n",
    "#     return data[data[\"id\"] == rand_id]"
   ]
  },
  {
   "cell_type": "code",
   "execution_count": 53,
   "id": "78b249126d220a80",
   "metadata": {
    "ExecuteTime": {
     "end_time": "2024-06-25T14:11:45.453586Z",
     "start_time": "2024-06-25T14:11:45.426253Z"
    }
   },
   "outputs": [],
   "source": [
    "from sklearn.metrics import f1_score\n",
    "from sklearn.metrics import accuracy_score\n",
    "from sklearn.metrics import precision_score\n",
    "from sklearn.metrics import recall_score\n",
    "\n",
    "def experiment(model, data, model_type, modified_df = \"\", robot_name = \"7600-100440\", series_name = \"TL\", param_name = \"torqueactual\"):\n",
    "    \"\"\"\n",
    "    Given specific robot_name, series_name, and param_name, returns the score of the model.\n",
    "    \n",
    "    :param model: The model only needs a function as \"get_anomaly_boolean_list(robot_name, series_name, param_name, anomaly_data_to_list)\" that detects for each point whether it is an anomaly or not.\n",
    "    :param data: A dataframe of a time-series.\n",
    "    \"\"\"\n",
    "    \n",
    "    score = {}\n",
    "    \n",
    "    # choosing the sub-data by using the given params\n",
    "    experiment_data = data[(data[\"robot\"] == robot_name) & (data[\"type\"] == series_name)]\n",
    "\n",
    "    # ------------------------------------------------\n",
    "    # Point Anomaly\n",
    "    point_std = 1.0\n",
    "    point_num = 10\n",
    "    point_anomaly_data = NoiseMachine.point_anomaly(experiment_data, num=point_num, std=point_std)\n",
    "    \n",
    "    point_anomaly_data['noise_boolean'] = point_anomaly_data['noise'] != 0.0 # add boolean column for noise\n",
    "    anomaly_data_to_list = [sum(x) for x in zip(point_anomaly_data[param_name].tolist(), point_anomaly_data[\"noise\"].tolist())]\n",
    "    \n",
    "    model_boolean_answer = []\n",
    "    if model_type == \"z_score\":\n",
    "        model_boolean_answer = model.get_anomaly_boolean_list_z_score(robot_name, series_name, param_name, anomaly_data_to_list)\n",
    "    elif model_type == \"modified_z_score\":\n",
    "        model_boolean_answer = model.get_anomaly_boolean_list_modified_z_score(modified_df, robot_name, series_name, param_name, anomaly_data_to_list) \n",
    "    elif model_type == \"grubbs_test\":\n",
    "        model_boolean_answer = model.get_anomaly_boolean_list_grubbs_test(modified_df, robot_name, series_name, param_name, anomaly_data_to_list) \n",
    "        \n",
    "    actual_boolean_answer = point_anomaly_data[\"noise_boolean\"].tolist()\n",
    "    \n",
    "    score[\"Point_Anomaly\"] = [\"F1 Score: \", f1_score(actual_boolean_answer, model_boolean_answer), \"Accuracy Score: \", accuracy_score(actual_boolean_answer, model_boolean_answer), \"Precision Score: \", precision_score(actual_boolean_answer, model_boolean_answer), \"Recall Score: \", recall_score(actual_boolean_answer, model_boolean_answer)]\n",
    "    \n",
    "    # ------------------------------------------------\n",
    "    # Gaussian Noise Anomaly\n",
    "    gauss_std = 0.4\n",
    "    gauss_anomaly_data = NoiseMachine.gaussian_anomaly(experiment_data, std=gauss_std)\n",
    "    \n",
    "    gauss_anomaly_data['noise_boolean'] = gauss_anomaly_data['noise'] != 0.0 # add boolean column for noise\n",
    "    anomaly_data_to_list = [sum(x) for x in zip(gauss_anomaly_data[param_name].tolist(), gauss_anomaly_data[\"noise\"].tolist())]\n",
    "    \n",
    "    model_boolean_answer = []\n",
    "    if model_type == \"z_score\":\n",
    "        model_boolean_answer = model.get_anomaly_boolean_list_z_score(robot_name, series_name, param_name, anomaly_data_to_list)\n",
    "    elif model_type == \"modified_z_score\":\n",
    "        model_boolean_answer = model.get_anomaly_boolean_list_modified_z_score(modified_df, robot_name, series_name, param_name, anomaly_data_to_list) \n",
    "    elif model_type == \"grubbs_test\":\n",
    "        model_boolean_answer = model.get_anomaly_boolean_list_grubbs_test(modified_df, robot_name, series_name, param_name, anomaly_data_to_list) \n",
    "        \n",
    "    actual_boolean_answer = gauss_anomaly_data[\"noise_boolean\"].tolist()\n",
    "    \n",
    "    score[\"Gauss_Anomaly\"] = [\"F1 Score: \", f1_score(actual_boolean_answer, model_boolean_answer), \"Accuracy Score: \", accuracy_score(actual_boolean_answer, model_boolean_answer), \"Precision Score: \", precision_score(actual_boolean_answer, model_boolean_answer), \"Recall Score: \", recall_score(actual_boolean_answer, model_boolean_answer)]\n",
    "    \n",
    "    # ------------------------------------------------\n",
    "    # Shift Noise Anomaly\n",
    "    start = 150\n",
    "    end = 1500\n",
    "    strength = 2\n",
    "    length = end - start\n",
    "    shift_anomaly_data = NoiseMachine.shift_anomaly(\n",
    "        experiment_data,\n",
    "        start=start,\n",
    "        length=length,\n",
    "        strength=strength,\n",
    "    )\n",
    "    \n",
    "    shift_anomaly_data['noise_boolean'] = shift_anomaly_data['noise'] != 0.0 # add boolean column for noise\n",
    "    anomaly_data_to_list = [sum(x) for x in zip(shift_anomaly_data[param_name].tolist(), shift_anomaly_data[\"noise\"].tolist())]\n",
    "    \n",
    "    model_boolean_answer = []\n",
    "    if model_type == \"z_score\":\n",
    "        model_boolean_answer = model.get_anomaly_boolean_list_z_score(robot_name, series_name, param_name, anomaly_data_to_list)\n",
    "    elif model_type == \"modified_z_score\":\n",
    "        model_boolean_answer = model.get_anomaly_boolean_list_modified_z_score(modified_df, robot_name, series_name, param_name, anomaly_data_to_list) \n",
    "    elif model_type == \"grubbs_test\":\n",
    "        model_boolean_answer = model.get_anomaly_boolean_list_grubbs_test(modified_df, robot_name, series_name, param_name, anomaly_data_to_list) \n",
    "        \n",
    "    actual_boolean_answer = shift_anomaly_data[\"noise_boolean\"].tolist()\n",
    "    \n",
    "    score[\"Shift_Anomaly\"] = [\"F1 Score: \", f1_score(actual_boolean_answer, model_boolean_answer), \"Accuracy Score: \", accuracy_score(actual_boolean_answer, model_boolean_answer), \"Precision Score: \", precision_score(actual_boolean_answer, model_boolean_answer), \"Recall Score: \", recall_score(actual_boolean_answer, model_boolean_answer)]\n",
    "    \n",
    "    return score"
   ]
  },
  {
   "cell_type": "code",
   "execution_count": 54,
   "id": "3af6b6b9faaa0b7f",
   "metadata": {
    "ExecuteTime": {
     "end_time": "2024-06-25T14:11:48.720161Z",
     "start_time": "2024-06-25T14:11:46.502479Z"
    }
   },
   "outputs": [
    {
     "name": "stdout",
     "output_type": "stream",
     "text": [
      "{'Point_Anomaly': ['F1 Score: ', 0.23076923076923075, 'Accuracy Score: ', 0.9932432432432432, 'Precision Score: ', 0.1875, 'Recall Score: ', 0.3], 'Gauss_Anomaly': ['F1 Score: ', 0.09462504023173478, 'Accuracy Score: ', 0.04966216216216216, 'Precision Score: ', 1.0, 'Recall Score: ', 0.04966216216216216], 'Shift_Anomaly': ['F1 Score: ', 0.9865470852017937, 'Accuracy Score: ', 0.9878378378378379, 'Precision Score: ', 0.9962264150943396, 'Recall Score: ', 0.9770540340488527]}\n"
     ]
    }
   ],
   "source": [
    "baseline_model_ref = BaselineModel()\n",
    "\n",
    "# Using the Experiment Function\n",
    "# original data\n",
    "copy_modified_df = modified_df.copy(deep=True)\n",
    "\n",
    "# choosing a time-series\n",
    "chosen_time_series = utils.get_time_series(copy_modified_df, 0)\n",
    "\n",
    "baseline_type = \"z_score\"\n",
    "exp_results = experiment(baseline_model_ref, chosen_time_series, baseline_type, modified_df=copy_modified_df)\n",
    "print(exp_results)"
   ]
  },
  {
   "cell_type": "code",
   "execution_count": 55,
   "id": "5eb0a7732cd1635c",
   "metadata": {
    "ExecuteTime": {
     "end_time": "2024-06-25T14:13:28.144045Z",
     "start_time": "2024-06-25T14:12:27.767499Z"
    }
   },
   "outputs": [
    {
     "name": "stdout",
     "output_type": "stream",
     "text": [
      "Size problem\n",
      "Size problem\n",
      "Size problem\n",
      "{'Point_Anomaly': ['F1 Score: ', 0.13333333333333333, 'Accuracy Score: ', 0.9956081081081081, 'Precision Score: ', 0.2, 'Recall Score: ', 0.1], 'Gauss_Anomaly': ['F1 Score: ', 0.010084033613445379, 'Accuracy Score: ', 0.005067567567567568, 'Precision Score: ', 1.0, 'Recall Score: ', 0.005067567567567568], 'Shift_Anomaly': ['F1 Score: ', 0.9861267341582303, 'Accuracy Score: ', 0.9875, 'Precision Score: ', 0.9992401215805471, 'Recall Score: ', 0.9733530717986677]}\n"
     ]
    }
   ],
   "source": [
    "baseline_model_ref = BaselineModel()\n",
    "\n",
    "# Using the Experiment Function\n",
    "# original data\n",
    "copy_modified_df = modified_df.copy(deep=True)\n",
    "\n",
    "# choosing a time-series\n",
    "chosen_time_series = utils.get_time_series(copy_modified_df, 0)\n",
    "\n",
    "baseline_type = \"modified_z_score\"\n",
    "exp_results = experiment(baseline_model_ref, chosen_time_series, baseline_type, modified_df=copy_modified_df)\n",
    "print(exp_results)"
   ]
  },
  {
   "cell_type": "code",
   "execution_count": 56,
   "id": "e7274c877582686f",
   "metadata": {
    "ExecuteTime": {
     "end_time": "2024-06-25T14:14:53.462255Z",
     "start_time": "2024-06-25T14:13:47.350604Z"
    }
   },
   "outputs": [
    {
     "name": "stdout",
     "output_type": "stream",
     "text": [
      "Size problem\n",
      "Size problem\n",
      "Size problem\n",
      "{'Point_Anomaly': ['F1 Score: ', 0.006734006734006735, 'Accuracy Score: ', 0.0033783783783783786, 'Precision Score: ', 0.0033783783783783786, 'Recall Score: ', 1.0], 'Gauss_Anomaly': ['F1 Score: ', 1.0, 'Accuracy Score: ', 1.0, 'Precision Score: ', 1.0, 'Recall Score: ', 1.0], 'Shift_Anomaly': ['F1 Score: ', 0.6267687311528647, 'Accuracy Score: ', 0.4564189189189189, 'Precision Score: ', 0.4564189189189189, 'Recall Score: ', 1.0]}\n"
     ]
    }
   ],
   "source": [
    "baseline_model_ref = BaselineModel()\n",
    "\n",
    "# Using the Experiment Function\n",
    "# original data\n",
    "copy_modified_df = modified_df.copy(deep=True)\n",
    "\n",
    "# choosing a time-series\n",
    "chosen_time_series = utils.get_time_series(copy_modified_df, 0)\n",
    "\n",
    "baseline_type = \"grubbs_test\"\n",
    "exp_results = experiment(baseline_model_ref, chosen_time_series, baseline_type, modified_df=copy_modified_df)\n",
    "print(exp_results)"
   ]
  },
  {
   "cell_type": "markdown",
   "id": "422b980795e6d257",
   "metadata": {},
   "source": [
    "#### Visualizing the Anomalies - Debugging/Experimenting"
   ]
  },
  {
   "cell_type": "code",
   "execution_count": 39,
   "id": "9c7a17246721db4d",
   "metadata": {
    "ExecuteTime": {
     "end_time": "2024-06-25T13:37:13.629694Z",
     "start_time": "2024-06-25T13:37:13.601216Z"
    }
   },
   "outputs": [],
   "source": [
    "def plot_noise_normal(data, given_ax, column=\"torqueactual\"):\n",
    "    \"\"\"\n",
    "    Plot the original and noisy data.\n",
    "\n",
    "    :param given_ax: \n",
    "    :param data: pandas DataFrame\n",
    "    :param column: str, column to plot\n",
    "    \"\"\"\n",
    "    \n",
    "    noise = data[data[\"noise\"] != 0]\n",
    "    noise_type = noise[\"noise_type\"].values[0]\n",
    "    x = data[\"timeindex\"]\n",
    "\n",
    "    if noise_type == \"point_anomaly\":\n",
    "        given_ax.scatter(\n",
    "            noise[\"timeindex\"],\n",
    "            noise[column] + noise[\"noise\"],\n",
    "            label=\"noisy\",\n",
    "            c=\"r\",\n",
    "            marker=\"x\",\n",
    "        )\n",
    "    elif noise_type == \"trend_anomaly\":\n",
    "        data[f\"{column}_noise\"] = data[column] + data[\"noise\"]\n",
    "        data_group = (\n",
    "            data[[\"id\", column, f\"{column}_noise\"]]\n",
    "            .groupby(\"id\")\n",
    "            .agg(\"mean\")\n",
    "            .reset_index()\n",
    "        )\n",
    "\n",
    "        given_ax.plot(data_group.index, data_group[column], label=\"original\")\n",
    "        given_ax.plot(\n",
    "            data_group.index, data_group[f\"{column}_noise\"], label=\"noisy\", c=\"r\"\n",
    "        )\n",
    "        given_ax.set_title(f\"{noise_type} -- {column} mean per sequence\")\n",
    "        given_ax.legend()\n",
    "        fig.show()\n",
    "        return\n",
    "    else:\n",
    "        given_ax.plot(\n",
    "            noise[\"timeindex\"],\n",
    "            noise[column] + noise[\"noise\"],\n",
    "            label=\"noisy\",\n",
    "            c=\"r\",\n",
    "        )\n",
    "    given_ax.plot(x, data[column], label=\"original\", alpha=0.7)\n",
    "    given_ax.set_title(f\"{noise_type} -- {column}\")\n",
    "    given_ax.legend()"
   ]
  },
  {
   "cell_type": "code",
   "execution_count": 34,
   "id": "3b877bb7c5761d49",
   "metadata": {
    "ExecuteTime": {
     "end_time": "2024-06-24T20:37:02.886988Z",
     "start_time": "2024-06-24T20:37:02.873851Z"
    }
   },
   "outputs": [],
   "source": [
    "experiment_data = chosen_time_series[(chosen_time_series[\"robot\"] == robot_name) & (chosen_time_series[\"type\"] == series_name)]"
   ]
  },
  {
   "cell_type": "markdown",
   "id": "7d185f293fe54362",
   "metadata": {},
   "source": [
    "#### 1.1 Point Anomalies"
   ]
  },
  {
   "cell_type": "code",
   "execution_count": 64,
   "id": "d6fc22ed9dfb6228",
   "metadata": {
    "ExecuteTime": {
     "end_time": "2024-06-25T14:22:27.189617Z",
     "start_time": "2024-06-25T14:22:26.825240Z"
    }
   },
   "outputs": [
    {
     "name": "stdout",
     "output_type": "stream",
     "text": [
      "ERROR: The size of the data is not equal to the saved mean/std data\n",
      "The size of the data:  2960\n",
      "The size of the saved mean:  3024\n"
     ]
    },
    {
     "data": {
      "image/png": "[encoded data removed]",
      "text/plain": [
       "<Figure size 1500x700 with 2 Axes>"
      ]
     },
     "metadata": {},
     "output_type": "display_data"
    }
   ],
   "source": [
    "std = 2.0\n",
    "num = 10\n",
    "\n",
    "point_anomaly_data = NoiseMachine.point_anomaly(experiment_data, num=num, std=std)\n",
    "\n",
    "# ----------------\n",
    "anomaly_data_to_list = [sum(x) for x in zip(point_anomaly_data[param_name].tolist(), point_anomaly_data[\"noise\"].tolist())]\n",
    "temp_detect_list = detect_anomaly_via_z(robot_name, series_name, param_name, anomaly_data_to_list, dict_with_mean_and_std)\n",
    "\n",
    "fig, axs = plt.subplots(ncols=2, nrows=1, figsize=(15, 7))\n",
    "\n",
    "plot_noise_normal(point_anomaly_data, axs[0])\n",
    "\n",
    "axs[1].plot([n for n in range(len(temp_detect_list))], temp_detect_list)\n",
    "axs[1].set_title(\"outlier z-values\")\n",
    "\n",
    "plt.show()"
   ]
  },
  {
   "cell_type": "code",
   "execution_count": 65,
   "id": "6f5e134d3bd93744",
   "metadata": {
    "ExecuteTime": {
     "end_time": "2024-06-25T14:23:10.654366Z",
     "start_time": "2024-06-25T14:22:50.802324Z"
    }
   },
   "outputs": [
    {
     "name": "stdout",
     "output_type": "stream",
     "text": [
      "Size problem\n"
     ]
    },
    {
     "data": {
      "image/png": "[encoded data removed]",
      "text/plain": [
       "<Figure size 1500x700 with 2 Axes>"
      ]
     },
     "metadata": {},
     "output_type": "display_data"
    }
   ],
   "source": [
    "std = 2.0\n",
    "num = 10\n",
    "\n",
    "point_anomaly_data = NoiseMachine.point_anomaly(experiment_data, num=num, std=std)\n",
    "\n",
    "# ----------------\n",
    "anomaly_data_to_list = [sum(x) for x in zip(point_anomaly_data[param_name].tolist(), point_anomaly_data[\"noise\"].tolist())]\n",
    "temp_detect_list = detect_anomaly_via_z_MAD_specific(modified_df, robot_name, series_name, param_name, anomaly_data_to_list)\n",
    "fig, axs = plt.subplots(ncols=2, nrows=1, figsize=(15, 7))\n",
    "\n",
    "plot_noise_normal(point_anomaly_data, axs[0])\n",
    "\n",
    "axs[1].plot([n for n in range(len(temp_detect_list))], temp_detect_list)\n",
    "axs[1].set_title(\"outlier z-values\")\n",
    "\n",
    "plt.show()"
   ]
  },
  {
   "cell_type": "markdown",
   "id": "b000d332a9e5163e",
   "metadata": {},
   "source": [
    "#### 1.2 Gaussian Noise Anomalies"
   ]
  },
  {
   "cell_type": "code",
   "execution_count": 63,
   "id": "424551e89c2a2241",
   "metadata": {
    "ExecuteTime": {
     "end_time": "2024-06-25T14:20:09.204691Z",
     "start_time": "2024-06-25T14:20:08.816801Z"
    }
   },
   "outputs": [
    {
     "name": "stdout",
     "output_type": "stream",
     "text": [
      "ERROR: The size of the data is not equal to the saved mean/std data\n",
      "The size of the data:  2960\n",
      "The size of the saved mean:  3024\n"
     ]
    },
    {
     "data": {
      "image/png": "[encoded data removed]",
      "text/plain": [
       "<Figure size 1500x700 with 2 Axes>"
      ]
     },
     "metadata": {},
     "output_type": "display_data"
    }
   ],
   "source": [
    "std = 0.4\n",
    "gauss_anomaly_data = NoiseMachine.gaussian_anomaly(experiment_data, std=std)\n",
    "\n",
    "# -----------\n",
    "anomaly_data_to_list = [sum(x) for x in zip(gauss_anomaly_data[param_name].tolist(), gauss_anomaly_data[\"noise\"].tolist())]\n",
    "temp_detect_list = detect_anomaly_via_z(robot_name, series_name, param_name, anomaly_data_to_list, dict_with_mean_and_std)\n",
    "\n",
    "fig, axs = plt.subplots(ncols=2, nrows=1, figsize=(15, 7))\n",
    "\n",
    "plot_noise_normal(gauss_anomaly_data, axs[0])\n",
    "\n",
    "axs[1].plot([n for n in range(len(temp_detect_list))], temp_detect_list)\n",
    "axs[1].set_title(\"outlier z-values\")\n",
    "\n",
    "plt.show()"
   ]
  },
  {
   "cell_type": "markdown",
   "id": "68c25dd4fa8b10b6",
   "metadata": {},
   "source": [
    "#### 1.3 Shift Noise Anomalies"
   ]
  },
  {
   "cell_type": "code",
   "execution_count": 51,
   "id": "7db760f9f2e19183",
   "metadata": {
    "ExecuteTime": {
     "end_time": "2024-06-25T14:09:37.016937Z",
     "start_time": "2024-06-25T14:09:17.355168Z"
    }
   },
   "outputs": [
    {
     "name": "stdout",
     "output_type": "stream",
     "text": [
      "Size problem\n"
     ]
    },
    {
     "data": {
      "image/png": "[encoded data removed]",
      "text/plain": [
       "<Figure size 1500x700 with 2 Axes>"
      ]
     },
     "metadata": {},
     "output_type": "display_data"
    }
   ],
   "source": [
    "start = 150\n",
    "end = 1500\n",
    "strength = 2\n",
    "length = end - start\n",
    "\n",
    "shift_anomaly_data = NoiseMachine.shift_anomaly(\n",
    "    experiment_data,\n",
    "    start=start,\n",
    "    length=length,\n",
    "    strength=strength,\n",
    ")\n",
    "\n",
    "# -----------\n",
    "anomaly_data_to_list = [sum(x) for x in zip(shift_anomaly_data[param_name].tolist(), shift_anomaly_data[\"noise\"].tolist())]\n",
    "\n",
    "temp_detect_list = baseline_model_ref.get_anomaly_list_modified_z_scores(modified_df, robot_name, series_name, param_name, anomaly_data_to_list) \n",
    "\n",
    "fig, axs = plt.subplots(ncols=2, nrows=1, figsize=(15, 7))\n",
    "\n",
    "plot_noise_normal(shift_anomaly_data, axs[0])\n",
    "\n",
    "axs[1].plot([n for n in range(len(temp_detect_list))], temp_detect_list)\n",
    "axs[1].set_title(\"outlier z-values\")\n",
    "\n",
    "plt.show()"
   ]
  },
  {
   "cell_type": "markdown",
   "id": "d4c846bf58bffe27",
   "metadata": {},
   "source": [
    "#### 1.4 Trend Noise Anomaly"
   ]
  },
  {
   "cell_type": "code",
   "execution_count": 67,
   "id": "5d6a3fecd6580e91",
   "metadata": {
    "ExecuteTime": {
     "end_time": "2024-06-25T14:25:50.327434Z",
     "start_time": "2024-06-25T14:25:50.071957Z"
    }
   },
   "outputs": [
    {
     "name": "stderr",
     "output_type": "stream",
     "text": [
      "C:\\Users\\dnaen\\PycharmProjects\\anomaly_detection\\src\\data\\anomalies.py:164: UserWarning: Matplotlib is currently using module://matplotlib_inline.backend_inline, which is a non-GUI backend, so cannot show the figure.\n",
      "  fig.show()\n"
     ]
    },
    {
     "data": {
      "image/png": "[encoded data removed]",
      "text/plain": [
       "<Figure size 1500x700 with 1 Axes>"
      ]
     },
     "metadata": {},
     "output_type": "display_data"
    }
   ],
   "source": [
    "experiment_data_copy = experiment_data.copy(deep=True)\n",
    "\n",
    "experiment_data_copy[\"type\"] = experiment_data_copy[\"id\"].apply(lambda x: x.split(\"-\")[1].split(\"|\")[0])\n",
    "experiment_data_copy[\"datetime\"] = experiment_data_copy[\"id\"].apply(lambda x: x.split(\"|\")[1].replace(\"_\", \" \"))\n",
    "experiment_data_copy[\"datetime\"] = pd.to_datetime(experiment_data_copy[\"datetime\"])\n",
    "experiment_data_copy = experiment_data_copy[experiment_data_copy[\"type\"] == \"100440\"]\n",
    "experiment_data_copy = experiment_data_copy.sort_values(by=[\"datetime\", \"timeindex\"])\n",
    "experiment_data_copy = experiment_data_copy.reset_index(drop=True)\n",
    "\n",
    "max_shift = 2\n",
    "\n",
    "data_440 = NoiseMachine.trend_anomaly(experiment_data_copy, max_shift=max_shift)\n",
    "NoiseMachine.plot(data_440, column=\"torqueactual\")"
   ]
  },
  {
   "cell_type": "code",
   "execution_count": null,
   "id": "ec8d859f3a5625ef",
   "metadata": {},
   "outputs": [],
   "source": []
  },
  {
   "cell_type": "code",
   "execution_count": null,
   "id": "57f9ab7b1262561",
   "metadata": {},
   "outputs": [],
   "source": []
  },
  {
   "cell_type": "code",
   "execution_count": null,
   "id": "f83f415642b41a8c",
   "metadata": {},
   "outputs": [],
   "source": [
    "# trying to add coloured\n",
    "\n",
    "# from matplotlib.cm import ScalarMappable\n",
    "# from matplotlib.colors import Normalize\n",
    "# \n",
    "# diff_of_probs = [abs(prob_list_of_correct_size_25[i] - prob_list_of_anomaly_size_25[i]) for i in range(len(prob_list_of_correct_size_25))]\n",
    "# \n",
    "# # Normalize y values to range [0, 1] for the colormap\n",
    "# norm = Normalize(vmin=min(diff_of_probs), vmax=max(diff_of_probs))\n",
    "# cmap = plt.get_cmap('viridis')  # Choose a colormap\n",
    "# colors = cmap(norm(diff_of_probs))\n",
    "# colors = np.delete(colors, 3, axis=1)\n",
    "# \n",
    "# plt.plot([n for n in range(len(diff_of_probs))], diff_of_probs, marker = 'o', c = colors[0], markersize = 5, cmap='RdYlGn')\n",
    "# plt.xlabel('index')\n",
    "# plt.ylabel(\"prob\")\n",
    "# plt.show()"
   ]
  },
  {
   "cell_type": "code",
   "execution_count": null,
   "id": "c55eb38274b41a6c",
   "metadata": {},
   "outputs": [],
   "source": [
    "# dynamically plot\n",
    "\n",
    "# import matplotlib.pyplot as plt\n",
    "# import random\n",
    "#  \n",
    "# plt.ion()  # turning interactive mode on\n",
    "# \n",
    "# # preparing the data\n",
    "# y = [diff_of_probs[0]]\n",
    "# x = [1]\n",
    "#  \n",
    "# # plotting the first frame\n",
    "# plt.plot(x,y)[0]\n",
    "# plt.ylim(0,10)\n",
    "# plt.show()\n",
    "# plt.pause(1)\n",
    "#  \n",
    "# # the update loop\n",
    "# i=1\n",
    "# while i < len(diff_of_probs):\n",
    "#     i+=1\n",
    "#     # updating the data\n",
    "#     y.append(diff_of_probs[i])\n",
    "#     x.append(x[-1]+1)\n",
    "#      \n",
    "#     # removing the older graph\n",
    "#     # graph.remove()\n",
    "#     plt.clf()\n",
    "#     # graph.clear()\n",
    "#     # plt.close(graph)\n",
    "#     # plt.close(graph)\n",
    "#      \n",
    "#     # plotting newer graph\n",
    "#     plt.plot(x,y,color = 'g')[0]\n",
    "#     plt.xlim(x[0], x[-1])\n",
    "#     plt.show()\n",
    "#     \n",
    "#     # calling pause function for 0.25 seconds\n",
    "#     plt.pause(0.25)"
   ]
  },
  {
   "cell_type": "code",
   "execution_count": null,
   "id": "a74250e89a955d51",
   "metadata": {},
   "outputs": [],
   "source": [
    "# TEMP TRASH\n",
    "#\n",
    "#\n",
    "#\n",
    "# len(modified_df[(modified_df['id'] == '6640-102123|2021-05-18_08:52:44') & (modified_df[\"type\"] == \"TL\")][\"timeindex\"])\n",
    "# \n",
    "#     # go through each robot id\n",
    "#     for specific_robot_id in all_specific_robot_ids[:2]:\n",
    "#         print(\"Current robot id: \", specific_robot_id)\n",
    "#         print()\n",
    "#         time_index_ids_of_specific_robot = [time_index for time_index in all_time_index_ids if specific_robot_id in time_index]\n",
    "#         \n",
    "#         # new_df[(new_df['id'] == time_index_ids_of_specific_robot)\n",
    "#         # now accessing all info of that robot\n",
    "#         # Here need to remember that: \"TL\" does not have \"torque feedforward\" as a variable. \n",
    "#        \n",
    "#         \n",
    "#         for series_type in all_series_type:\n",
    "#             for param_type in all_parameter_type:\n",
    "#                 temp_sub_df = pd.DataFrame()\n",
    "#                 # add the time_indexes here\n",
    "#                 for t_index in time_index_ids_of_specific_robot:\n",
    "#                     temp_sub_df[t_index] = new_df[(new_df['id'] == t_index) & (new_df[\"type\"] == series_type)][param_type]\n",
    "#                 \n",
    "#                 for t_index in time_index_ids_of_specific_robot:\n",
    "#                     new_df.loc[(new_df['id'] == t_index) & (new_df[\"type\"] == series_type), param_type + \"_mean\"] = temp_sub_df.mean(axis = 1)\n",
    "#                     \n",
    "#                     new_df.loc[(new_df['id'] == t_index) & (new_df[\"type\"] == series_type), param_type + \"_std\"] = temp_sub_df.std(axis = 1)\n",
    "#                     \n",
    "#     return new_df \n",
    "    \n",
    "# --------------------------\n",
    "\n",
    "# because their time-indexes are different\n",
    "    # time_indexes_dict = {}\n",
    "    # for series_type in all_series_type:\n",
    "    #     time_indexes_dict[series_type] = list(new_df.loc[(new_df[\"type\"] == series_type), \"timeindex\"].unique())\n",
    "    #         \n",
    "    \n",
    "# --------------------------\n",
    "\n",
    "# for specific_robot_id in all_specific_robot_ids[:2]:\n",
    "#         print(\"Current robot id: \", specific_robot_id)\n",
    "#         print()\n",
    "#         time_index_ids_of_specific_robot = [time_index for time_index in all_time_index_ids if specific_robot_id in time_index]\n",
    "#         \n",
    "#         # because their time-indexes are different\n",
    "#         # time_indexes_dict = {}\n",
    "#         # for series_type in all_series_type:\n",
    "#         #     time_indexes_dict[series_type] = list(new_df.loc[(new_df['id'].isin(time_index_ids_of_specific_robot)) & (new_df[\"type\"] == series_type), \"timeindex\"].unique())\n",
    "#         #     \n",
    "#         # new_df[(new_df['id'] == time_index_ids_of_specific_robot)\n",
    "#         # now accessing all info of that robot\n",
    "#         # Here need to remember that: \"TL\" does not have \"torque feedforward\" as a variable. \n",
    "#         # TODO: figure out what to do for \"not equal number of time_indexes\"\n",
    "#         print(time_indexes_dict)\n",
    "#         print(time_indexes_dict.get(\"Ta\").sort())\n",
    "#         for series_type in all_series_type:\n",
    "#             temp_sub_df = pd.DataFrame(time_indexes_dict.get(series_type).sort())\n",
    "#             print(temp_sub_df.head(5))\n",
    "#             \n",
    "#         for t_index in time_index_ids_of_specific_robot:\n",
    "#             for time in list(new_df.loc[(new_df['id'] == t_index), \"timeindex\"]):\n",
    "#                 temp_sub_df = temp_sub_df.append(time, ignore_index=True)\n",
    "#                 # temp_sub_df.loc[len(temp_sub_df.index)] = time\n",
    "#                 \n",
    "#         print(temp_sub_df[\"id\"])\n",
    "#         for time in list(temp_sub_df[\"id\"]):\n",
    "#             for series_type in all_series_type:\n",
    "#                 for param_type in all_parameter_type:\n",
    "#                     for t_index in time_index_ids_of_specific_robot:\n",
    "#                         # if series_type + \"_\" + param_type not in temp_sub_df.columns: temp_sub_df[]\n",
    "#                         temp_sub_df.loc[temp_sub_df[\"id\" == time], series_type + \"_\" + param_type] = new_df[(new_df['id'] == t_index) & (new_df[\"type\"] == series_type)][param_type]\n",
    "#                         \n",
    "#         print(temp_sub_df.head())\n",
    "#                     \n",
    "#     return new_df \n",
    "    \n",
    "# ------------------------------\n",
    "\n",
    "# temp_sub_df = pd.DataFrame(time_indexes_dict.get(series_type), columns=[\"id\"]) # TODO: Add some sort here?\n",
    "#             \n",
    "#             for time in list(temp_sub_df[\"id\"]):\n",
    "#                 for param_type in all_parameter_type:\n",
    "#                     for t_index in time_index_ids_of_specific_robot:\n",
    "#                         # if series_type + \"_\" + param_type not in temp_sub_df.columns: temp_sub_df[series_type + \"_\" + param_type] = np.nan\n",
    "#                         temp_sub_df.loc[temp_sub_df[\"id\"] == time, series_type + \"_\" + param_type] = new_df[(new_df['id'] == t_index) & (new_df[\"type\"] == series_type)][param_type]\n",
    "#                             \n",
    "#         print(temp_sub_df.head())\n",
    "\n",
    "# def calculate_prob_list(given_robot_name, given_series_type, given_param, given_data, given_mean_and_std_info):\n",
    "#     \n",
    "#     prob_list = []\n",
    "#     saved_mean = given_mean_and_std_info.get(given_robot_name + \"_\" + given_series_type + \"_\" + given_param + \"_avg\")\n",
    "#     saved_std = given_mean_and_std_info.get(given_robot_name + \"_\" + given_series_type + \"_\" + given_param + \"_std\")\n",
    "#     \n",
    "#     # print(\"Len of data: \", len(given_data))\n",
    "#     # print(\"Len of avg: \", len(saved_mean))\n",
    "#     # print(\"Len of std: \", len(saved_std))\n",
    "#     error_count = 0\n",
    "#     for i in range(len(given_data)):\n",
    "#         try:\n",
    "#             z = (np.abs(given_data[i] - saved_mean[i])) / saved_std[i]\n",
    "#             p_value = st.norm.sf(abs(z))*2 # 2-sided test\n",
    "#             # p_value = st.norm.cdf(z) # gives the percentage\n",
    "#             prob_list.append(p_value) # TODO: add additional check for 0 and so on?\n",
    "#             # print(\"Given data: \", given_data[i])\n",
    "#             # print(\"Saved mean: \", saved_mean[i])\n",
    "#             # print(\"Saved std: \", saved_std[i])\n",
    "#             # print(\"The z value: \", z)\n",
    "#             # print(\"The p value: \", p_value)\n",
    "#             # print()\n",
    "#     \n",
    "#         except Exception as e:\n",
    "#             print(Exception)\n",
    "#             error_count += 1\n",
    "#             # print(\"Probably key error: \", e)\n",
    "#             # print(\"Something wrong with size\") \n",
    "#             # \"Ta\"'s time_size is 6912 (but can change very little)\n",
    "#             # \"Tl\"'s time_size is 2986 (but can change very little)\n",
    "#         \n",
    "#     print(\"Error count: \", error_count)\n",
    "#     # np.nanmean(prob_list)\n",
    "#     return prob_list"
   ]
  },
  {
   "cell_type": "code",
   "execution_count": null,
   "id": "8bfa49eb1ba8b782",
   "metadata": {},
   "outputs": [],
   "source": []
  },
  {
   "cell_type": "code",
   "execution_count": null,
   "id": "21e9a176d66e744e",
   "metadata": {},
   "outputs": [],
   "source": [
    "# # original data\n",
    "# sub_modified_df = utils.get_time_series(modified_df, 0)\n",
    "# \n",
    "# # anomaly data\n",
    "# copy_sub_modified_df = sub_modified_df.copy(deep=True)\n",
    "# percentage_of_anomaly = int(len(copy_sub_modified_df) / 2)  # modifying 20% of the data\n",
    "# modified_df_with_anomaly = utils.inject_point_anomaly(copy_sub_modified_df, 1.1, percentage_of_anomaly)\n",
    "# a = list(sub_modified_df[\"torqueactual\"])\n",
    "# b = list(modified_df_with_anomaly[\"torqueactual\"])\n",
    "# \n",
    "# plt.plot([n for n in range(len(a))], a)\n",
    "# plt.plot([n for n in range(len(b))], b)\n",
    "# \n",
    "# plt.xlabel('time-index')\n",
    "# plt.ylabel(\"7600-100440\")\n",
    "# plt.show()\n",
    "# # choosing one of them to compare\n",
    "# get_all_robots_of_specific_id_sessions(modified_df, '7600-100440', \"Ta\")\n",
    "# # params: \"torqueactual\", \"torquefeedforward\" -> but anomaly only works in \"torqueactual\"\n",
    "# # params: \"Ta\", \"Tl\"\n",
    "# \n",
    "# # Testing\n",
    "# robot_name = \"7600-100498\"\n",
    "# series_name = \"Ta\"\n",
    "# param_name = \"torqueactual\"\n",
    "# \n",
    "# # id_name = \"7600-100440|2022-11-16_09:42:54\"\n",
    "# # temp_data_correct = list(modified_df[(modified_df['id'] == id_name) & (modified_df[\"type\"] == series_name)][param_name])\n",
    "# # temp_data_anomaly = list(modified_df_with_anomaly[(modified_df_with_anomaly['id'] == id_name) & (modified_df_with_anomaly[\"type\"] == series_name)][param_name])\n",
    "# \n",
    "# temp_data_correct = list(sub_modified_df[param_name])\n",
    "# temp_data_anomaly = list(modified_df_with_anomaly[param_name])\n",
    "# # \n",
    "# # prob_list_of_correct = calculate_prob_list(robot_name, series_name, param_name, temp_data_correct, dict_with_mean_and_std)\n",
    "# # prob_list_of_anomaly = calculate_prob_list(robot_name, series_name, param_name, temp_data_anomaly, dict_with_mean_and_std)\n",
    "# \n",
    "# # print(\"The prob. result of with the correct df: \", np.nanmean(prob_list_of_correct))\n",
    "# # print(\"The prob. result of with the anomaly df: \", np.nanmean(prob_list_of_anomaly))\n",
    "# temp_detect_list = detect_anomaly_via_z(robot_name, series_name, param_name, temp_data_anomaly, dict_with_mean_and_std)\n",
    "# plt.plot([n for n in range(len(temp_detect_list))], temp_detect_list)\n",
    "# plt.xlabel('index')\n",
    "# plt.ylabel(\"prob\")\n",
    "# plt.show()\n",
    "# temp_detect_list_size_25 = compress_a_list_of_integers(temp_detect_list, 25)  # reducing to size N\n",
    "# \n",
    "# plt.plot([n for n in range(len(temp_detect_list_size_25))], temp_detect_list_size_25)\n",
    "# plt.xlabel('index')\n",
    "# plt.ylabel(\"prob\")\n",
    "# plt.show()\n",
    "# # prob_list_of_anomaly_size_25 = compress_a_list_of_integers(prob_list_of_anomaly, 25) # reducing to size N\n",
    "# # check how it compares between our saved mean/std and anomaly data\n",
    "# temp_saved_mean = dict_with_mean_and_std.get(robot_name + \"_\" + series_name + \"_\" + param_name + \"_avg\")\n",
    "# temp_saved_std = dict_with_mean_and_std.get(robot_name + \"_\" + series_name + \"_\" + series_name + \"_std\")\n",
    "# fig, (ax1, ax2) = plt.subplots(1, 2)\n",
    "# fig.set_figwidth(15)\n",
    "# fig.suptitle('Plot')\n",
    "# ax1.errorbar([n for n in range(len(temp_saved_mean))], temp_saved_mean, yerr=temp_saved_std, fmt='o', markersize=1)\n",
    "# ax1.plot([n for n in range(len(temp_data_anomaly))], temp_data_anomaly)\n",
    "# ax1.set_title(\"saved mean data vs. anomaly data\")\n",
    "# \n",
    "# ax2.plot([n for n in range(len(temp_detect_list))], temp_detect_list)\n",
    "# ax2.set_title(\"outlier z-values\")\n",
    "# plt.show()"
   ]
  }
 ],
 "metadata": {
  "kernelspec": {
   "display_name": "Python 3 (ipykernel)",
   "language": "python",
   "name": "python3"
  },
  "language_info": {
   "codemirror_mode": {
    "name": "ipython",
    "version": 3
   },
   "file_extension": ".py",
   "mimetype": "text/x-python",
   "name": "python",
   "nbconvert_exporter": "python",
   "pygments_lexer": "ipython3",
   "version": "3.11.3"
  }
 },
 "nbformat": 4,
 "nbformat_minor": 5
}
