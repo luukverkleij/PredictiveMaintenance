{
 "cells": [
  {
   "cell_type": "code",
   "execution_count": 1,
   "metadata": {},
   "outputs": [],
   "source": [
    "import pandas as pd\n",
    "from sklearn.neighbors import LocalOutlierFactor\n",
    "\n",
    "from src.globals import *"
   ]
  },
  {
   "cell_type": "code",
   "execution_count": 2,
   "metadata": {},
   "outputs": [],
   "source": [
    "df_in           = pd.read_parquet(path_tracks)\n",
    "df_in_synth     = pd.read_parquet(path_tracks_synth)"
   ]
  },
  {
   "cell_type": "code",
   "execution_count": 3,
   "metadata": {},
   "outputs": [],
   "source": [
    "lof = LocalOutlierFactor()\n",
    "\n",
    "def calculate_lof(df, colname='lof'):  \n",
    "    lof.fit(df[[\"timeindex_bin\",\"torqueactual_ss\"]])  \n",
    "    df[colname] = -lof.negative_outlier_factor_\n",
    "    return df\n",
    "\n",
    "df_in = df_in.groupby('robotid').apply(calculate_lof).reset_index(drop=True)\n",
    "df_in = calculate_lof(df_in, 'lof_all')\n",
    "\n",
    "df_in_synth = df_in_synth.groupby('robotid').apply(calculate_lof).reset_index(drop=True)\n",
    "df_in_synth = calculate_lof(df_in_synth, 'lof_all')\n"
   ]
  },
  {
   "cell_type": "code",
   "execution_count": 5,
   "metadata": {},
   "outputs": [],
   "source": [
    "save_tracks_results(df_in, ['lof', 'lof_all'])\n",
    "save_tracks_synth_results(df_in_synth, ['lof', 'lof_all'])"
   ]
  }
 ],
 "metadata": {
  "kernelspec": {
   "display_name": "Python 3",
   "language": "python",
   "name": "python3"
  },
  "language_info": {
   "codemirror_mode": {
    "name": "ipython",
    "version": 3
   },
   "file_extension": ".py",
   "mimetype": "text/x-python",
   "name": "python",
   "nbconvert_exporter": "python",
   "pygments_lexer": "ipython3",
   "version": "3.11.3"
  }
 },
 "nbformat": 4,
 "nbformat_minor": 2
}
