{
 "cells": [
  {
   "cell_type": "code",
   "execution_count": 1,
   "metadata": {},
   "outputs": [],
   "source": [
    "import pandas as pd\n",
    "import numpy as np\n",
    "\n",
    "from hmmlearn import hmm\n",
    "from src.utils.globals import *\n",
    "from src.utils.spectrum import SpectrumDecomposition\n"
   ]
  },
  {
   "cell_type": "code",
   "execution_count": null,
   "metadata": {},
   "outputs": [],
   "source": [
    "df_in  = pd.read_parquet(path_tracks)\n",
    "ids = ['6640-102140-1']\n",
    "df_in = df_in[df_in['robotid'].isin(ids)]"
   ]
  },
  {
   "cell_type": "code",
   "execution_count": null,
   "metadata": {},
   "outputs": [],
   "source": [
    "def calc_hmm(df):\n",
    "    columns = ['torqueactual']\n",
    "    lengths = df.groupby('seqid').size().values\n",
    "    X = df[columns].values.reshape(-1, len(columns))\n",
    "\n",
    "    model = hmm.GMMHMM(n_components=10, covariance_type='full', n_iter=100, implementation='log', verbose=True)\n",
    "\n",
    "    print(f\"fitting model for {df['seqid'].values[0][:13]}\")\n",
    "    model.fit(X, lengths=lengths)\n",
    "\n",
    "\n",
    "hmmmodel = calc_hmm(df_in)    "
   ]
  },
  {
   "cell_type": "code",
   "execution_count": null,
   "metadata": {},
   "outputs": [],
   "source": [
    "sd = SpectrumDecomposition(col_name=\"torqueactual\", n_freq=25)\n",
    "tl_data_decomposed = sd.transform(df_in)\n",
    "tl_data_decomposed"
   ]
  },
  {
   "cell_type": "code",
   "execution_count": null,
   "metadata": {},
   "outputs": [],
   "source": []
  }
 ],
 "metadata": {
  "kernelspec": {
   "display_name": "Python 3",
   "language": "python",
   "name": "python3"
  },
  "language_info": {
   "codemirror_mode": {
    "name": "ipython",
    "version": 3
   },
   "file_extension": ".py",
   "mimetype": "text/x-python",
   "name": "python",
   "nbconvert_exporter": "python",
   "pygments_lexer": "ipython3",
   "version": "3.11.3"
  }
 },
 "nbformat": 4,
 "nbformat_minor": 2
}
