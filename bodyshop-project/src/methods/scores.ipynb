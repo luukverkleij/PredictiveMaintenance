{
 "cells": [
  {
   "cell_type": "code",
   "execution_count": 1,
   "metadata": {},
   "outputs": [],
   "source": [
    "import pandas as pd\n",
    "from scipy.stats import median_abs_deviation\n",
    "\n",
    "from src.globals import *"
   ]
  },
  {
   "cell_type": "code",
   "execution_count": 2,
   "metadata": {},
   "outputs": [],
   "source": [
    "# Loading & Preprocessing\n",
    "df_in           = pd.read_parquet(path_tracks)\n",
    "df_in_synth     = pd.read_parquet(path_tracks)"
   ]
  },
  {
   "cell_type": "code",
   "execution_count": 8,
   "metadata": {},
   "outputs": [
    {
     "name": "stderr",
     "output_type": "stream",
     "text": [
      "C:\\Users\\P70080564\\AppData\\Local\\Temp\\ipykernel_1636\\1651887031.py:16: DeprecationWarning: DataFrameGroupBy.apply operated on the grouping columns. This behavior is deprecated, and in a future version of pandas the grouping columns will be excluded from the operation. Either pass `include_groups=False` to exclude the groupings or explicitly select the grouping columns after groupby to silence this warning.\n",
      "  df_in           = df_in.groupby('robotid').apply(calc_scores).reset_index(drop=True)\n",
      "C:\\Users\\P70080564\\AppData\\Local\\Temp\\ipykernel_1636\\1651887031.py:17: DeprecationWarning: DataFrameGroupBy.apply operated on the grouping columns. This behavior is deprecated, and in a future version of pandas the grouping columns will be excluded from the operation. Either pass `include_groups=False` to exclude the groupings or explicitly select the grouping columns after groupby to silence this warning.\n",
      "  df_in_synth     = df_in_synth.groupby('robotid').apply(calc_scores).reset_index(drop=True)\n"
     ]
    }
   ],
   "source": [
    "def calc_scores_intermediate(df):\n",
    "    #print(df)\n",
    "    df['torqueactual_mean'] = df['torqueactual'].mean()\n",
    "    df['torqueactual_std'] = df['torqueactual'].std()\n",
    "    df['torqueactual_mad'] = median_abs_deviation(df['torqueactual'])\n",
    "    return df\n",
    "\n",
    "\n",
    "def calc_scores(df):\n",
    "    df = calc_scores_intermediate(df)\n",
    "    df['z'] = (df['torqueactual'] - df['torqueactual_mean']) / df['torqueactual_std']\n",
    "    df['mz'] = (0.6745*(df['torqueactual'] - df['torqueactual_mean'])) / df['torqueactual_mad']\n",
    "    return df\n",
    "\n",
    "\n",
    "df_in           = df_in.groupby('robotid').apply(calc_scores).reset_index(drop=True)\n",
    "df_in_synth     = df_in_synth.groupby('robotid').apply(calc_scores).reset_index(drop=True)"
   ]
  },
  {
   "cell_type": "code",
   "execution_count": 5,
   "metadata": {},
   "outputs": [],
   "source": [
    "save_tracks_results(df_in, ['z', 'mz'])\n",
    "save_tracks_synth_results(df_in_synth, ['z', 'mz'])"
   ]
  },
  {
   "cell_type": "code",
   "execution_count": 6,
   "metadata": {},
   "outputs": [],
   "source": []
  },
  {
   "cell_type": "code",
   "execution_count": null,
   "metadata": {},
   "outputs": [],
   "source": []
  }
 ],
 "metadata": {
  "kernelspec": {
   "display_name": "Python 3",
   "language": "python",
   "name": "python3"
  },
  "language_info": {
   "codemirror_mode": {
    "name": "ipython",
    "version": 3
   },
   "file_extension": ".py",
   "mimetype": "text/x-python",
   "name": "python",
   "nbconvert_exporter": "python",
   "pygments_lexer": "ipython3",
   "version": "3.12.5"
  }
 },
 "nbformat": 4,
 "nbformat_minor": 2
}
