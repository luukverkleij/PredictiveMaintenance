{
 "cells": [
  {
   "cell_type": "code",
   "execution_count": 1,
   "metadata": {},
   "outputs": [],
   "source": [
    "%load_ext autoreload\n",
    "%autoreload 2\n",
    "\n",
    "import os\n",
    "import pickle\n",
    "import pandas as pd\n",
    "import matplotlib.pyplot as plt\n",
    "import numpy as np\n",
    "import concurrent.futures\n",
    "\n",
    "import warnings\n",
    "from typing import Self\n",
    "from datetime import datetime\n",
    "from functools import reduce\n",
    "from sklearn.metrics import precision_recall_curve, auc, roc_curve\n",
    "from concurrent.futures import ThreadPoolExecutor, wait, FIRST_COMPLETED\n",
    "\n",
    "import src.utils.anomalydetectors as m\n",
    "import src.utils.globals as g\n",
    "import src.utils.aggregators as agg\n",
    "\n",
    "from src.utils.experiment import Experiment\n",
    "from src.utils.noise import NoiseFactory\n",
    "from src.utils.plotting import plot_rpcurves"
   ]
  },
  {
   "cell_type": "code",
   "execution_count": 2,
   "metadata": {},
   "outputs": [],
   "source": [
    "def name_experiment(prefix, ratio, intensity, robotids):\n",
    "    name = f\"{prefix}_{ratio}_{intensity}\"\n",
    "\n",
    "    if robotids:\n",
    "        name = name + f\"_{'_'.join(item.strip() for item in robotids)}\"\n",
    "\n",
    "    return name\n",
    "\n",
    "def name_guassian_experiment(ratio, intensity, robotids):\n",
    "    return name_experiment(\"gaussian\", ratio, intensity, robotids)\n",
    "\n",
    "def name_sinusoidal_experiment(ratio, intensity, robotids):\n",
    "    return name_experiment(\"sinusoidal\", ratio, intensity, robotids)\n",
    "\n",
    "def name_point_experiment(ratio, intensity, robotids):\n",
    "    return name_experiment(\"point\", ratio, intensity, robotids)"
   ]
  },
  {
   "cell_type": "code",
   "execution_count": 3,
   "metadata": {},
   "outputs": [],
   "source": [
    "df_in = pd.read_parquet(g.path_tracks)"
   ]
  },
  {
   "cell_type": "code",
   "execution_count": 4,
   "metadata": {},
   "outputs": [],
   "source": [
    "# Boolean whether to run the experiments or load\n",
    "load_experiments = False \n",
    "\n",
    "# Running Experiment Parameters\n",
    "models = [m.ZScore(), m.MZScore(), m.LOF(), m.IF()]\n",
    "exp_columns = ['torqueactual']\n",
    "syn_column = 'torqueactual'\n",
    "\n",
    "guassian_params     = [0.10, 0.25, 0.40, 0.55]\n",
    "guassian_column_length = len(guassian_params)\n",
    "\n",
    "sinusoidal_params   = [0.25, 0.5, 1, 2]\n",
    "sinusoidal_column_length = len(sinusoidal_params)\n",
    "\n",
    "point_params        = [1, 5, 10, 100]\n",
    "point_column_length = len(point_params)\n",
    "\n",
    "ids = None #ids = ['6640-102140-1']\n",
    "synratio = 0.1\n",
    "\n",
    "# Loading Experiment Parameters\n"
   ]
  },
  {
   "cell_type": "markdown",
   "metadata": {},
   "source": [
    "# Loading Experiments"
   ]
  },
  {
   "cell_type": "code",
   "execution_count": null,
   "metadata": {},
   "outputs": [],
   "source": [
    "def load_experiments(params, name_func, exp_dict):\n",
    "    for intensity in params:\n",
    "        name = name_func(synratio, intensity, ids)\n",
    "        print(f\"Loading Experiment {name}\")\n",
    "        exp_dict[name] = Experiment.unpickle(name)\n",
    "    print(\"Experiments Loaded\")\n",
    "\n",
    "# Load or Run Experiments\n",
    "exps = {}\n",
    "load_experiments(guassian_params, name_guassian_experiment, exps)\n",
    "load_experiments(sinusoidal_params, name_sinusoidal_experiment, exps)\n",
    "load_experiments(point_params, name_point_experiment, exps)"
   ]
  },
  {
   "cell_type": "code",
   "execution_count": null,
   "metadata": {},
   "outputs": [],
   "source": [
    "def plot_multiple(plots, title=\"\", colnums=3):\n",
    "    # Calculate the number of rows needed\n",
    "    cols = colnums\n",
    "    num_plots = len(plots)\n",
    "    rows = (num_plots + cols - 1) // cols  # Ceiling division to ensure enough rows\n",
    "\n",
    "    # Create a figure with subplots\n",
    "    fig, axes = plt.subplots(rows, cols, figsize=(5*cols, 5*rows))\n",
    "\n",
    "    # Flatten axes for easy indexing if needed\n",
    "    axes = axes.flatten()\n",
    "\n",
    "    # Loop through the DataFrames and plot each in the corresponding subplot\n",
    "    for i, fn in enumerate(plots):\n",
    "        fn(axes[i])\n",
    "\n",
    "    # Hide any unused subplots\n",
    "    for j in range(i+1, len(axes)):\n",
    "        fig.delaxes(axes[j])\n",
    "\n",
    "    plt.suptitle(title)\n",
    "    plt.tight_layout()\n",
    "\n",
    "    # Show the plot\n",
    "    plt.show()\n",
    "\n",
    "def _plot_experiments(exp, model, ax, id=None):\n",
    "    df = exp.results['df'].sort_values(by='timeindex')\n",
    "    df = df[df['seqid'] == id]\n",
    "\n",
    "    ax.plot(df['timeindex'], df['torqueactual'], label=model)\n",
    "    ax.plot(df['timeindex'], df[model], label='Anomaly Score')\n",
    "\n",
    "    ax.xlabel('Time (s))')\n",
    "    ax.ylabel('Torque (nm)')\n",
    "    ax.title(f'ID : {id} - Model: {model}')\n",
    "    ax.legend()\n",
    "    ax.grid(True)\n",
    "\n",
    "exp = exps['gaussian_0.1_0.25']\n",
    "print(exp.results['df'])\n",
    "plot_multiple([lambda ax: _plot_experiments(exp, 'z', ax, np.random.choice(exp.results['df']['seqid'].unique()))], title=\"ZScore\")"
   ]
  },
  {
   "cell_type": "code",
   "execution_count": null,
   "metadata": {},
   "outputs": [
    {
     "ename": "NameError",
     "evalue": "name 'exps' is not defined",
     "output_type": "error",
     "traceback": [
      "\u001b[1;31m---------------------------------------------------------------------------\u001b[0m",
      "\u001b[1;31mNameError\u001b[0m                                 Traceback (most recent call last)",
      "Cell \u001b[1;32mIn[6], line 1\u001b[0m\n\u001b[1;32m----> 1\u001b[0m exp \u001b[38;5;241m=\u001b[39m \u001b[43mexps\u001b[49m[\u001b[38;5;124m'\u001b[39m\u001b[38;5;124mgaussian_0.1_0.25\u001b[39m\u001b[38;5;124m'\u001b[39m]\n\u001b[0;32m      2\u001b[0m exp\u001b[38;5;241m.\u001b[39mresults[\u001b[38;5;124m'\u001b[39m\u001b[38;5;124mdf\u001b[39m\u001b[38;5;124m'\u001b[39m]\n",
      "\u001b[1;31mNameError\u001b[0m: name 'exps' is not defined"
     ]
    }
   ],
   "source": []
  },
  {
   "cell_type": "code",
   "execution_count": null,
   "metadata": {},
   "outputs": [],
   "source": []
  }
 ],
 "metadata": {
  "kernelspec": {
   "display_name": "Python 3",
   "language": "python",
   "name": "python3"
  },
  "language_info": {
   "codemirror_mode": {
    "name": "ipython",
    "version": 3
   },
   "file_extension": ".py",
   "mimetype": "text/x-python",
   "name": "python",
   "nbconvert_exporter": "python",
   "pygments_lexer": "ipython3",
   "version": "3.12.5"
  }
 },
 "nbformat": 4,
 "nbformat_minor": 2
}
