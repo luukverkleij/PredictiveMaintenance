{
 "cells": [
  {
   "cell_type": "code",
   "execution_count": 1,
   "metadata": {},
   "outputs": [],
   "source": [
    "import pandas as pd\n",
    "import matplotlib.pyplot as plt\n",
    "import os\n",
    "\n",
    "from src.utils.globals import *\n"
   ]
  },
  {
   "cell_type": "code",
   "execution_count": 2,
   "metadata": {},
   "outputs": [
    {
     "name": "stdout",
     "output_type": "stream",
     "text": [
      "    z    mz   lof    if\n",
      "10/10 10/10 10/10 10/10\n"
     ]
    }
   ],
   "source": [
    "from IPython.display import clear_output\n",
    "import pandas as pd\n",
    "import time\n",
    "\n",
    "# Define columns for each method\n",
    "models = {\"z\" : 0, \"mz\" : 1, \"lof\" : 2, \"if\" : 3}\n",
    "methods = models.keys()\n",
    "\n",
    "# Initial progress values and total tasks for each method\n",
    "total_task = 10 # total tasks for each method\n",
    "\n",
    "# Create a DataFrame with the methods as columns\n",
    "df = pd.DataFrame({method: [f\"0/{total_task}\"] for method in methods})\n",
    "\n",
    "#print(int(df.at[0, 'z'].split('/')[0]) + 1 )\n",
    "\n",
    "# Function to update progress in the DataFrame\n",
    "def update_progress(df, methods):\n",
    "    for i, method in enumerate(methods):\n",
    "        df.at[0, method] = f\"{int(df.at[0, method].split('/')[0]) + 1}/{total_task}\"\n",
    "    return df\n",
    "\n",
    "# Simulate updating progress\n",
    "for i in range(1, total_task+1):   \n",
    "    # Update DataFrame with new progress\n",
    "    df = update_progress(df, methods)\n",
    "    \n",
    "    # Clear output and display the updated DataFrame without the index\n",
    "    clear_output(wait=True)\n",
    "    print(df.to_string(index=False))\n",
    "    \n",
    "    # Pause for demonstration\n",
    "    time.sleep(0.5)\n"
   ]
  },
  {
   "cell_type": "code",
   "execution_count": 3,
   "metadata": {},
   "outputs": [],
   "source": [
    "path_tracks = \"data/tracks/tracks_results.parquet\"\n",
    "path_series = \"data/tracks/tracks_series_results.parquet\"\n",
    "\n",
    "df_tracks = pd.read_parquet(path_tracks)\n",
    "df_series = pd.read_parquet(path_series)"
   ]
  },
  {
   "cell_type": "code",
   "execution_count": 4,
   "metadata": {},
   "outputs": [
    {
     "ename": "NameError",
     "evalue": "name 'threshold_z' is not defined",
     "output_type": "error",
     "traceback": [
      "\u001b[1;31m---------------------------------------------------------------------------\u001b[0m",
      "\u001b[1;31mNameError\u001b[0m                                 Traceback (most recent call last)",
      "Cell \u001b[1;32mIn[4], line 4\u001b[0m\n\u001b[0;32m      1\u001b[0m seqid \u001b[38;5;241m=\u001b[39m \u001b[38;5;124m\"\u001b[39m\u001b[38;5;124m6640-102788-1|2020-10-20|08:39:18\u001b[39m\u001b[38;5;124m\"\u001b[39m\n\u001b[0;32m      3\u001b[0m df_seq \u001b[38;5;241m=\u001b[39m df_tracks[df_tracks[\u001b[38;5;124m'\u001b[39m\u001b[38;5;124mseqid\u001b[39m\u001b[38;5;124m'\u001b[39m] \u001b[38;5;241m==\u001b[39m seqid]\n\u001b[1;32m----> 4\u001b[0m df_z \u001b[38;5;241m=\u001b[39m df_seq\u001b[38;5;241m.\u001b[39mloc[\u001b[38;5;28mabs\u001b[39m(df_seq[\u001b[38;5;124m'\u001b[39m\u001b[38;5;124mzscore\u001b[39m\u001b[38;5;124m'\u001b[39m]) \u001b[38;5;241m>\u001b[39m\u001b[38;5;241m=\u001b[39m \u001b[43mthreshold_z\u001b[49m]\n\u001b[0;32m      5\u001b[0m df_mz \u001b[38;5;241m=\u001b[39m df_seq\u001b[38;5;241m.\u001b[39mloc[\u001b[38;5;28mabs\u001b[39m(df_seq[\u001b[38;5;124m'\u001b[39m\u001b[38;5;124mmzscore\u001b[39m\u001b[38;5;124m'\u001b[39m]) \u001b[38;5;241m>\u001b[39m\u001b[38;5;241m=\u001b[39m threshold_mz]\n\u001b[0;32m      6\u001b[0m df_lof \u001b[38;5;241m=\u001b[39m df_seq\u001b[38;5;241m.\u001b[39mloc[df_seq[\u001b[38;5;124m'\u001b[39m\u001b[38;5;124mlof_score\u001b[39m\u001b[38;5;124m'\u001b[39m] \u001b[38;5;241m>\u001b[39m\u001b[38;5;241m=\u001b[39m threshold_lof]\n",
      "\u001b[1;31mNameError\u001b[0m: name 'threshold_z' is not defined"
     ]
    }
   ],
   "source": [
    "seqid = \"6640-102788-1|2020-10-20|08:39:18\"\n",
    "\n",
    "df_seq = df_tracks[df_tracks['seqid'] == seqid]\n",
    "df_z = df_seq.loc[abs(df_seq['zscore']) >= threshold_z]\n",
    "df_mz = df_seq.loc[abs(df_seq['mzscore']) >= threshold_mz]\n",
    "df_lof = df_seq.loc[df_seq['lof_score'] >= threshold_lof]\n",
    "\n",
    "# Create a 2x2 grid of subplots\n",
    "fig, axs = plt.subplots(2, 2, figsize=(12, 10))\n",
    "\n",
    "axs[0,0].plot(df_seq['timeindex_bin'], df_seq['torqueactual'], label='Torque Actual')\n",
    "\n",
    "axs[0,1].plot(df_seq['timeindex_bin'], df_seq['torqueactual'], label='Torque Actual', zorder=1)\n",
    "axs[0,1].scatter(df_z['timeindex_bin'], df_z['torqueactual'], color='red', s=5, label='high z scores', zorder=2)\n",
    "axs[0,1].set_title(\"z-score\")\n",
    "\n",
    "axs[1,0].plot(df_seq['timeindex_bin'], df_seq['torqueactual'], label='Torque Actual', zorder=1)\n",
    "axs[1,0].scatter(df_mz['timeindex_bin'], df_mz['torqueactual'], color='red', s=2, label='high mz scores', zorder=2)\n",
    "axs[1,0].set_title(\"modified z-score\")\n",
    "\n",
    "axs[1,1].plot(df_seq['timeindex_bin'], df_seq['torqueactual'], label='Torque Actual')\n",
    "axs[1,1].scatter(df_lof['timeindex_bin'], df_lof['torqueactual'], color='red', s=2, label='high mz scores', zorder=2)\n",
    "axs[1,1].set_title(\"LOF score\")\n",
    "\n",
    "# Adjust layout to prevent overlap\n",
    "plt.tight_layout()\n",
    "\n",
    "# Display the plot\n",
    "plt.show()"
   ]
  },
  {
   "cell_type": "code",
   "execution_count": null,
   "metadata": {},
   "outputs": [],
   "source": []
  }
 ],
 "metadata": {
  "kernelspec": {
   "display_name": "Python 3",
   "language": "python",
   "name": "python3"
  },
  "language_info": {
   "codemirror_mode": {
    "name": "ipython",
    "version": 3
   },
   "file_extension": ".py",
   "mimetype": "text/x-python",
   "name": "python",
   "nbconvert_exporter": "python",
   "pygments_lexer": "ipython3",
   "version": "3.12.5"
  }
 },
 "nbformat": 4,
 "nbformat_minor": 2
}
