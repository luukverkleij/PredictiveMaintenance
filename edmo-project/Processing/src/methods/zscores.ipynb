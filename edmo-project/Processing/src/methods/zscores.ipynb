{
 "cells": [
  {
   "cell_type": "code",
   "execution_count": 1,
   "metadata": {},
   "outputs": [],
   "source": [
    "import pandas as pd\n",
    "from scipy.stats import linregress, median_abs_deviation\n",
    "import numpy as np\n",
    "import matplotlib.pyplot as plt\n",
    "import os\n",
    "from functools import partial\n",
    "\n",
    "from src.globals import *"
   ]
  },
  {
   "cell_type": "code",
   "execution_count": 2,
   "metadata": {},
   "outputs": [],
   "source": [
    "# Loading & Preprocessing\n",
    "df_imu = pd.read_parquet(path_imu)\n",
    "df_motor = pd.read_parquet(path_motor)\n",
    "\n",
    "scores = ['z', 'mz']"
   ]
  },
  {
   "cell_type": "code",
   "execution_count": 5,
   "metadata": {},
   "outputs": [],
   "source": [
    "def calc_mz_z_scores(df, columns):\n",
    "    agg_funcs = ['mean', 'std', median_abs_deviation]\n",
    "\n",
    "    df_tmp = df.groupby('timeindex_bin', as_index=False).agg({col : agg_funcs for col in columns})\n",
    "    df_tmp.columns = [col[0] if col[0] == 'timeindex_bin' else '_'.join(col).strip()  for col in df_tmp.columns]\n",
    "\n",
    "    df = df.merge(df_tmp, on=['timeindex_bin'])\n",
    "    for x in columns:\n",
    "        df[f'z_{x}'] = (df[x] - df[x + '_mean']) / df[x + '_std']\n",
    "        df[f'mz_{x}'] = (0.6745*(df[x] - df[x + '_mean'])) / df[x + '_median_abs_deviation']\n",
    "\n",
    "    return df.drop(columns=[col for col in df_tmp.columns if any(col.endswith(suffix) for suffix in ['mean', 'std', 'median_abs_deviation'])])\n",
    "\n",
    "def combine_mz_z_scores(df, sensor, axes, squared=False):\n",
    "    func = np.abs if not squared else np.sqrt\n",
    "    \n",
    "    z_cols = [f'z_{sensor}_{axis}' for axis in axes]\n",
    "    mz_cols = [f'mz_{sensor}_{axis}' for axis in axes]\n",
    "\n",
    "    df[f'z_{sensor}'] = func(df[z_cols]).sum(axis=1) / len(z_cols)\n",
    "    df[f'mz_{sensor}'] = func(df[mz_cols]).sum(axis=1) / len(mz_cols)\n",
    "\n",
    "    return df.drop(columns=z_cols + mz_cols)"
   ]
  },
  {
   "cell_type": "code",
   "execution_count": 6,
   "metadata": {},
   "outputs": [],
   "source": [
    "df_imu = calc_mz_z_scores(df_imu, imu_sensors_u)\n",
    "df_motor = calc_mz_z_scores(df_motor, motor_sensors_u)\n",
    "\n",
    "for (sensor, axes) in imu_sensor_axes:\n",
    "    df_imu = combine_mz_z_scores(df_imu, sensor, axes)\n",
    "df_motor = combine_mz_z_scores(df_motor, motor_sensors[0], motor_axes)"
   ]
  },
  {
   "cell_type": "code",
   "execution_count": 8,
   "metadata": {},
   "outputs": [],
   "source": [
    "cols_imu_results = [f'{score}_{sensor}' for sensor in imu_sensors for score in scores]\n",
    "cols_motor_results = [f'{score}_{sensor}' for sensor in motor_sensors for score in scores]\n",
    "\n",
    "# Saving it to the tracks db\n",
    "df_imu_results = pd.read_parquet(path_imu_results)\n",
    "df_imu_results = df_imu_results.merge(df_imu[['seqid', 'timeindex_bin'] + cols_imu_results], on=['seqid', 'timeindex_bin'] )\n",
    "df_imu_results.to_parquet(path_imu_results)\n",
    "\n",
    "df_motor_results = pd.read_parquet(path_motor_results)\n",
    "df_motor_results = df_motor_results.merge(df_motor[['seqid', 'timeindex_bin'] + cols_motor_results], on=['seqid', 'timeindex_bin'])\n",
    "df_motor_results.to_parquet(path_motor_results)"
   ]
  },
  {
   "cell_type": "markdown",
   "metadata": {},
   "source": [
    "# Series"
   ]
  },
  {
   "cell_type": "code",
   "execution_count": 8,
   "metadata": {},
   "outputs": [],
   "source": [
    "def func(x):\n",
    "    return np.sum(abs(x) >= threshold_z)\n",
    "\n",
    "df_imu_series = df_imu.groupby(['seqid']).agg({f'{sensor}_{score}' : func for sensor in imu_sensors for score in scores})\n",
    "df_motor_series = df_motor.groupby(['seqid']).agg({f'output_{score}' : func for score in scores})\n",
    "df_series = df_imu_series.merge(df_motor_series, on='seqid')"
   ]
  },
  {
   "cell_type": "code",
   "execution_count": 11,
   "metadata": {},
   "outputs": [],
   "source": [
    "df_series_results = pd.read_parquet(path_series_results)\n",
    "\n",
    "df_series_results = df_series_results.merge(df_series, on=['seqid'], suffixes=('', '_drop'))\n",
    "df_series_results = df_series_results.drop([col for col in df_series_results.columns if col.endswith('_drop')], axis=1)\n",
    "\n",
    "df_series_results.to_parquet(path_series_results)"
   ]
  }
 ],
 "metadata": {
  "kernelspec": {
   "display_name": "Python 3",
   "language": "python",
   "name": "python3"
  },
  "language_info": {
   "codemirror_mode": {
    "name": "ipython",
    "version": 3
   },
   "file_extension": ".py",
   "mimetype": "text/x-python",
   "name": "python",
   "nbconvert_exporter": "python",
   "pygments_lexer": "ipython3",
   "version": "3.12.5"
  }
 },
 "nbformat": 4,
 "nbformat_minor": 2
}
