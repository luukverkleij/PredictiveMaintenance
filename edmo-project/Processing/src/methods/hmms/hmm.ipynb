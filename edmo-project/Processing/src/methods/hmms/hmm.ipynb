{
 "cells": [
  {
   "cell_type": "code",
   "execution_count": 19,
   "metadata": {},
   "outputs": [],
   "source": [
    "import pandas as pd\n",
    "import numpy as np\n",
    "\n",
    "from hmmlearn import hmm\n",
    "from sklearn.preprocessing import StandardScaler\n",
    "\n",
    "import src.globals as g\n",
    "import src.evaluation.utils as u"
   ]
  },
  {
   "cell_type": "code",
   "execution_count": 20,
   "metadata": {},
   "outputs": [],
   "source": [
    "df_in = pd.read_parquet(g.path_imu)"
   ]
  },
  {
   "cell_type": "code",
   "execution_count": 23,
   "metadata": {},
   "outputs": [
    {
     "name": "stdout",
     "output_type": "stream",
     "text": [
      "fitting model for acceleration\n"
     ]
    },
    {
     "name": "stderr",
     "output_type": "stream",
     "text": [
      "         1 -6548678.76807587             +nan\n",
      "         2  241851.38711047 +6790530.15518634\n",
      "         3  210978.03200375  -30873.35510672\n",
      "Model is not converging.  Current: 210978.03200375216 is not greater than 241851.38711046742. Delta is -30873.35510671526\n"
     ]
    }
   ],
   "source": [
    "for (sensor, axes) in [('acceleration', ['x', 'y', 'z'])]:\n",
    "    columns = [f'{sensor}_{axis}' for axis in axes]\n",
    "    lengths = df_in.groupby('seqid').size().values\n",
    "    X = df_in[columns].values.reshape(-1, len(columns))\n",
    "\n",
    "    model = hmm.GMMHMM(n_components=2, covariance_type='full', n_iter=200, verbose=True)\n",
    "\n",
    "    print(f\"fitting model for {sensor}\")\n",
    "    model.fit(X, lengths=lengths)"
   ]
  },
  {
   "cell_type": "code",
   "execution_count": null,
   "metadata": {},
   "outputs": [],
   "source": []
  }
 ],
 "metadata": {
  "kernelspec": {
   "display_name": "Python 3",
   "language": "python",
   "name": "python3"
  },
  "language_info": {
   "codemirror_mode": {
    "name": "ipython",
    "version": 3
   },
   "file_extension": ".py",
   "mimetype": "text/x-python",
   "name": "python",
   "nbconvert_exporter": "python",
   "pygments_lexer": "ipython3",
   "version": "3.12.5"
  }
 },
 "nbformat": 4,
 "nbformat_minor": 2
}
