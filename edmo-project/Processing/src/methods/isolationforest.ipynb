{
 "cells": [
  {
   "cell_type": "code",
   "execution_count": 7,
   "metadata": {},
   "outputs": [],
   "source": [
    "import pandas as pd\n",
    "from sklearn.ensemble import IsolationForest\n",
    "from sklearn.preprocessing import MinMaxScaler"
   ]
  },
  {
   "cell_type": "code",
   "execution_count": 8,
   "metadata": {},
   "outputs": [],
   "source": [
    "from src.globals import *"
   ]
  },
  {
   "cell_type": "code",
   "execution_count": 9,
   "metadata": {},
   "outputs": [],
   "source": [
    "df_imu = pd.read_parquet(path_imu)\n",
    "df_motor = pd.read_parquet(path_motor)\n",
    "\n",
    "n_estimators = 500\n",
    "contamination = 0.02\n",
    "random_state=42"
   ]
  },
  {
   "cell_type": "code",
   "execution_count": 10,
   "metadata": {},
   "outputs": [],
   "source": [
    "# Min Max Normalization IMU\n",
    "for sensor, axes in imu_sensor_axes:\n",
    "    columns = [f'{sensor}_{axis}' for axis in axes]\n",
    "    values = df_imu[columns].values\n",
    "\n",
    "    scaler = MinMaxScaler((-1, 1)).fit(values.reshape(-1, 1))\n",
    "    for col in columns:\n",
    "        df_imu[col] = scaler.transform(df_imu[col].values.reshape(-1, 1))\n",
    "\n",
    "df_motor[motor_sensors_u] = MinMaxScaler((-1, 1)).fit_transform(df_motor[motor_sensors_u])"
   ]
  },
  {
   "cell_type": "code",
   "execution_count": null,
   "metadata": {},
   "outputs": [],
   "source": [
    "iso_forest= IsolationForest(n_estimators=n_estimators, contamination=contamination, n_jobs=-1)\n",
    "lofcols = []\n",
    "\n",
    "for sensor, axes in imu_sensor_axes:\n",
    "    X = df_imu[['timeindex_bin'] + [f'{sensor}_{axis}' for axis in axes]]\n",
    "    df_imu[f'if_{sensor}'] = iso_forest.fit(X).score_samples(X) * -1\n",
    "    lofcols = lofcols + [f'if_{sensor}']\n",
    "\n",
    "X = df_motor[['timeindex_bin'] + motor_sensors_u]\n",
    "df_motor['if_motor'] = iso_forest.fit(X).score_samples(X) * -1"
   ]
  },
  {
   "cell_type": "code",
   "execution_count": 16,
   "metadata": {},
   "outputs": [],
   "source": [
    "df_imu_results = pd.read_parquet(path_imu_results)\n",
    "df_motor_results = pd.read_parquet(path_motor_results)\n",
    "\n",
    "df_imu_results = df_imu_results.merge(df_imu[['seqid', 'timeindex_bin'] + lofcols], on=['seqid', 'timeindex_bin'], suffixes=('', '_drop'))\n",
    "df_imu_results = df_imu_results.drop([col for col in df_imu_results.columns if col.endswith('_drop')], axis=1)\n",
    "\n",
    "df_motor_results = df_motor_results.merge(df_motor[['seqid', 'timeindex_bin', 'if_motor']], on=['seqid', 'timeindex_bin'], suffixes=('', '_drop'))\n",
    "df_motor_results = df_motor_results.drop([col for col in df_motor_results.columns if col.endswith('_drop')], axis=1)\n",
    "\n",
    "df_imu_results.to_parquet(path_imu_results)\n",
    "df_motor_results.to_parquet(path_motor_results)"
   ]
  }
 ],
 "metadata": {
  "kernelspec": {
   "display_name": "Python 3",
   "language": "python",
   "name": "python3"
  },
  "language_info": {
   "codemirror_mode": {
    "name": "ipython",
    "version": 3
   },
   "file_extension": ".py",
   "mimetype": "text/x-python",
   "name": "python",
   "nbconvert_exporter": "python",
   "pygments_lexer": "ipython3",
   "version": "3.11.3"
  }
 },
 "nbformat": 4,
 "nbformat_minor": 2
}
