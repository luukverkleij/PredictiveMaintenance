{
 "cells": [
  {
   "cell_type": "code",
   "execution_count": 1,
   "metadata": {},
   "outputs": [],
   "source": [
    "%load_ext autoreload\n",
    "%autoreload 2\n",
    "\n",
    "import os\n",
    "import pickle\n",
    "import pandas as pd\n",
    "import matplotlib.pyplot as plt\n",
    "import concurrent.futures\n",
    "import numpy as np\n",
    "\n",
    "import warnings\n",
    "from typing import Self\n",
    "from datetime import datetime\n",
    "from functools import reduce\n",
    "from sklearn.metrics import precision_recall_curve, auc, roc_curve\n",
    "from concurrent.futures import ThreadPoolExecutor, wait, FIRST_COMPLETED\n",
    "\n",
    "import src.utils.anomalydetectors as m\n",
    "import src.utils.globals as g\n",
    "import src.utils.aggregators as agg\n",
    "\n",
    "from src.utils.experiment import Experiment\n",
    "from src.utils.noise import NoiseFactory\n",
    "from src.utils.plotting import plot_rpcurves"
   ]
  },
  {
   "cell_type": "code",
   "execution_count": 2,
   "metadata": {},
   "outputs": [],
   "source": [
    "def run_experiment(df : pd.DataFrame, models, columns, name):\n",
    "    df['anomalous'] = df['anomaly_syn_type'] != \"\"\n",
    "    df_anomalies = df.groupby('seqid').agg({'anomalous' : any})\n",
    "\n",
    "    experiment = Experiment(name)\n",
    "    experiment.run(df, models, columns, verbose=True)\n",
    "    experiment.set_anomalies(df_anomalies)\n",
    "    experiment.calculate_metrics(models=models, aggrfunc=agg.aggr_sum)\n",
    "\n",
    "    experiment.pickle()\n",
    "\n",
    "    return experiment\n",
    "\n",
    "def run_gaussian_experiment(df : pd.DataFrame, models, columns, ratio, intensity, robotids = []):\n",
    "    name = f\"gaussian_{ratio}_{intensity}\"\n",
    "\n",
    "    if robotids:\n",
    "        df = df[df['robotid'].isin(robotids)]\n",
    "        name = name + f\"_{'_'.join(item.strip() for item in robotids)}\"\n",
    "\n",
    "    df_syn = NoiseFactory.gaussian(df, columns[0], ratio, intensity)\n",
    "    return run_experiment(df_syn, models, columns, name)"
   ]
  },
  {
   "cell_type": "code",
   "execution_count": null,
   "metadata": {},
   "outputs": [],
   "source": [
    "df_in = pd.read_parquet(g.path_imu)\n",
    "models = {\"z\" : m.ZScore(), \"mz\" : m.MZScore(), \"lof\" : m.LOF(), 'if' : m.IF()}\n",
    "print(df_in['seqid'].unique(), len(df_in['seqid'].unique()))"
   ]
  }
 ],
 "metadata": {
  "kernelspec": {
   "display_name": "Python 3",
   "language": "python",
   "name": "python3"
  },
  "language_info": {
   "codemirror_mode": {
    "name": "ipython",
    "version": 3
   },
   "file_extension": ".py",
   "mimetype": "text/x-python",
   "name": "python",
   "nbconvert_exporter": "python",
   "pygments_lexer": "ipython3",
   "version": "3.11.3"
  }
 },
 "nbformat": 4,
 "nbformat_minor": 2
}
