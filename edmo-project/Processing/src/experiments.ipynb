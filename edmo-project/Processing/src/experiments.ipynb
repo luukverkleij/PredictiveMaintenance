{
 "cells": [
  {
   "cell_type": "code",
   "execution_count": 1,
   "metadata": {},
   "outputs": [],
   "source": [
    "%load_ext autoreload\n",
    "%autoreload 2\n",
    "\n",
    "import os\n",
    "import pandas as pd\n",
    "import matplotlib.pyplot as plt\n",
    "import numpy as np\n",
    "\n",
    "import warnings\n",
    "from typing import Self\n",
    "from datetime import datetime\n",
    "from functools import reduce\n",
    "from sklearn.metrics import precision_recall_curve, auc, roc_curve\n",
    "from concurrent.futures import ThreadPoolExecutor, wait, FIRST_COMPLETED\n",
    "\n",
    "import src.utils.anomalydetectors as m\n",
    "import src.utils.globals as g\n",
    "import src.utils.aggregators as agg\n",
    "\n",
    "from src.utils.noise import NoiseFactory\n",
    "from src.utils.plotting import plot_rpcurves\n",
    "from src.utils.experiment import Experiment\n"
   ]
  },
  {
   "cell_type": "code",
   "execution_count": 2,
   "metadata": {},
   "outputs": [],
   "source": [
    "def run_experiment(df : pd.DataFrame, models, columns, name):\n",
    "    df['anomalous'] = df['anomaly_syn_type'] != \"\"\n",
    "    df_anomalies = df.groupby('seqid').agg({'anomalous' : any})\n",
    "\n",
    "    experiment = Experiment(name)\n",
    "    experiment.run(df, models, (['seqid', 'timeindex_bin'], columns), verbose=True)\n",
    "    experiment.set_input(df)\n",
    "    experiment.set_anomalies(df_anomalies)\n",
    "    experiment.calculate_metrics(models=models, aggrfunc=agg.aggr_sum)\n",
    "\n",
    "    experiment.pickle()\n",
    "\n",
    "    return experiment\n",
    "\n",
    "def run_gaussian_experiment(df : pd.DataFrame, models, exp_columns, syn_column, ratio, intensity, robotids = []):\n",
    "    name = f\"gaussian_{ratio}_{intensity}\"\n",
    "\n",
    "    if robotids:\n",
    "        df = df[df['robotid'].isin(robotids)]\n",
    "        name = name + f\"_{'_'.join(item.strip() for item in robotids)}\"\n",
    "\n",
    "    df_syn = NoiseFactory.gaussian(df, syn_column, ratio, intensity)\n",
    "    return run_experiment(df_syn, models, exp_columns, name)\n",
    "\n",
    "def run_sinusoidal_experiment(df : pd.DataFrame, models, columns, ratio, intensity, robotids = []):\n",
    "    name = f\"sinus_{ratio}_{intensity}\"\n",
    "\n",
    "    if robotids:\n",
    "        df = df[df['robotid'].isin(robotids)]\n",
    "        name = name + f\"_{'_'.join(item.strip() for item in robotids)}\"\n",
    "\n",
    "    df_syn = NoiseFactory.sinusoidal(df, columns[0], ratio, intensity)\n",
    "    return run_experiment(df_syn, models, columns, name)\n",
    "\n",
    "def run_point_experiment(df : pd.DataFrame, models, columns, ratio, intensity, robotids = []):\n",
    "    name = f\"point_{ratio}_{intensity}\"\n",
    "\n",
    "    if robotids:\n",
    "        df = df[df['robotid'].isin(robotids)]\n",
    "        name = name + f\"_{'_'.join(item.strip() for item in robotids)}\"\n",
    "\n",
    "    df_syn = NoiseFactory.point(df, columns[0], ratio, intensity)\n",
    "    return run_experiment(df_syn, models, columns, name)\n"
   ]
  },
  {
   "cell_type": "code",
   "execution_count": 3,
   "metadata": {},
   "outputs": [],
   "source": [
    "df_in = pd.read_parquet(g.path_imu)\n",
    "df_in['timeindex'] = df_in['timeindex'] / df_in['timeindex'].max()"
   ]
  },
  {
   "cell_type": "code",
   "execution_count": 8,
   "metadata": {},
   "outputs": [
    {
     "data": {
      "text/plain": [
       "np.int64(61)"
      ]
     },
     "execution_count": 8,
     "metadata": {},
     "output_type": "execute_result"
    }
   ],
   "source": [
    "models = [m.MahalanobisDistance()]\n",
    "exp_columns = [f'acceleration_{x}' for x in ['x', 'y', 'z']]\n",
    "\n",
    "\n",
    "df_in[['timeindex'] + exp_columns].duplicated().sum()"
   ]
  },
  {
   "cell_type": "markdown",
   "metadata": {},
   "source": [
    "# GAUSSIAN"
   ]
  },
  {
   "cell_type": "code",
   "execution_count": 11,
   "metadata": {},
   "outputs": [
    {
     "name": "stdout",
     "output_type": "stream",
     "text": [
      "Running Experiment gaussian 0.05\n",
      "model_fit_scores mahalanobis for 1 on (['seqid', 'timeindex_bin'], ['acceleration_x', 'acceleration_y', 'acceleration_z'])\n"
     ]
    },
    {
     "name": "stderr",
     "output_type": "stream",
     "text": [
      "c:\\Users\\Luuk Verkleij\\AppData\\Local\\Programs\\Python\\Python312\\Lib\\site-packages\\scipy\\spatial\\distance.py:1035: RuntimeWarning: invalid value encountered in sqrt\n",
      "  return np.sqrt(m)\n",
      "c:\\Users\\Luuk Verkleij\\AppData\\Local\\Programs\\Python\\Python312\\Lib\\site-packages\\scipy\\spatial\\distance.py:1035: RuntimeWarning: invalid value encountered in sqrt\n",
      "  return np.sqrt(m)\n",
      "c:\\Users\\Luuk Verkleij\\AppData\\Local\\Programs\\Python\\Python312\\Lib\\site-packages\\scipy\\spatial\\distance.py:1035: RuntimeWarning: invalid value encountered in sqrt\n",
      "  return np.sqrt(m)\n",
      "c:\\Users\\Luuk Verkleij\\AppData\\Local\\Programs\\Python\\Python312\\Lib\\site-packages\\scipy\\spatial\\distance.py:1035: RuntimeWarning: invalid value encountered in sqrt\n",
      "  return np.sqrt(m)\n",
      "c:\\Users\\Luuk Verkleij\\AppData\\Local\\Programs\\Python\\Python312\\Lib\\site-packages\\scipy\\spatial\\distance.py:1035: RuntimeWarning: invalid value encountered in sqrt\n",
      "  return np.sqrt(m)\n",
      "c:\\Users\\Luuk Verkleij\\AppData\\Local\\Programs\\Python\\Python312\\Lib\\site-packages\\scipy\\spatial\\distance.py:1035: RuntimeWarning: invalid value encountered in sqrt\n",
      "  return np.sqrt(m)\n",
      "c:\\Users\\Luuk Verkleij\\AppData\\Local\\Programs\\Python\\Python312\\Lib\\site-packages\\scipy\\spatial\\distance.py:1035: RuntimeWarning: invalid value encountered in sqrt\n",
      "  return np.sqrt(m)\n",
      "c:\\Users\\Luuk Verkleij\\AppData\\Local\\Programs\\Python\\Python312\\Lib\\site-packages\\scipy\\spatial\\distance.py:1035: RuntimeWarning: invalid value encountered in sqrt\n",
      "  return np.sqrt(m)\n",
      "c:\\Users\\Luuk Verkleij\\AppData\\Local\\Programs\\Python\\Python312\\Lib\\site-packages\\scipy\\spatial\\distance.py:1035: RuntimeWarning: invalid value encountered in sqrt\n",
      "  return np.sqrt(m)\n",
      "c:\\Users\\Luuk Verkleij\\AppData\\Local\\Programs\\Python\\Python312\\Lib\\site-packages\\scipy\\spatial\\distance.py:1035: RuntimeWarning: invalid value encountered in sqrt\n",
      "  return np.sqrt(m)\n",
      "c:\\Users\\Luuk Verkleij\\AppData\\Local\\Programs\\Python\\Python312\\Lib\\site-packages\\scipy\\spatial\\distance.py:1035: RuntimeWarning: invalid value encountered in sqrt\n",
      "  return np.sqrt(m)\n",
      "c:\\Users\\Luuk Verkleij\\AppData\\Local\\Programs\\Python\\Python312\\Lib\\site-packages\\scipy\\spatial\\distance.py:1035: RuntimeWarning: invalid value encountered in sqrt\n",
      "  return np.sqrt(m)\n"
     ]
    },
    {
     "name": "stdout",
     "output_type": "stream",
     "text": [
      "mahalanobis\n",
      "        1/1\n",
      "Running Experiment gaussian 0.15\n",
      "model_fit_scores mahalanobis for 1 on (['seqid', 'timeindex_bin'], ['acceleration_x', 'acceleration_y', 'acceleration_z'])\n",
      "mahalanobis\n",
      "        1/1\n",
      "Running Experiment gaussian 0.25\n",
      "model_fit_scores mahalanobis for 1 on (['seqid', 'timeindex_bin'], ['acceleration_x', 'acceleration_y', 'acceleration_z'])\n",
      "mahalanobis\n",
      "        1/1\n"
     ]
    }
   ],
   "source": [
    "exps_gaussian = {}\n",
    "for intensity in [0.05, 0.15, 0.25]:\n",
    "    print(f\"Running Experiment gaussian {intensity}\")\n",
    "    exp = run_gaussian_experiment(df_in, models, exp_columns, exp_columns[0], ratio=0.1, intensity=intensity)\n",
    "    exps_gaussian[exp.name] = exp\n",
    "    "
   ]
  },
  {
   "cell_type": "code",
   "execution_count": 12,
   "metadata": {},
   "outputs": [
    {
     "data": {
      "image/png": "[encoded data removed]",
      "text/plain": [
       "<Figure size 1500x500 with 3 Axes>"
      ]
     },
     "metadata": {},
     "output_type": "display_data"
    }
   ],
   "source": [
    "rp_curves = {}\n",
    "for exp in models:\n",
    "    mname = exp.name\n",
    "    rp_curves[mname] = {}\n",
    "    for (ename, exp) in exps_gaussian.items():\n",
    "        rp_curves[mname][ename] = exp.results['pr'][mname]\n",
    "    with warnings.catch_warnings(action=\"ignore\"):\n",
    "        plot_rpcurves(rp_curves[mname], colnums=3, title=mname, auc=True, f1=False)"
   ]
  },
  {
   "cell_type": "code",
   "execution_count": null,
   "metadata": {
    "vscode": {
     "languageId": "ruby"
    }
   },
   "outputs": [],
   "source": [
    "def plot_acceleration(df, seqid):\n",
    "    df_seqid = df[df['seqid'] == seqid]\n",
    "\n",
    "    plt.figure(figsize=(12, 6))\n",
    "    plt.plot(df_seqid['timeindex'], df_seqid['acceleration_x'], label='Acceleration X')\n",
    "    plt.plot(df_seqid['timeindex'], df_seqid['acceleration_y'], label='Acceleration Y')\n",
    "    plt.plot(df_seqid['timeindex'], df_seqid['acceleration_z'], label='Acceleration Z')\n",
    "    plt.xlabel('Time Index')\n",
    "    plt.ylabel('Acceleration')\n",
    "    plt.title(f'Acceleration Data for seqid: {seqid}')\n",
    "    plt.legend()\n",
    "    plt.show()\n",
    "\n",
    "\n",
    "tmpdf = list(exps_gaussian.items())[0][1].results['input']\n",
    "seqid = \"2024.09.16|04.21.37|original\"\n",
    "plot_acceleration(tmpdf, seqid)\n"
   ]
  },
  {
   "cell_type": "code",
   "execution_count": null,
   "metadata": {},
   "outputs": [],
   "source": [
    "df_seqid = tmpdf[tmpdf['seqid'] == seqid]\n",
    "duplicates = df_seqid[df_seqid.duplicated(subset=['seqid', 'timeindex_bin'], keep=False)]\n",
    "print(duplicates)"
   ]
  },
  {
   "cell_type": "markdown",
   "metadata": {},
   "source": [
    "# SINUSOIDAL"
   ]
  },
  {
   "cell_type": "code",
   "execution_count": null,
   "metadata": {},
   "outputs": [],
   "source": [
    "exps_sinusoidal = {}\n",
    "for intensity in [0.25, 0.5, 0.75, 1, 1.5, 2]:\n",
    "    print(f\"Running Experiment sinusoidal {intensity}\")\n",
    "    exp = run_sinusoidal_experiment(df_in, models, exp_columns, exp_columns[0], ratio=0.1, intensity=intensity)\n",
    "    exps_sinusoidal[exp.name] = exp"
   ]
  },
  {
   "cell_type": "code",
   "execution_count": null,
   "metadata": {},
   "outputs": [],
   "source": [
    "rp_curves = {}\n",
    "for (mname, _) in models.items():\n",
    "    rp_curves[mname] = {}\n",
    "    for (ename, exp) in exps_sinusoidal.items():\n",
    "        rp_curves[mname][ename] = exp.results['pr'][mname]\n",
    "    with warnings.catch_warnings(action=\"ignore\"):\n",
    "        plot_rpcurves(rp_curves[mname], colnums=3, title=mname, auc=True, f1=False)"
   ]
  },
  {
   "cell_type": "markdown",
   "metadata": {},
   "source": [
    "# POINT"
   ]
  },
  {
   "cell_type": "code",
   "execution_count": null,
   "metadata": {},
   "outputs": [],
   "source": [
    "exps_point = {}\n",
    "for intensity in [1, 5, 10, 100]:\n",
    "    print(f\"Running Experiment point {intensity}\")\n",
    "    exp = run_point_experiment(df_in, models, ['torqueactual'], ratio=0.1, intensity=intensity, robotids=ids)\n",
    "    exps_point[exp.name] = exp"
   ]
  },
  {
   "cell_type": "code",
   "execution_count": null,
   "metadata": {},
   "outputs": [],
   "source": [
    "rp_curves = {}\n",
    "for (mname, _) in models.items():\n",
    "    rp_curves[mname] = {}\n",
    "    for (ename, exp) in exps_point.items():\n",
    "        rp_curves[mname][ename] = exp.results['pr'][mname]\n",
    "    plot_rpcurves(rp_curves[mname], colnums=3, title=mname)   "
   ]
  },
  {
   "cell_type": "code",
   "execution_count": null,
   "metadata": {},
   "outputs": [],
   "source": [
    "# for intensity in [0.025, 0.05, 0.075, 0.1, 0.125, 0.15]:\n",
    "#     print(f\"Running Experiment gaussian {intensity}\")\n",
    "#     run_gaussian_experiment(df_in, models, ['torqueactual'], 0.1, intensity)\n",
    "# for intensity in [0.25, 0.5, 0.75, 1, 1.25, 1.5]:\n",
    "#     print(f\"Running Experiment point {intensity}\")\n",
    "#     run_point_experiment(df_in, models, ['torqueactual'], 0.1, intensity)\n",
    "#     print(f\"Running Experiment sinusoidal {intensity}\")\n",
    "#     run_sinusoidal_experiment(df_in, models, ['torqueactual'], 0.1, intensity)"
   ]
  },
  {
   "cell_type": "code",
   "execution_count": null,
   "metadata": {},
   "outputs": [],
   "source": [
    "folder_path = g.experiments_folder_path\n",
    "\n",
    "files_to_unpickle = [\n",
    "    file for file in os.listdir(folder_path)\n",
    "    if os.path.isfile(os.path.join(folder_path, file)) and file.endswith(\"6640-102140-1\")\n",
    "]\n",
    "\n",
    "files_to_unpickle\n"
   ]
  },
  {
   "cell_type": "code",
   "execution_count": null,
   "metadata": {},
   "outputs": [],
   "source": [
    "unpickled_data = {}\n",
    "for file_name in files_to_unpickle:\n",
    "    unpickled_data[file_name] = Experiment.unpickle(file_name)    \n",
    "    \n",
    "for (name, exp) in unpickled_data.items():\n",
    "    print(f\"{name} - {exp.results['auc-pr']}\")"
   ]
  }
 ],
 "metadata": {
  "kernelspec": {
   "display_name": "Python 3",
   "language": "python",
   "name": "python3"
  },
  "language_info": {
   "codemirror_mode": {
    "name": "ipython",
    "version": 3
   },
   "file_extension": ".py",
   "mimetype": "text/x-python",
   "name": "python",
   "nbconvert_exporter": "python",
   "pygments_lexer": "ipython3",
   "version": "3.12.4"
  }
 },
 "nbformat": 4,
 "nbformat_minor": 2
}
